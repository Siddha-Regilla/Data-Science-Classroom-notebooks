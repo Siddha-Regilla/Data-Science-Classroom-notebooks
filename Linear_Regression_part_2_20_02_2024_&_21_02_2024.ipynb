{
  "cells": [
    {
      "cell_type": "markdown",
      "metadata": {
        "id": "view-in-github",
        "colab_type": "text"
      },
      "source": [
        "<a href=\"https://colab.research.google.com/github/Siddha-Regilla/Data-Science-Classroom-notebooks/blob/main/Linear_Regression_part_2_20_02_2024_%26_21_02_2024.ipynb\" target=\"_parent\"><img src=\"https://colab.research.google.com/assets/colab-badge.svg\" alt=\"Open In Colab\"/></a>"
      ]
    },
    {
      "cell_type": "code",
      "execution_count": null,
      "metadata": {
        "ExecuteTime": {
          "end_time": "2022-09-23T04:36:22.133408Z",
          "start_time": "2022-09-23T04:36:21.714395Z"
        },
        "id": "HAw6Z4kl899H"
      },
      "outputs": [],
      "source": [
        "#Importing Library\n",
        "import pandas as pd\n",
        "import numpy as np\n",
        "import matplotlib.pyplot as plt\n",
        "import warnings\n",
        "warnings.filterwarnings('ignore')\n",
        "import seaborn as sns\n",
        "import statsmodels.formula.api as smf # for Linear Regression\n"
      ]
    },
    {
      "cell_type": "code",
      "source": [
        "# Upload dataset - wc-at.csv\n",
        "# reading a csv file using pandas library\n",
        "wcat=pd.read_csv(\"wc-at.csv\")\n",
        "pd.set_option('display.min_rows', None)"
      ],
      "metadata": {
        "id": "kBOms7HxB_ct"
      },
      "execution_count": null,
      "outputs": []
    },
    {
      "cell_type": "code",
      "execution_count": null,
      "metadata": {
        "ExecuteTime": {
          "end_time": "2022-08-04T11:04:17.965712Z",
          "start_time": "2022-08-04T11:04:17.951381Z"
        },
        "colab": {
          "base_uri": "https://localhost:8080/"
        },
        "id": "9a987iP5899Q",
        "outputId": "953000f4-0bab-4a1d-ed22-ad370d467915"
      },
      "outputs": [
        {
          "output_type": "execute_result",
          "data": {
            "text/plain": [
              "(109, 2)"
            ]
          },
          "metadata": {},
          "execution_count": 4
        }
      ],
      "source": [
        "# To know the number of rows and columns\n",
        "wcat.shape"
      ]
    },
    {
      "cell_type": "code",
      "execution_count": null,
      "metadata": {
        "ExecuteTime": {
          "end_time": "2022-09-23T04:39:05.787811Z",
          "start_time": "2022-09-23T04:39:05.749635Z"
        },
        "colab": {
          "base_uri": "https://localhost:8080/",
          "height": 1000
        },
        "id": "O2X2MHKJ899T",
        "outputId": "400049b2-b4e7-4881-a24f-afc0e12db062"
      },
      "outputs": [
        {
          "output_type": "execute_result",
          "data": {
            "text/plain": [
              "      Waist      AT\n",
              "0     74.75   25.72\n",
              "1     72.60   25.89\n",
              "2     81.80   42.60\n",
              "3     83.95   42.80\n",
              "4     74.65   29.84\n",
              "5     71.85   21.68\n",
              "6     80.90   29.08\n",
              "7     83.40   32.98\n",
              "8     63.50   11.44\n",
              "9     73.20   32.22\n",
              "10    71.90   28.32\n",
              "11    75.00   43.86\n",
              "12    73.10   38.21\n",
              "13    79.00   42.48\n",
              "14    77.00   30.96\n",
              "15    68.85   55.78\n",
              "16    75.95   43.78\n",
              "17    74.15   33.41\n",
              "18    73.80   43.35\n",
              "19    75.90   29.31\n",
              "20    76.85   36.60\n",
              "21    80.90   40.25\n",
              "22    79.90   35.43\n",
              "23    89.20   60.09\n",
              "24    82.00   45.84\n",
              "25    92.00   70.40\n",
              "26    86.60   83.45\n",
              "27    80.50   84.30\n",
              "28    86.00   78.89\n",
              "29    82.50   64.75\n",
              "..      ...     ...\n",
              "79   109.00  192.00\n",
              "80   103.50  132.00\n",
              "81   110.00  126.00\n",
              "82   110.00  153.00\n",
              "83   112.00  158.00\n",
              "84   108.50  183.00\n",
              "85   104.00  184.00\n",
              "86   111.00  121.00\n",
              "87   108.50  159.00\n",
              "88   121.00  245.00\n",
              "89   109.00  137.00\n",
              "90    97.50  165.00\n",
              "91   105.50  152.00\n",
              "92    98.00  181.00\n",
              "93    94.50   80.95\n",
              "94    97.00  137.00\n",
              "95   105.00  125.00\n",
              "96   106.00  241.00\n",
              "97    99.00  134.00\n",
              "98    91.00  150.00\n",
              "99   102.50  198.00\n",
              "100  106.00  151.00\n",
              "101  109.10  229.00\n",
              "102  115.00  253.00\n",
              "103  101.00  188.00\n",
              "104  100.10  124.00\n",
              "105   93.30   62.20\n",
              "106  101.80  133.00\n",
              "107  107.90  208.00\n",
              "108  108.50  208.00\n",
              "\n",
              "[109 rows x 2 columns]"
            ],
            "text/html": [
              "\n",
              "  <div id=\"df-2a38f7bc-9d4d-4073-827f-0695a7d1ce17\" class=\"colab-df-container\">\n",
              "    <div>\n",
              "<style scoped>\n",
              "    .dataframe tbody tr th:only-of-type {\n",
              "        vertical-align: middle;\n",
              "    }\n",
              "\n",
              "    .dataframe tbody tr th {\n",
              "        vertical-align: top;\n",
              "    }\n",
              "\n",
              "    .dataframe thead th {\n",
              "        text-align: right;\n",
              "    }\n",
              "</style>\n",
              "<table border=\"1\" class=\"dataframe\">\n",
              "  <thead>\n",
              "    <tr style=\"text-align: right;\">\n",
              "      <th></th>\n",
              "      <th>Waist</th>\n",
              "      <th>AT</th>\n",
              "    </tr>\n",
              "  </thead>\n",
              "  <tbody>\n",
              "    <tr>\n",
              "      <th>0</th>\n",
              "      <td>74.75</td>\n",
              "      <td>25.72</td>\n",
              "    </tr>\n",
              "    <tr>\n",
              "      <th>1</th>\n",
              "      <td>72.60</td>\n",
              "      <td>25.89</td>\n",
              "    </tr>\n",
              "    <tr>\n",
              "      <th>2</th>\n",
              "      <td>81.80</td>\n",
              "      <td>42.60</td>\n",
              "    </tr>\n",
              "    <tr>\n",
              "      <th>3</th>\n",
              "      <td>83.95</td>\n",
              "      <td>42.80</td>\n",
              "    </tr>\n",
              "    <tr>\n",
              "      <th>4</th>\n",
              "      <td>74.65</td>\n",
              "      <td>29.84</td>\n",
              "    </tr>\n",
              "    <tr>\n",
              "      <th>5</th>\n",
              "      <td>71.85</td>\n",
              "      <td>21.68</td>\n",
              "    </tr>\n",
              "    <tr>\n",
              "      <th>6</th>\n",
              "      <td>80.90</td>\n",
              "      <td>29.08</td>\n",
              "    </tr>\n",
              "    <tr>\n",
              "      <th>7</th>\n",
              "      <td>83.40</td>\n",
              "      <td>32.98</td>\n",
              "    </tr>\n",
              "    <tr>\n",
              "      <th>8</th>\n",
              "      <td>63.50</td>\n",
              "      <td>11.44</td>\n",
              "    </tr>\n",
              "    <tr>\n",
              "      <th>9</th>\n",
              "      <td>73.20</td>\n",
              "      <td>32.22</td>\n",
              "    </tr>\n",
              "    <tr>\n",
              "      <th>10</th>\n",
              "      <td>71.90</td>\n",
              "      <td>28.32</td>\n",
              "    </tr>\n",
              "    <tr>\n",
              "      <th>11</th>\n",
              "      <td>75.00</td>\n",
              "      <td>43.86</td>\n",
              "    </tr>\n",
              "    <tr>\n",
              "      <th>12</th>\n",
              "      <td>73.10</td>\n",
              "      <td>38.21</td>\n",
              "    </tr>\n",
              "    <tr>\n",
              "      <th>13</th>\n",
              "      <td>79.00</td>\n",
              "      <td>42.48</td>\n",
              "    </tr>\n",
              "    <tr>\n",
              "      <th>14</th>\n",
              "      <td>77.00</td>\n",
              "      <td>30.96</td>\n",
              "    </tr>\n",
              "    <tr>\n",
              "      <th>15</th>\n",
              "      <td>68.85</td>\n",
              "      <td>55.78</td>\n",
              "    </tr>\n",
              "    <tr>\n",
              "      <th>16</th>\n",
              "      <td>75.95</td>\n",
              "      <td>43.78</td>\n",
              "    </tr>\n",
              "    <tr>\n",
              "      <th>17</th>\n",
              "      <td>74.15</td>\n",
              "      <td>33.41</td>\n",
              "    </tr>\n",
              "    <tr>\n",
              "      <th>18</th>\n",
              "      <td>73.80</td>\n",
              "      <td>43.35</td>\n",
              "    </tr>\n",
              "    <tr>\n",
              "      <th>19</th>\n",
              "      <td>75.90</td>\n",
              "      <td>29.31</td>\n",
              "    </tr>\n",
              "    <tr>\n",
              "      <th>20</th>\n",
              "      <td>76.85</td>\n",
              "      <td>36.60</td>\n",
              "    </tr>\n",
              "    <tr>\n",
              "      <th>21</th>\n",
              "      <td>80.90</td>\n",
              "      <td>40.25</td>\n",
              "    </tr>\n",
              "    <tr>\n",
              "      <th>22</th>\n",
              "      <td>79.90</td>\n",
              "      <td>35.43</td>\n",
              "    </tr>\n",
              "    <tr>\n",
              "      <th>23</th>\n",
              "      <td>89.20</td>\n",
              "      <td>60.09</td>\n",
              "    </tr>\n",
              "    <tr>\n",
              "      <th>24</th>\n",
              "      <td>82.00</td>\n",
              "      <td>45.84</td>\n",
              "    </tr>\n",
              "    <tr>\n",
              "      <th>25</th>\n",
              "      <td>92.00</td>\n",
              "      <td>70.40</td>\n",
              "    </tr>\n",
              "    <tr>\n",
              "      <th>26</th>\n",
              "      <td>86.60</td>\n",
              "      <td>83.45</td>\n",
              "    </tr>\n",
              "    <tr>\n",
              "      <th>27</th>\n",
              "      <td>80.50</td>\n",
              "      <td>84.30</td>\n",
              "    </tr>\n",
              "    <tr>\n",
              "      <th>28</th>\n",
              "      <td>86.00</td>\n",
              "      <td>78.89</td>\n",
              "    </tr>\n",
              "    <tr>\n",
              "      <th>29</th>\n",
              "      <td>82.50</td>\n",
              "      <td>64.75</td>\n",
              "    </tr>\n",
              "    <tr>\n",
              "      <th>...</th>\n",
              "      <td>...</td>\n",
              "      <td>...</td>\n",
              "    </tr>\n",
              "    <tr>\n",
              "      <th>79</th>\n",
              "      <td>109.00</td>\n",
              "      <td>192.00</td>\n",
              "    </tr>\n",
              "    <tr>\n",
              "      <th>80</th>\n",
              "      <td>103.50</td>\n",
              "      <td>132.00</td>\n",
              "    </tr>\n",
              "    <tr>\n",
              "      <th>81</th>\n",
              "      <td>110.00</td>\n",
              "      <td>126.00</td>\n",
              "    </tr>\n",
              "    <tr>\n",
              "      <th>82</th>\n",
              "      <td>110.00</td>\n",
              "      <td>153.00</td>\n",
              "    </tr>\n",
              "    <tr>\n",
              "      <th>83</th>\n",
              "      <td>112.00</td>\n",
              "      <td>158.00</td>\n",
              "    </tr>\n",
              "    <tr>\n",
              "      <th>84</th>\n",
              "      <td>108.50</td>\n",
              "      <td>183.00</td>\n",
              "    </tr>\n",
              "    <tr>\n",
              "      <th>85</th>\n",
              "      <td>104.00</td>\n",
              "      <td>184.00</td>\n",
              "    </tr>\n",
              "    <tr>\n",
              "      <th>86</th>\n",
              "      <td>111.00</td>\n",
              "      <td>121.00</td>\n",
              "    </tr>\n",
              "    <tr>\n",
              "      <th>87</th>\n",
              "      <td>108.50</td>\n",
              "      <td>159.00</td>\n",
              "    </tr>\n",
              "    <tr>\n",
              "      <th>88</th>\n",
              "      <td>121.00</td>\n",
              "      <td>245.00</td>\n",
              "    </tr>\n",
              "    <tr>\n",
              "      <th>89</th>\n",
              "      <td>109.00</td>\n",
              "      <td>137.00</td>\n",
              "    </tr>\n",
              "    <tr>\n",
              "      <th>90</th>\n",
              "      <td>97.50</td>\n",
              "      <td>165.00</td>\n",
              "    </tr>\n",
              "    <tr>\n",
              "      <th>91</th>\n",
              "      <td>105.50</td>\n",
              "      <td>152.00</td>\n",
              "    </tr>\n",
              "    <tr>\n",
              "      <th>92</th>\n",
              "      <td>98.00</td>\n",
              "      <td>181.00</td>\n",
              "    </tr>\n",
              "    <tr>\n",
              "      <th>93</th>\n",
              "      <td>94.50</td>\n",
              "      <td>80.95</td>\n",
              "    </tr>\n",
              "    <tr>\n",
              "      <th>94</th>\n",
              "      <td>97.00</td>\n",
              "      <td>137.00</td>\n",
              "    </tr>\n",
              "    <tr>\n",
              "      <th>95</th>\n",
              "      <td>105.00</td>\n",
              "      <td>125.00</td>\n",
              "    </tr>\n",
              "    <tr>\n",
              "      <th>96</th>\n",
              "      <td>106.00</td>\n",
              "      <td>241.00</td>\n",
              "    </tr>\n",
              "    <tr>\n",
              "      <th>97</th>\n",
              "      <td>99.00</td>\n",
              "      <td>134.00</td>\n",
              "    </tr>\n",
              "    <tr>\n",
              "      <th>98</th>\n",
              "      <td>91.00</td>\n",
              "      <td>150.00</td>\n",
              "    </tr>\n",
              "    <tr>\n",
              "      <th>99</th>\n",
              "      <td>102.50</td>\n",
              "      <td>198.00</td>\n",
              "    </tr>\n",
              "    <tr>\n",
              "      <th>100</th>\n",
              "      <td>106.00</td>\n",
              "      <td>151.00</td>\n",
              "    </tr>\n",
              "    <tr>\n",
              "      <th>101</th>\n",
              "      <td>109.10</td>\n",
              "      <td>229.00</td>\n",
              "    </tr>\n",
              "    <tr>\n",
              "      <th>102</th>\n",
              "      <td>115.00</td>\n",
              "      <td>253.00</td>\n",
              "    </tr>\n",
              "    <tr>\n",
              "      <th>103</th>\n",
              "      <td>101.00</td>\n",
              "      <td>188.00</td>\n",
              "    </tr>\n",
              "    <tr>\n",
              "      <th>104</th>\n",
              "      <td>100.10</td>\n",
              "      <td>124.00</td>\n",
              "    </tr>\n",
              "    <tr>\n",
              "      <th>105</th>\n",
              "      <td>93.30</td>\n",
              "      <td>62.20</td>\n",
              "    </tr>\n",
              "    <tr>\n",
              "      <th>106</th>\n",
              "      <td>101.80</td>\n",
              "      <td>133.00</td>\n",
              "    </tr>\n",
              "    <tr>\n",
              "      <th>107</th>\n",
              "      <td>107.90</td>\n",
              "      <td>208.00</td>\n",
              "    </tr>\n",
              "    <tr>\n",
              "      <th>108</th>\n",
              "      <td>108.50</td>\n",
              "      <td>208.00</td>\n",
              "    </tr>\n",
              "  </tbody>\n",
              "</table>\n",
              "<p>109 rows × 2 columns</p>\n",
              "</div>\n",
              "    <div class=\"colab-df-buttons\">\n",
              "\n",
              "  <div class=\"colab-df-container\">\n",
              "    <button class=\"colab-df-convert\" onclick=\"convertToInteractive('df-2a38f7bc-9d4d-4073-827f-0695a7d1ce17')\"\n",
              "            title=\"Convert this dataframe to an interactive table.\"\n",
              "            style=\"display:none;\">\n",
              "\n",
              "  <svg xmlns=\"http://www.w3.org/2000/svg\" height=\"24px\" viewBox=\"0 -960 960 960\">\n",
              "    <path d=\"M120-120v-720h720v720H120Zm60-500h600v-160H180v160Zm220 220h160v-160H400v160Zm0 220h160v-160H400v160ZM180-400h160v-160H180v160Zm440 0h160v-160H620v160ZM180-180h160v-160H180v160Zm440 0h160v-160H620v160Z\"/>\n",
              "  </svg>\n",
              "    </button>\n",
              "\n",
              "  <style>\n",
              "    .colab-df-container {\n",
              "      display:flex;\n",
              "      gap: 12px;\n",
              "    }\n",
              "\n",
              "    .colab-df-convert {\n",
              "      background-color: #E8F0FE;\n",
              "      border: none;\n",
              "      border-radius: 50%;\n",
              "      cursor: pointer;\n",
              "      display: none;\n",
              "      fill: #1967D2;\n",
              "      height: 32px;\n",
              "      padding: 0 0 0 0;\n",
              "      width: 32px;\n",
              "    }\n",
              "\n",
              "    .colab-df-convert:hover {\n",
              "      background-color: #E2EBFA;\n",
              "      box-shadow: 0px 1px 2px rgba(60, 64, 67, 0.3), 0px 1px 3px 1px rgba(60, 64, 67, 0.15);\n",
              "      fill: #174EA6;\n",
              "    }\n",
              "\n",
              "    .colab-df-buttons div {\n",
              "      margin-bottom: 4px;\n",
              "    }\n",
              "\n",
              "    [theme=dark] .colab-df-convert {\n",
              "      background-color: #3B4455;\n",
              "      fill: #D2E3FC;\n",
              "    }\n",
              "\n",
              "    [theme=dark] .colab-df-convert:hover {\n",
              "      background-color: #434B5C;\n",
              "      box-shadow: 0px 1px 3px 1px rgba(0, 0, 0, 0.15);\n",
              "      filter: drop-shadow(0px 1px 2px rgba(0, 0, 0, 0.3));\n",
              "      fill: #FFFFFF;\n",
              "    }\n",
              "  </style>\n",
              "\n",
              "    <script>\n",
              "      const buttonEl =\n",
              "        document.querySelector('#df-2a38f7bc-9d4d-4073-827f-0695a7d1ce17 button.colab-df-convert');\n",
              "      buttonEl.style.display =\n",
              "        google.colab.kernel.accessAllowed ? 'block' : 'none';\n",
              "\n",
              "      async function convertToInteractive(key) {\n",
              "        const element = document.querySelector('#df-2a38f7bc-9d4d-4073-827f-0695a7d1ce17');\n",
              "        const dataTable =\n",
              "          await google.colab.kernel.invokeFunction('convertToInteractive',\n",
              "                                                    [key], {});\n",
              "        if (!dataTable) return;\n",
              "\n",
              "        const docLinkHtml = 'Like what you see? Visit the ' +\n",
              "          '<a target=\"_blank\" href=https://colab.research.google.com/notebooks/data_table.ipynb>data table notebook</a>'\n",
              "          + ' to learn more about interactive tables.';\n",
              "        element.innerHTML = '';\n",
              "        dataTable['output_type'] = 'display_data';\n",
              "        await google.colab.output.renderOutput(dataTable, element);\n",
              "        const docLink = document.createElement('div');\n",
              "        docLink.innerHTML = docLinkHtml;\n",
              "        element.appendChild(docLink);\n",
              "      }\n",
              "    </script>\n",
              "  </div>\n",
              "\n",
              "\n",
              "<div id=\"df-b2a862f9-3759-47d8-9965-a1fbfe7dd2ae\">\n",
              "  <button class=\"colab-df-quickchart\" onclick=\"quickchart('df-b2a862f9-3759-47d8-9965-a1fbfe7dd2ae')\"\n",
              "            title=\"Suggest charts\"\n",
              "            style=\"display:none;\">\n",
              "\n",
              "<svg xmlns=\"http://www.w3.org/2000/svg\" height=\"24px\"viewBox=\"0 0 24 24\"\n",
              "     width=\"24px\">\n",
              "    <g>\n",
              "        <path d=\"M19 3H5c-1.1 0-2 .9-2 2v14c0 1.1.9 2 2 2h14c1.1 0 2-.9 2-2V5c0-1.1-.9-2-2-2zM9 17H7v-7h2v7zm4 0h-2V7h2v10zm4 0h-2v-4h2v4z\"/>\n",
              "    </g>\n",
              "</svg>\n",
              "  </button>\n",
              "\n",
              "<style>\n",
              "  .colab-df-quickchart {\n",
              "      --bg-color: #E8F0FE;\n",
              "      --fill-color: #1967D2;\n",
              "      --hover-bg-color: #E2EBFA;\n",
              "      --hover-fill-color: #174EA6;\n",
              "      --disabled-fill-color: #AAA;\n",
              "      --disabled-bg-color: #DDD;\n",
              "  }\n",
              "\n",
              "  [theme=dark] .colab-df-quickchart {\n",
              "      --bg-color: #3B4455;\n",
              "      --fill-color: #D2E3FC;\n",
              "      --hover-bg-color: #434B5C;\n",
              "      --hover-fill-color: #FFFFFF;\n",
              "      --disabled-bg-color: #3B4455;\n",
              "      --disabled-fill-color: #666;\n",
              "  }\n",
              "\n",
              "  .colab-df-quickchart {\n",
              "    background-color: var(--bg-color);\n",
              "    border: none;\n",
              "    border-radius: 50%;\n",
              "    cursor: pointer;\n",
              "    display: none;\n",
              "    fill: var(--fill-color);\n",
              "    height: 32px;\n",
              "    padding: 0;\n",
              "    width: 32px;\n",
              "  }\n",
              "\n",
              "  .colab-df-quickchart:hover {\n",
              "    background-color: var(--hover-bg-color);\n",
              "    box-shadow: 0 1px 2px rgba(60, 64, 67, 0.3), 0 1px 3px 1px rgba(60, 64, 67, 0.15);\n",
              "    fill: var(--button-hover-fill-color);\n",
              "  }\n",
              "\n",
              "  .colab-df-quickchart-complete:disabled,\n",
              "  .colab-df-quickchart-complete:disabled:hover {\n",
              "    background-color: var(--disabled-bg-color);\n",
              "    fill: var(--disabled-fill-color);\n",
              "    box-shadow: none;\n",
              "  }\n",
              "\n",
              "  .colab-df-spinner {\n",
              "    border: 2px solid var(--fill-color);\n",
              "    border-color: transparent;\n",
              "    border-bottom-color: var(--fill-color);\n",
              "    animation:\n",
              "      spin 1s steps(1) infinite;\n",
              "  }\n",
              "\n",
              "  @keyframes spin {\n",
              "    0% {\n",
              "      border-color: transparent;\n",
              "      border-bottom-color: var(--fill-color);\n",
              "      border-left-color: var(--fill-color);\n",
              "    }\n",
              "    20% {\n",
              "      border-color: transparent;\n",
              "      border-left-color: var(--fill-color);\n",
              "      border-top-color: var(--fill-color);\n",
              "    }\n",
              "    30% {\n",
              "      border-color: transparent;\n",
              "      border-left-color: var(--fill-color);\n",
              "      border-top-color: var(--fill-color);\n",
              "      border-right-color: var(--fill-color);\n",
              "    }\n",
              "    40% {\n",
              "      border-color: transparent;\n",
              "      border-right-color: var(--fill-color);\n",
              "      border-top-color: var(--fill-color);\n",
              "    }\n",
              "    60% {\n",
              "      border-color: transparent;\n",
              "      border-right-color: var(--fill-color);\n",
              "    }\n",
              "    80% {\n",
              "      border-color: transparent;\n",
              "      border-right-color: var(--fill-color);\n",
              "      border-bottom-color: var(--fill-color);\n",
              "    }\n",
              "    90% {\n",
              "      border-color: transparent;\n",
              "      border-bottom-color: var(--fill-color);\n",
              "    }\n",
              "  }\n",
              "</style>\n",
              "\n",
              "  <script>\n",
              "    async function quickchart(key) {\n",
              "      const quickchartButtonEl =\n",
              "        document.querySelector('#' + key + ' button');\n",
              "      quickchartButtonEl.disabled = true;  // To prevent multiple clicks.\n",
              "      quickchartButtonEl.classList.add('colab-df-spinner');\n",
              "      try {\n",
              "        const charts = await google.colab.kernel.invokeFunction(\n",
              "            'suggestCharts', [key], {});\n",
              "      } catch (error) {\n",
              "        console.error('Error during call to suggestCharts:', error);\n",
              "      }\n",
              "      quickchartButtonEl.classList.remove('colab-df-spinner');\n",
              "      quickchartButtonEl.classList.add('colab-df-quickchart-complete');\n",
              "    }\n",
              "    (() => {\n",
              "      let quickchartButtonEl =\n",
              "        document.querySelector('#df-b2a862f9-3759-47d8-9965-a1fbfe7dd2ae button');\n",
              "      quickchartButtonEl.style.display =\n",
              "        google.colab.kernel.accessAllowed ? 'block' : 'none';\n",
              "    })();\n",
              "  </script>\n",
              "</div>\n",
              "\n",
              "  <div id=\"id_007eb81a-84fa-42bf-b69d-3616348ad697\">\n",
              "    <style>\n",
              "      .colab-df-generate {\n",
              "        background-color: #E8F0FE;\n",
              "        border: none;\n",
              "        border-radius: 50%;\n",
              "        cursor: pointer;\n",
              "        display: none;\n",
              "        fill: #1967D2;\n",
              "        height: 32px;\n",
              "        padding: 0 0 0 0;\n",
              "        width: 32px;\n",
              "      }\n",
              "\n",
              "      .colab-df-generate:hover {\n",
              "        background-color: #E2EBFA;\n",
              "        box-shadow: 0px 1px 2px rgba(60, 64, 67, 0.3), 0px 1px 3px 1px rgba(60, 64, 67, 0.15);\n",
              "        fill: #174EA6;\n",
              "      }\n",
              "\n",
              "      [theme=dark] .colab-df-generate {\n",
              "        background-color: #3B4455;\n",
              "        fill: #D2E3FC;\n",
              "      }\n",
              "\n",
              "      [theme=dark] .colab-df-generate:hover {\n",
              "        background-color: #434B5C;\n",
              "        box-shadow: 0px 1px 3px 1px rgba(0, 0, 0, 0.15);\n",
              "        filter: drop-shadow(0px 1px 2px rgba(0, 0, 0, 0.3));\n",
              "        fill: #FFFFFF;\n",
              "      }\n",
              "    </style>\n",
              "    <button class=\"colab-df-generate\" onclick=\"generateWithVariable('wcat')\"\n",
              "            title=\"Generate code using this dataframe.\"\n",
              "            style=\"display:none;\">\n",
              "\n",
              "  <svg xmlns=\"http://www.w3.org/2000/svg\" height=\"24px\"viewBox=\"0 0 24 24\"\n",
              "       width=\"24px\">\n",
              "    <path d=\"M7,19H8.4L18.45,9,17,7.55,7,17.6ZM5,21V16.75L18.45,3.32a2,2,0,0,1,2.83,0l1.4,1.43a1.91,1.91,0,0,1,.58,1.4,1.91,1.91,0,0,1-.58,1.4L9.25,21ZM18.45,9,17,7.55Zm-12,3A5.31,5.31,0,0,0,4.9,8.1,5.31,5.31,0,0,0,1,6.5,5.31,5.31,0,0,0,4.9,4.9,5.31,5.31,0,0,0,6.5,1,5.31,5.31,0,0,0,8.1,4.9,5.31,5.31,0,0,0,12,6.5,5.46,5.46,0,0,0,6.5,12Z\"/>\n",
              "  </svg>\n",
              "    </button>\n",
              "    <script>\n",
              "      (() => {\n",
              "      const buttonEl =\n",
              "        document.querySelector('#id_007eb81a-84fa-42bf-b69d-3616348ad697 button.colab-df-generate');\n",
              "      buttonEl.style.display =\n",
              "        google.colab.kernel.accessAllowed ? 'block' : 'none';\n",
              "\n",
              "      buttonEl.onclick = () => {\n",
              "        google.colab.notebook.generateWithVariable('wcat');\n",
              "      }\n",
              "      })();\n",
              "    </script>\n",
              "  </div>\n",
              "\n",
              "    </div>\n",
              "  </div>\n"
            ],
            "application/vnd.google.colaboratory.intrinsic+json": {
              "type": "dataframe",
              "variable_name": "wcat",
              "summary": "{\n  \"name\": \"wcat\",\n  \"rows\": 109,\n  \"fields\": [\n    {\n      \"column\": \"Waist\",\n      \"properties\": {\n        \"dtype\": \"number\",\n        \"std\": 13.559115982678824,\n        \"min\": 63.5,\n        \"max\": 121.0,\n        \"num_unique_values\": 88,\n        \"samples\": [\n          111.0,\n          74.75,\n          80.5\n        ],\n        \"semantic_type\": \"\",\n        \"description\": \"\"\n      }\n    },\n    {\n      \"column\": \"AT\",\n      \"properties\": {\n        \"dtype\": \"number\",\n        \"std\": 57.294762722312136,\n        \"min\": 11.44,\n        \"max\": 253.0,\n        \"num_unique_values\": 99,\n        \"samples\": [\n          90.41,\n          73.13,\n          188.0\n        ],\n        \"semantic_type\": \"\",\n        \"description\": \"\"\n      }\n    }\n  ]\n}"
            }
          },
          "metadata": {},
          "execution_count": 5
        }
      ],
      "source": [
        "# Printing the dataset\n",
        "wcat"
      ]
    },
    {
      "cell_type": "code",
      "execution_count": null,
      "metadata": {
        "ExecuteTime": {
          "end_time": "2022-09-23T04:39:16.362788Z",
          "start_time": "2022-09-23T04:39:16.341830Z"
        },
        "colab": {
          "base_uri": "https://localhost:8080/",
          "height": 300
        },
        "id": "ih-rZdBo899V",
        "outputId": "7cd157a1-914d-4b41-8a37-142ca442a74b"
      },
      "outputs": [
        {
          "output_type": "execute_result",
          "data": {
            "text/plain": [
              "            Waist          AT\n",
              "count  109.000000  109.000000\n",
              "mean    91.901835  101.894037\n",
              "std     13.559116   57.294763\n",
              "min     63.500000   11.440000\n",
              "25%     80.000000   50.880000\n",
              "50%     90.800000   96.540000\n",
              "75%    104.000000  137.000000\n",
              "max    121.000000  253.000000"
            ],
            "text/html": [
              "\n",
              "  <div id=\"df-8a824f04-4090-4dca-8912-13830fb442ef\" class=\"colab-df-container\">\n",
              "    <div>\n",
              "<style scoped>\n",
              "    .dataframe tbody tr th:only-of-type {\n",
              "        vertical-align: middle;\n",
              "    }\n",
              "\n",
              "    .dataframe tbody tr th {\n",
              "        vertical-align: top;\n",
              "    }\n",
              "\n",
              "    .dataframe thead th {\n",
              "        text-align: right;\n",
              "    }\n",
              "</style>\n",
              "<table border=\"1\" class=\"dataframe\">\n",
              "  <thead>\n",
              "    <tr style=\"text-align: right;\">\n",
              "      <th></th>\n",
              "      <th>Waist</th>\n",
              "      <th>AT</th>\n",
              "    </tr>\n",
              "  </thead>\n",
              "  <tbody>\n",
              "    <tr>\n",
              "      <th>count</th>\n",
              "      <td>109.000000</td>\n",
              "      <td>109.000000</td>\n",
              "    </tr>\n",
              "    <tr>\n",
              "      <th>mean</th>\n",
              "      <td>91.901835</td>\n",
              "      <td>101.894037</td>\n",
              "    </tr>\n",
              "    <tr>\n",
              "      <th>std</th>\n",
              "      <td>13.559116</td>\n",
              "      <td>57.294763</td>\n",
              "    </tr>\n",
              "    <tr>\n",
              "      <th>min</th>\n",
              "      <td>63.500000</td>\n",
              "      <td>11.440000</td>\n",
              "    </tr>\n",
              "    <tr>\n",
              "      <th>25%</th>\n",
              "      <td>80.000000</td>\n",
              "      <td>50.880000</td>\n",
              "    </tr>\n",
              "    <tr>\n",
              "      <th>50%</th>\n",
              "      <td>90.800000</td>\n",
              "      <td>96.540000</td>\n",
              "    </tr>\n",
              "    <tr>\n",
              "      <th>75%</th>\n",
              "      <td>104.000000</td>\n",
              "      <td>137.000000</td>\n",
              "    </tr>\n",
              "    <tr>\n",
              "      <th>max</th>\n",
              "      <td>121.000000</td>\n",
              "      <td>253.000000</td>\n",
              "    </tr>\n",
              "  </tbody>\n",
              "</table>\n",
              "</div>\n",
              "    <div class=\"colab-df-buttons\">\n",
              "\n",
              "  <div class=\"colab-df-container\">\n",
              "    <button class=\"colab-df-convert\" onclick=\"convertToInteractive('df-8a824f04-4090-4dca-8912-13830fb442ef')\"\n",
              "            title=\"Convert this dataframe to an interactive table.\"\n",
              "            style=\"display:none;\">\n",
              "\n",
              "  <svg xmlns=\"http://www.w3.org/2000/svg\" height=\"24px\" viewBox=\"0 -960 960 960\">\n",
              "    <path d=\"M120-120v-720h720v720H120Zm60-500h600v-160H180v160Zm220 220h160v-160H400v160Zm0 220h160v-160H400v160ZM180-400h160v-160H180v160Zm440 0h160v-160H620v160ZM180-180h160v-160H180v160Zm440 0h160v-160H620v160Z\"/>\n",
              "  </svg>\n",
              "    </button>\n",
              "\n",
              "  <style>\n",
              "    .colab-df-container {\n",
              "      display:flex;\n",
              "      gap: 12px;\n",
              "    }\n",
              "\n",
              "    .colab-df-convert {\n",
              "      background-color: #E8F0FE;\n",
              "      border: none;\n",
              "      border-radius: 50%;\n",
              "      cursor: pointer;\n",
              "      display: none;\n",
              "      fill: #1967D2;\n",
              "      height: 32px;\n",
              "      padding: 0 0 0 0;\n",
              "      width: 32px;\n",
              "    }\n",
              "\n",
              "    .colab-df-convert:hover {\n",
              "      background-color: #E2EBFA;\n",
              "      box-shadow: 0px 1px 2px rgba(60, 64, 67, 0.3), 0px 1px 3px 1px rgba(60, 64, 67, 0.15);\n",
              "      fill: #174EA6;\n",
              "    }\n",
              "\n",
              "    .colab-df-buttons div {\n",
              "      margin-bottom: 4px;\n",
              "    }\n",
              "\n",
              "    [theme=dark] .colab-df-convert {\n",
              "      background-color: #3B4455;\n",
              "      fill: #D2E3FC;\n",
              "    }\n",
              "\n",
              "    [theme=dark] .colab-df-convert:hover {\n",
              "      background-color: #434B5C;\n",
              "      box-shadow: 0px 1px 3px 1px rgba(0, 0, 0, 0.15);\n",
              "      filter: drop-shadow(0px 1px 2px rgba(0, 0, 0, 0.3));\n",
              "      fill: #FFFFFF;\n",
              "    }\n",
              "  </style>\n",
              "\n",
              "    <script>\n",
              "      const buttonEl =\n",
              "        document.querySelector('#df-8a824f04-4090-4dca-8912-13830fb442ef button.colab-df-convert');\n",
              "      buttonEl.style.display =\n",
              "        google.colab.kernel.accessAllowed ? 'block' : 'none';\n",
              "\n",
              "      async function convertToInteractive(key) {\n",
              "        const element = document.querySelector('#df-8a824f04-4090-4dca-8912-13830fb442ef');\n",
              "        const dataTable =\n",
              "          await google.colab.kernel.invokeFunction('convertToInteractive',\n",
              "                                                    [key], {});\n",
              "        if (!dataTable) return;\n",
              "\n",
              "        const docLinkHtml = 'Like what you see? Visit the ' +\n",
              "          '<a target=\"_blank\" href=https://colab.research.google.com/notebooks/data_table.ipynb>data table notebook</a>'\n",
              "          + ' to learn more about interactive tables.';\n",
              "        element.innerHTML = '';\n",
              "        dataTable['output_type'] = 'display_data';\n",
              "        await google.colab.output.renderOutput(dataTable, element);\n",
              "        const docLink = document.createElement('div');\n",
              "        docLink.innerHTML = docLinkHtml;\n",
              "        element.appendChild(docLink);\n",
              "      }\n",
              "    </script>\n",
              "  </div>\n",
              "\n",
              "\n",
              "<div id=\"df-119d9725-55c2-492e-aa76-801064386aed\">\n",
              "  <button class=\"colab-df-quickchart\" onclick=\"quickchart('df-119d9725-55c2-492e-aa76-801064386aed')\"\n",
              "            title=\"Suggest charts\"\n",
              "            style=\"display:none;\">\n",
              "\n",
              "<svg xmlns=\"http://www.w3.org/2000/svg\" height=\"24px\"viewBox=\"0 0 24 24\"\n",
              "     width=\"24px\">\n",
              "    <g>\n",
              "        <path d=\"M19 3H5c-1.1 0-2 .9-2 2v14c0 1.1.9 2 2 2h14c1.1 0 2-.9 2-2V5c0-1.1-.9-2-2-2zM9 17H7v-7h2v7zm4 0h-2V7h2v10zm4 0h-2v-4h2v4z\"/>\n",
              "    </g>\n",
              "</svg>\n",
              "  </button>\n",
              "\n",
              "<style>\n",
              "  .colab-df-quickchart {\n",
              "      --bg-color: #E8F0FE;\n",
              "      --fill-color: #1967D2;\n",
              "      --hover-bg-color: #E2EBFA;\n",
              "      --hover-fill-color: #174EA6;\n",
              "      --disabled-fill-color: #AAA;\n",
              "      --disabled-bg-color: #DDD;\n",
              "  }\n",
              "\n",
              "  [theme=dark] .colab-df-quickchart {\n",
              "      --bg-color: #3B4455;\n",
              "      --fill-color: #D2E3FC;\n",
              "      --hover-bg-color: #434B5C;\n",
              "      --hover-fill-color: #FFFFFF;\n",
              "      --disabled-bg-color: #3B4455;\n",
              "      --disabled-fill-color: #666;\n",
              "  }\n",
              "\n",
              "  .colab-df-quickchart {\n",
              "    background-color: var(--bg-color);\n",
              "    border: none;\n",
              "    border-radius: 50%;\n",
              "    cursor: pointer;\n",
              "    display: none;\n",
              "    fill: var(--fill-color);\n",
              "    height: 32px;\n",
              "    padding: 0;\n",
              "    width: 32px;\n",
              "  }\n",
              "\n",
              "  .colab-df-quickchart:hover {\n",
              "    background-color: var(--hover-bg-color);\n",
              "    box-shadow: 0 1px 2px rgba(60, 64, 67, 0.3), 0 1px 3px 1px rgba(60, 64, 67, 0.15);\n",
              "    fill: var(--button-hover-fill-color);\n",
              "  }\n",
              "\n",
              "  .colab-df-quickchart-complete:disabled,\n",
              "  .colab-df-quickchart-complete:disabled:hover {\n",
              "    background-color: var(--disabled-bg-color);\n",
              "    fill: var(--disabled-fill-color);\n",
              "    box-shadow: none;\n",
              "  }\n",
              "\n",
              "  .colab-df-spinner {\n",
              "    border: 2px solid var(--fill-color);\n",
              "    border-color: transparent;\n",
              "    border-bottom-color: var(--fill-color);\n",
              "    animation:\n",
              "      spin 1s steps(1) infinite;\n",
              "  }\n",
              "\n",
              "  @keyframes spin {\n",
              "    0% {\n",
              "      border-color: transparent;\n",
              "      border-bottom-color: var(--fill-color);\n",
              "      border-left-color: var(--fill-color);\n",
              "    }\n",
              "    20% {\n",
              "      border-color: transparent;\n",
              "      border-left-color: var(--fill-color);\n",
              "      border-top-color: var(--fill-color);\n",
              "    }\n",
              "    30% {\n",
              "      border-color: transparent;\n",
              "      border-left-color: var(--fill-color);\n",
              "      border-top-color: var(--fill-color);\n",
              "      border-right-color: var(--fill-color);\n",
              "    }\n",
              "    40% {\n",
              "      border-color: transparent;\n",
              "      border-right-color: var(--fill-color);\n",
              "      border-top-color: var(--fill-color);\n",
              "    }\n",
              "    60% {\n",
              "      border-color: transparent;\n",
              "      border-right-color: var(--fill-color);\n",
              "    }\n",
              "    80% {\n",
              "      border-color: transparent;\n",
              "      border-right-color: var(--fill-color);\n",
              "      border-bottom-color: var(--fill-color);\n",
              "    }\n",
              "    90% {\n",
              "      border-color: transparent;\n",
              "      border-bottom-color: var(--fill-color);\n",
              "    }\n",
              "  }\n",
              "</style>\n",
              "\n",
              "  <script>\n",
              "    async function quickchart(key) {\n",
              "      const quickchartButtonEl =\n",
              "        document.querySelector('#' + key + ' button');\n",
              "      quickchartButtonEl.disabled = true;  // To prevent multiple clicks.\n",
              "      quickchartButtonEl.classList.add('colab-df-spinner');\n",
              "      try {\n",
              "        const charts = await google.colab.kernel.invokeFunction(\n",
              "            'suggestCharts', [key], {});\n",
              "      } catch (error) {\n",
              "        console.error('Error during call to suggestCharts:', error);\n",
              "      }\n",
              "      quickchartButtonEl.classList.remove('colab-df-spinner');\n",
              "      quickchartButtonEl.classList.add('colab-df-quickchart-complete');\n",
              "    }\n",
              "    (() => {\n",
              "      let quickchartButtonEl =\n",
              "        document.querySelector('#df-119d9725-55c2-492e-aa76-801064386aed button');\n",
              "      quickchartButtonEl.style.display =\n",
              "        google.colab.kernel.accessAllowed ? 'block' : 'none';\n",
              "    })();\n",
              "  </script>\n",
              "</div>\n",
              "\n",
              "    </div>\n",
              "  </div>\n"
            ],
            "application/vnd.google.colaboratory.intrinsic+json": {
              "type": "dataframe",
              "summary": "{\n  \"name\": \"wcat\",\n  \"rows\": 8,\n  \"fields\": [\n    {\n      \"column\": \"Waist\",\n      \"properties\": {\n        \"dtype\": \"number\",\n        \"std\": 33.59519420743998,\n        \"min\": 13.559115982678824,\n        \"max\": 121.0,\n        \"num_unique_values\": 8,\n        \"samples\": [\n          91.90183486238531,\n          90.8,\n          109.0\n        ],\n        \"semantic_type\": \"\",\n        \"description\": \"\"\n      }\n    },\n    {\n      \"column\": \"AT\",\n      \"properties\": {\n        \"dtype\": \"number\",\n        \"std\": 72.62192857606351,\n        \"min\": 11.44,\n        \"max\": 253.0,\n        \"num_unique_values\": 8,\n        \"samples\": [\n          101.89403669724771,\n          96.54,\n          109.0\n        ],\n        \"semantic_type\": \"\",\n        \"description\": \"\"\n      }\n    }\n  ]\n}"
            }
          },
          "metadata": {},
          "execution_count": 6
        }
      ],
      "source": [
        "# To understand the basic stats of the dataset\n",
        "wcat.describe()"
      ]
    },
    {
      "cell_type": "code",
      "execution_count": null,
      "metadata": {
        "ExecuteTime": {
          "end_time": "2022-09-23T04:39:27.959327Z",
          "start_time": "2022-09-23T04:39:27.913376Z"
        },
        "colab": {
          "base_uri": "https://localhost:8080/"
        },
        "id": "O3G-ua-Z899W",
        "outputId": "0f59b2c8-d2d6-4eb9-9440-2a0eea25bd90"
      },
      "outputs": [
        {
          "output_type": "stream",
          "name": "stdout",
          "text": [
            "<class 'pandas.core.frame.DataFrame'>\n",
            "RangeIndex: 109 entries, 0 to 108\n",
            "Data columns (total 2 columns):\n",
            " #   Column  Non-Null Count  Dtype  \n",
            "---  ------  --------------  -----  \n",
            " 0   Waist   109 non-null    float64\n",
            " 1   AT      109 non-null    float64\n",
            "dtypes: float64(2)\n",
            "memory usage: 1.8 KB\n"
          ]
        },
        {
          "output_type": "execute_result",
          "data": {
            "text/plain": [
              "Waist    0\n",
              "AT       0\n",
              "dtype: int64"
            ]
          },
          "metadata": {},
          "execution_count": 7
        }
      ],
      "source": [
        "# To check for null values\n",
        "wcat.info()\n",
        "wcat.isnull().sum()"
      ]
    },
    {
      "cell_type": "code",
      "execution_count": null,
      "metadata": {
        "ExecuteTime": {
          "end_time": "2022-09-23T04:39:52.593000Z",
          "start_time": "2022-09-23T04:39:52.581537Z"
        },
        "colab": {
          "base_uri": "https://localhost:8080/"
        },
        "id": "EcV9Y5al899X",
        "outputId": "42572453-3507-4b8e-e622-da1584605915"
      },
      "outputs": [
        {
          "output_type": "execute_result",
          "data": {
            "text/plain": [
              "Index(['Waist', 'AT'], dtype='object')"
            ]
          },
          "metadata": {},
          "execution_count": 8
        }
      ],
      "source": [
        "# To idnetify the names of the columns\n",
        "wcat.columns"
      ]
    },
    {
      "cell_type": "code",
      "execution_count": null,
      "metadata": {
        "ExecuteTime": {
          "end_time": "2022-09-23T04:40:47.833180Z",
          "start_time": "2022-09-23T04:40:47.711675Z"
        },
        "colab": {
          "base_uri": "https://localhost:8080/",
          "height": 430
        },
        "id": "yDuOFBk8899Y",
        "outputId": "39e54481-5930-463d-b8d3-9d3a440fdc46"
      },
      "outputs": [
        {
          "output_type": "display_data",
          "data": {
            "text/plain": [
              "<Figure size 640x480 with 1 Axes>"
            ],
            "image/png": "[encoded data removed]"
          },
          "metadata": {}
        }
      ],
      "source": [
        "# Following visualizations to understand data distribution\n",
        "plt.boxplot(wcat.Waist)\n",
        "plt.show()"
      ]
    },
    {
      "cell_type": "code",
      "execution_count": null,
      "metadata": {
        "ExecuteTime": {
          "end_time": "2022-08-04T11:04:18.373017Z",
          "start_time": "2022-08-04T11:04:18.218574Z"
        },
        "colab": {
          "base_uri": "https://localhost:8080/",
          "height": 430
        },
        "id": "IXuH7gEs899a",
        "outputId": "cc7ff91d-ae83-409f-9331-5d71e7b821ce"
      },
      "outputs": [
        {
          "output_type": "display_data",
          "data": {
            "text/plain": [
              "<Figure size 640x480 with 1 Axes>"
            ],
            "image/png": "[encoded data removed]"
          },
          "metadata": {}
        }
      ],
      "source": [
        "# Following visualizations to understand data distribution\n",
        "plt.hist(wcat.Waist)\n",
        "plt.show()"
      ]
    },
    {
      "cell_type": "code",
      "execution_count": null,
      "metadata": {
        "ExecuteTime": {
          "end_time": "2022-09-23T04:42:09.805120Z",
          "start_time": "2022-09-23T04:42:09.664270Z"
        },
        "colab": {
          "base_uri": "https://localhost:8080/",
          "height": 453
        },
        "id": "eqXoyhUX899b",
        "outputId": "c330c386-610b-44be-9d61-79121b28c52a"
      },
      "outputs": [
        {
          "output_type": "display_data",
          "data": {
            "text/plain": [
              "<Figure size 640x480 with 1 Axes>"
            ],
            "image/png": "[encoded data removed]"
          },
          "metadata": {}
        }
      ],
      "source": [
        "# Following visualizations to understand data distribution\n",
        "sns.distplot(wcat['Waist'])\n",
        "plt.show()"
      ]
    },
    {
      "cell_type": "code",
      "execution_count": null,
      "metadata": {
        "ExecuteTime": {
          "end_time": "2022-09-23T04:42:40.591434Z",
          "start_time": "2022-09-23T04:42:40.476480Z"
        },
        "colab": {
          "base_uri": "https://localhost:8080/",
          "height": 472
        },
        "id": "72sH6j3w899c",
        "outputId": "3cc34304-9c93-4298-b001-56e581a32365"
      },
      "outputs": [
        {
          "output_type": "display_data",
          "data": {
            "text/plain": [
              "<Figure size 640x480 with 1 Axes>"
            ],
            "image/png": "[encoded data removed]"
          },
          "metadata": {}
        }
      ],
      "source": [
        "# Following visualizations to understand data distribution\n",
        "plt.boxplot(wcat.AT)\n",
        "plt.xlabel(\"AT\")\n",
        "plt.ylabel(\"No of Observations\")\n",
        "plt.title(\"Boxplot of AT\")\n",
        "plt.show()"
      ]
    },
    {
      "cell_type": "code",
      "execution_count": null,
      "metadata": {
        "ExecuteTime": {
          "end_time": "2022-09-23T04:42:45.790756Z",
          "start_time": "2022-09-23T04:42:45.660980Z"
        },
        "colab": {
          "base_uri": "https://localhost:8080/",
          "height": 430
        },
        "id": "yJgaUKkc899d",
        "outputId": "77edbec1-a1a2-41b3-acd2-d1498440d4da"
      },
      "outputs": [
        {
          "output_type": "display_data",
          "data": {
            "text/plain": [
              "<Figure size 640x480 with 1 Axes>"
            ],
            "image/png": "[encoded data removed]"
          },
          "metadata": {}
        }
      ],
      "source": [
        "# Following visualizations to understand data distribution\n",
        "plt.hist(wcat.AT)\n",
        "plt.show()"
      ]
    },
    {
      "cell_type": "code",
      "execution_count": null,
      "metadata": {
        "ExecuteTime": {
          "end_time": "2022-09-23T04:43:05.281799Z",
          "start_time": "2022-09-23T04:43:05.089779Z"
        },
        "colab": {
          "base_uri": "https://localhost:8080/",
          "height": 449
        },
        "id": "NXJH-mEj899e",
        "outputId": "151e4451-58a8-4f97-fbda-a9b08fa7dc56"
      },
      "outputs": [
        {
          "output_type": "display_data",
          "data": {
            "text/plain": [
              "<Figure size 640x480 with 1 Axes>"
            ],
            "image/png": "[encoded data removed]"
          },
          "metadata": {}
        }
      ],
      "source": [
        "# Following visualizations to understand data distribution\n",
        "sns.distplot(wcat['AT'])\n",
        "plt.show()"
      ]
    },
    {
      "cell_type": "code",
      "execution_count": null,
      "metadata": {
        "ExecuteTime": {
          "end_time": "2022-09-23T04:44:10.288812Z",
          "start_time": "2022-09-23T04:44:10.145286Z"
        },
        "colab": {
          "base_uri": "https://localhost:8080/",
          "height": 489
        },
        "id": "BvSK0IvG899f",
        "outputId": "4dda4ba1-18c1-433f-a9b4-3b619a79ed84"
      },
      "outputs": [
        {
          "output_type": "execute_result",
          "data": {
            "text/plain": [
              "Text(0.5, 1.0, 'ScatterPlot')"
            ]
          },
          "metadata": {},
          "execution_count": 15
        },
        {
          "output_type": "display_data",
          "data": {
            "text/plain": [
              "<Figure size 640x480 with 1 Axes>"
            ],
            "image/png": "[encoded data removed]"
          },
          "metadata": {}
        }
      ],
      "source": [
        "# Creating a scatter plot to understand the linear association between the variables\n",
        "plt.plot(wcat.Waist,wcat.AT,\"rs\")\n",
        "plt.xlabel(\"Waist\")\n",
        "plt.ylabel(\"AT\")\n",
        "plt.title(\"ScatterPlot\")\n",
        "#help(plt.plot)"
      ]
    },
    {
      "cell_type": "markdown",
      "source": [
        "We can see that there is a positive linear association between the variables"
      ],
      "metadata": {
        "id": "D1Xf8wsSEWzr"
      }
    },
    {
      "cell_type": "code",
      "execution_count": null,
      "metadata": {
        "ExecuteTime": {
          "end_time": "2022-09-23T04:45:41.361150Z",
          "start_time": "2022-09-23T04:45:41.347147Z"
        },
        "colab": {
          "base_uri": "https://localhost:8080/",
          "height": 112
        },
        "id": "LmCeyyP1899f",
        "outputId": "ec246c7c-146c-4ac5-9273-07128361307a"
      },
      "outputs": [
        {
          "output_type": "execute_result",
          "data": {
            "text/plain": [
              "          Waist        AT\n",
              "Waist  1.000000  0.818558\n",
              "AT     0.818558  1.000000"
            ],
            "text/html": [
              "\n",
              "  <div id=\"df-371ba569-f330-476d-af95-c217b7fd1f62\" class=\"colab-df-container\">\n",
              "    <div>\n",
              "<style scoped>\n",
              "    .dataframe tbody tr th:only-of-type {\n",
              "        vertical-align: middle;\n",
              "    }\n",
              "\n",
              "    .dataframe tbody tr th {\n",
              "        vertical-align: top;\n",
              "    }\n",
              "\n",
              "    .dataframe thead th {\n",
              "        text-align: right;\n",
              "    }\n",
              "</style>\n",
              "<table border=\"1\" class=\"dataframe\">\n",
              "  <thead>\n",
              "    <tr style=\"text-align: right;\">\n",
              "      <th></th>\n",
              "      <th>Waist</th>\n",
              "      <th>AT</th>\n",
              "    </tr>\n",
              "  </thead>\n",
              "  <tbody>\n",
              "    <tr>\n",
              "      <th>Waist</th>\n",
              "      <td>1.000000</td>\n",
              "      <td>0.818558</td>\n",
              "    </tr>\n",
              "    <tr>\n",
              "      <th>AT</th>\n",
              "      <td>0.818558</td>\n",
              "      <td>1.000000</td>\n",
              "    </tr>\n",
              "  </tbody>\n",
              "</table>\n",
              "</div>\n",
              "    <div class=\"colab-df-buttons\">\n",
              "\n",
              "  <div class=\"colab-df-container\">\n",
              "    <button class=\"colab-df-convert\" onclick=\"convertToInteractive('df-371ba569-f330-476d-af95-c217b7fd1f62')\"\n",
              "            title=\"Convert this dataframe to an interactive table.\"\n",
              "            style=\"display:none;\">\n",
              "\n",
              "  <svg xmlns=\"http://www.w3.org/2000/svg\" height=\"24px\" viewBox=\"0 -960 960 960\">\n",
              "    <path d=\"M120-120v-720h720v720H120Zm60-500h600v-160H180v160Zm220 220h160v-160H400v160Zm0 220h160v-160H400v160ZM180-400h160v-160H180v160Zm440 0h160v-160H620v160ZM180-180h160v-160H180v160Zm440 0h160v-160H620v160Z\"/>\n",
              "  </svg>\n",
              "    </button>\n",
              "\n",
              "  <style>\n",
              "    .colab-df-container {\n",
              "      display:flex;\n",
              "      gap: 12px;\n",
              "    }\n",
              "\n",
              "    .colab-df-convert {\n",
              "      background-color: #E8F0FE;\n",
              "      border: none;\n",
              "      border-radius: 50%;\n",
              "      cursor: pointer;\n",
              "      display: none;\n",
              "      fill: #1967D2;\n",
              "      height: 32px;\n",
              "      padding: 0 0 0 0;\n",
              "      width: 32px;\n",
              "    }\n",
              "\n",
              "    .colab-df-convert:hover {\n",
              "      background-color: #E2EBFA;\n",
              "      box-shadow: 0px 1px 2px rgba(60, 64, 67, 0.3), 0px 1px 3px 1px rgba(60, 64, 67, 0.15);\n",
              "      fill: #174EA6;\n",
              "    }\n",
              "\n",
              "    .colab-df-buttons div {\n",
              "      margin-bottom: 4px;\n",
              "    }\n",
              "\n",
              "    [theme=dark] .colab-df-convert {\n",
              "      background-color: #3B4455;\n",
              "      fill: #D2E3FC;\n",
              "    }\n",
              "\n",
              "    [theme=dark] .colab-df-convert:hover {\n",
              "      background-color: #434B5C;\n",
              "      box-shadow: 0px 1px 3px 1px rgba(0, 0, 0, 0.15);\n",
              "      filter: drop-shadow(0px 1px 2px rgba(0, 0, 0, 0.3));\n",
              "      fill: #FFFFFF;\n",
              "    }\n",
              "  </style>\n",
              "\n",
              "    <script>\n",
              "      const buttonEl =\n",
              "        document.querySelector('#df-371ba569-f330-476d-af95-c217b7fd1f62 button.colab-df-convert');\n",
              "      buttonEl.style.display =\n",
              "        google.colab.kernel.accessAllowed ? 'block' : 'none';\n",
              "\n",
              "      async function convertToInteractive(key) {\n",
              "        const element = document.querySelector('#df-371ba569-f330-476d-af95-c217b7fd1f62');\n",
              "        const dataTable =\n",
              "          await google.colab.kernel.invokeFunction('convertToInteractive',\n",
              "                                                    [key], {});\n",
              "        if (!dataTable) return;\n",
              "\n",
              "        const docLinkHtml = 'Like what you see? Visit the ' +\n",
              "          '<a target=\"_blank\" href=https://colab.research.google.com/notebooks/data_table.ipynb>data table notebook</a>'\n",
              "          + ' to learn more about interactive tables.';\n",
              "        element.innerHTML = '';\n",
              "        dataTable['output_type'] = 'display_data';\n",
              "        await google.colab.output.renderOutput(dataTable, element);\n",
              "        const docLink = document.createElement('div');\n",
              "        docLink.innerHTML = docLinkHtml;\n",
              "        element.appendChild(docLink);\n",
              "      }\n",
              "    </script>\n",
              "  </div>\n",
              "\n",
              "\n",
              "<div id=\"df-5c6e68dd-af51-4c73-a1c4-bcdd9510d492\">\n",
              "  <button class=\"colab-df-quickchart\" onclick=\"quickchart('df-5c6e68dd-af51-4c73-a1c4-bcdd9510d492')\"\n",
              "            title=\"Suggest charts\"\n",
              "            style=\"display:none;\">\n",
              "\n",
              "<svg xmlns=\"http://www.w3.org/2000/svg\" height=\"24px\"viewBox=\"0 0 24 24\"\n",
              "     width=\"24px\">\n",
              "    <g>\n",
              "        <path d=\"M19 3H5c-1.1 0-2 .9-2 2v14c0 1.1.9 2 2 2h14c1.1 0 2-.9 2-2V5c0-1.1-.9-2-2-2zM9 17H7v-7h2v7zm4 0h-2V7h2v10zm4 0h-2v-4h2v4z\"/>\n",
              "    </g>\n",
              "</svg>\n",
              "  </button>\n",
              "\n",
              "<style>\n",
              "  .colab-df-quickchart {\n",
              "      --bg-color: #E8F0FE;\n",
              "      --fill-color: #1967D2;\n",
              "      --hover-bg-color: #E2EBFA;\n",
              "      --hover-fill-color: #174EA6;\n",
              "      --disabled-fill-color: #AAA;\n",
              "      --disabled-bg-color: #DDD;\n",
              "  }\n",
              "\n",
              "  [theme=dark] .colab-df-quickchart {\n",
              "      --bg-color: #3B4455;\n",
              "      --fill-color: #D2E3FC;\n",
              "      --hover-bg-color: #434B5C;\n",
              "      --hover-fill-color: #FFFFFF;\n",
              "      --disabled-bg-color: #3B4455;\n",
              "      --disabled-fill-color: #666;\n",
              "  }\n",
              "\n",
              "  .colab-df-quickchart {\n",
              "    background-color: var(--bg-color);\n",
              "    border: none;\n",
              "    border-radius: 50%;\n",
              "    cursor: pointer;\n",
              "    display: none;\n",
              "    fill: var(--fill-color);\n",
              "    height: 32px;\n",
              "    padding: 0;\n",
              "    width: 32px;\n",
              "  }\n",
              "\n",
              "  .colab-df-quickchart:hover {\n",
              "    background-color: var(--hover-bg-color);\n",
              "    box-shadow: 0 1px 2px rgba(60, 64, 67, 0.3), 0 1px 3px 1px rgba(60, 64, 67, 0.15);\n",
              "    fill: var(--button-hover-fill-color);\n",
              "  }\n",
              "\n",
              "  .colab-df-quickchart-complete:disabled,\n",
              "  .colab-df-quickchart-complete:disabled:hover {\n",
              "    background-color: var(--disabled-bg-color);\n",
              "    fill: var(--disabled-fill-color);\n",
              "    box-shadow: none;\n",
              "  }\n",
              "\n",
              "  .colab-df-spinner {\n",
              "    border: 2px solid var(--fill-color);\n",
              "    border-color: transparent;\n",
              "    border-bottom-color: var(--fill-color);\n",
              "    animation:\n",
              "      spin 1s steps(1) infinite;\n",
              "  }\n",
              "\n",
              "  @keyframes spin {\n",
              "    0% {\n",
              "      border-color: transparent;\n",
              "      border-bottom-color: var(--fill-color);\n",
              "      border-left-color: var(--fill-color);\n",
              "    }\n",
              "    20% {\n",
              "      border-color: transparent;\n",
              "      border-left-color: var(--fill-color);\n",
              "      border-top-color: var(--fill-color);\n",
              "    }\n",
              "    30% {\n",
              "      border-color: transparent;\n",
              "      border-left-color: var(--fill-color);\n",
              "      border-top-color: var(--fill-color);\n",
              "      border-right-color: var(--fill-color);\n",
              "    }\n",
              "    40% {\n",
              "      border-color: transparent;\n",
              "      border-right-color: var(--fill-color);\n",
              "      border-top-color: var(--fill-color);\n",
              "    }\n",
              "    60% {\n",
              "      border-color: transparent;\n",
              "      border-right-color: var(--fill-color);\n",
              "    }\n",
              "    80% {\n",
              "      border-color: transparent;\n",
              "      border-right-color: var(--fill-color);\n",
              "      border-bottom-color: var(--fill-color);\n",
              "    }\n",
              "    90% {\n",
              "      border-color: transparent;\n",
              "      border-bottom-color: var(--fill-color);\n",
              "    }\n",
              "  }\n",
              "</style>\n",
              "\n",
              "  <script>\n",
              "    async function quickchart(key) {\n",
              "      const quickchartButtonEl =\n",
              "        document.querySelector('#' + key + ' button');\n",
              "      quickchartButtonEl.disabled = true;  // To prevent multiple clicks.\n",
              "      quickchartButtonEl.classList.add('colab-df-spinner');\n",
              "      try {\n",
              "        const charts = await google.colab.kernel.invokeFunction(\n",
              "            'suggestCharts', [key], {});\n",
              "      } catch (error) {\n",
              "        console.error('Error during call to suggestCharts:', error);\n",
              "      }\n",
              "      quickchartButtonEl.classList.remove('colab-df-spinner');\n",
              "      quickchartButtonEl.classList.add('colab-df-quickchart-complete');\n",
              "    }\n",
              "    (() => {\n",
              "      let quickchartButtonEl =\n",
              "        document.querySelector('#df-5c6e68dd-af51-4c73-a1c4-bcdd9510d492 button');\n",
              "      quickchartButtonEl.style.display =\n",
              "        google.colab.kernel.accessAllowed ? 'block' : 'none';\n",
              "    })();\n",
              "  </script>\n",
              "</div>\n",
              "\n",
              "    </div>\n",
              "  </div>\n"
            ],
            "application/vnd.google.colaboratory.intrinsic+json": {
              "type": "dataframe",
              "summary": "{\n  \"name\": \"wcat\",\n  \"rows\": 2,\n  \"fields\": [\n    {\n      \"column\": \"Waist\",\n      \"properties\": {\n        \"dtype\": \"number\",\n        \"std\": 0.12829900089466065,\n        \"min\": 0.818557812895853,\n        \"max\": 1.0,\n        \"num_unique_values\": 2,\n        \"samples\": [\n          0.818557812895853,\n          1.0\n        ],\n        \"semantic_type\": \"\",\n        \"description\": \"\"\n      }\n    },\n    {\n      \"column\": \"AT\",\n      \"properties\": {\n        \"dtype\": \"number\",\n        \"std\": 0.12829900089466065,\n        \"min\": 0.818557812895853,\n        \"max\": 1.0,\n        \"num_unique_values\": 2,\n        \"samples\": [\n          1.0,\n          0.818557812895853\n        ],\n        \"semantic_type\": \"\",\n        \"description\": \"\"\n      }\n    }\n  ]\n}"
            }
          },
          "metadata": {},
          "execution_count": 16
        }
      ],
      "source": [
        "# Understanding the strength of correlation between the 2 variables - x & y\n",
        "wcat.corr()"
      ]
    },
    {
      "cell_type": "markdown",
      "source": [
        "0.81 correlation - there is a strong correlation between the variables"
      ],
      "metadata": {
        "id": "Ftv8rk1rEswc"
      }
    },
    {
      "cell_type": "code",
      "execution_count": null,
      "metadata": {
        "ExecuteTime": {
          "end_time": "2022-08-04T11:04:18.833841Z",
          "start_time": "2022-08-04T11:04:18.819839Z"
        },
        "id": "dpW1mVyW899g"
      },
      "outputs": [],
      "source": [
        "#wcat.AT.corr(wcat.Waist)"
      ]
    },
    {
      "cell_type": "code",
      "execution_count": null,
      "metadata": {
        "ExecuteTime": {
          "end_time": "2022-08-04T11:04:18.849840Z",
          "start_time": "2022-08-04T11:04:18.835840Z"
        },
        "id": "rfrlrANV899g"
      },
      "outputs": [],
      "source": [
        "# wcat.corr()"
      ]
    },
    {
      "cell_type": "code",
      "execution_count": null,
      "metadata": {
        "ExecuteTime": {
          "end_time": "2022-09-23T04:47:18.005360Z",
          "start_time": "2022-09-23T04:47:17.791750Z"
        },
        "colab": {
          "base_uri": "https://localhost:8080/"
        },
        "id": "MdZjIsw0899h",
        "outputId": "a6eacbdc-463d-459c-bc58-5b894bdd54cb"
      },
      "outputs": [
        {
          "output_type": "execute_result",
          "data": {
            "text/plain": [
              "Intercept   -215.981488\n",
              "Waist          3.458859\n",
              "dtype: float64"
            ]
          },
          "metadata": {},
          "execution_count": 19
        }
      ],
      "source": [
        "# Fitting the regression model\n",
        "# We need to import the required function from the statsmodel library\n",
        "# Now we need to build the model. Code for the same is explained below\n",
        "# smf.ols <- statsmodels.formula and ols <- ordinary least square method\n",
        "# smf.ols(\"_target variable_ ~ _independant variable_\",data = _dataset_).fit()\n",
        "# Creating the 1st model or Model 1 = Linear model\n",
        "model=smf.ols(\"AT~Waist\",data=wcat).fit()\n",
        "#Coefficients or the Bo and B1 values, i.e, the weights in the equation y= Bo + B1x + e\n",
        "model.params"
      ]
    },
    {
      "cell_type": "code",
      "execution_count": null,
      "metadata": {
        "ExecuteTime": {
          "end_time": "2022-09-23T04:48:43.258898Z",
          "start_time": "2022-09-23T04:48:43.225497Z"
        },
        "colab": {
          "base_uri": "https://localhost:8080/",
          "height": 444
        },
        "id": "6tJOmbLP899h",
        "outputId": "b0022d36-708f-4aeb-acff-069526f4754f"
      },
      "outputs": [
        {
          "output_type": "execute_result",
          "data": {
            "text/plain": [
              "<class 'statsmodels.iolib.summary.Summary'>\n",
              "\"\"\"\n",
              "                            OLS Regression Results                            \n",
              "==============================================================================\n",
              "Dep. Variable:                     AT   R-squared:                       0.670\n",
              "Model:                            OLS   Adj. R-squared:                  0.667\n",
              "Method:                 Least Squares   F-statistic:                     217.3\n",
              "Date:                Mon, 27 May 2024   Prob (F-statistic):           1.62e-27\n",
              "Time:                        14:32:13   Log-Likelihood:                -534.99\n",
              "No. Observations:                 109   AIC:                             1074.\n",
              "Df Residuals:                     107   BIC:                             1079.\n",
              "Df Model:                           1                                         \n",
              "Covariance Type:            nonrobust                                         \n",
              "==============================================================================\n",
              "                 coef    std err          t      P>|t|      [0.025      0.975]\n",
              "------------------------------------------------------------------------------\n",
              "Intercept   -215.9815     21.796     -9.909      0.000    -259.190    -172.773\n",
              "Waist          3.4589      0.235     14.740      0.000       2.994       3.924\n",
              "==============================================================================\n",
              "Omnibus:                        3.960   Durbin-Watson:                   1.560\n",
              "Prob(Omnibus):                  0.138   Jarque-Bera (JB):                4.596\n",
              "Skew:                           0.104   Prob(JB):                        0.100\n",
              "Kurtosis:                       3.984   Cond. No.                         639.\n",
              "==============================================================================\n",
              "\n",
              "Notes:\n",
              "[1] Standard Errors assume that the covariance matrix of the errors is correctly specified.\n",
              "\"\"\""
            ],
            "text/html": [
              "<table class=\"simpletable\">\n",
              "<caption>OLS Regression Results</caption>\n",
              "<tr>\n",
              "  <th>Dep. Variable:</th>           <td>AT</td>        <th>  R-squared:         </th> <td>   0.670</td>\n",
              "</tr>\n",
              "<tr>\n",
              "  <th>Model:</th>                   <td>OLS</td>       <th>  Adj. R-squared:    </th> <td>   0.667</td>\n",
              "</tr>\n",
              "<tr>\n",
              "  <th>Method:</th>             <td>Least Squares</td>  <th>  F-statistic:       </th> <td>   217.3</td>\n",
              "</tr>\n",
              "<tr>\n",
              "  <th>Date:</th>             <td>Mon, 27 May 2024</td> <th>  Prob (F-statistic):</th> <td>1.62e-27</td>\n",
              "</tr>\n",
              "<tr>\n",
              "  <th>Time:</th>                 <td>14:32:13</td>     <th>  Log-Likelihood:    </th> <td> -534.99</td>\n",
              "</tr>\n",
              "<tr>\n",
              "  <th>No. Observations:</th>      <td>   109</td>      <th>  AIC:               </th> <td>   1074.</td>\n",
              "</tr>\n",
              "<tr>\n",
              "  <th>Df Residuals:</th>          <td>   107</td>      <th>  BIC:               </th> <td>   1079.</td>\n",
              "</tr>\n",
              "<tr>\n",
              "  <th>Df Model:</th>              <td>     1</td>      <th>                     </th>     <td> </td>   \n",
              "</tr>\n",
              "<tr>\n",
              "  <th>Covariance Type:</th>      <td>nonrobust</td>    <th>                     </th>     <td> </td>   \n",
              "</tr>\n",
              "</table>\n",
              "<table class=\"simpletable\">\n",
              "<tr>\n",
              "      <td></td>         <th>coef</th>     <th>std err</th>      <th>t</th>      <th>P>|t|</th>  <th>[0.025</th>    <th>0.975]</th>  \n",
              "</tr>\n",
              "<tr>\n",
              "  <th>Intercept</th> <td> -215.9815</td> <td>   21.796</td> <td>   -9.909</td> <td> 0.000</td> <td> -259.190</td> <td> -172.773</td>\n",
              "</tr>\n",
              "<tr>\n",
              "  <th>Waist</th>     <td>    3.4589</td> <td>    0.235</td> <td>   14.740</td> <td> 0.000</td> <td>    2.994</td> <td>    3.924</td>\n",
              "</tr>\n",
              "</table>\n",
              "<table class=\"simpletable\">\n",
              "<tr>\n",
              "  <th>Omnibus:</th>       <td> 3.960</td> <th>  Durbin-Watson:     </th> <td>   1.560</td>\n",
              "</tr>\n",
              "<tr>\n",
              "  <th>Prob(Omnibus):</th> <td> 0.138</td> <th>  Jarque-Bera (JB):  </th> <td>   4.596</td>\n",
              "</tr>\n",
              "<tr>\n",
              "  <th>Skew:</th>          <td> 0.104</td> <th>  Prob(JB):          </th> <td>   0.100</td>\n",
              "</tr>\n",
              "<tr>\n",
              "  <th>Kurtosis:</th>      <td> 3.984</td> <th>  Cond. No.          </th> <td>    639.</td>\n",
              "</tr>\n",
              "</table><br/><br/>Notes:<br/>[1] Standard Errors assume that the covariance matrix of the errors is correctly specified."
            ],
            "text/latex": "\\begin{center}\n\\begin{tabular}{lclc}\n\\toprule\n\\textbf{Dep. Variable:}    &        AT        & \\textbf{  R-squared:         } &     0.670   \\\\\n\\textbf{Model:}            &       OLS        & \\textbf{  Adj. R-squared:    } &     0.667   \\\\\n\\textbf{Method:}           &  Least Squares   & \\textbf{  F-statistic:       } &     217.3   \\\\\n\\textbf{Date:}             & Mon, 27 May 2024 & \\textbf{  Prob (F-statistic):} &  1.62e-27   \\\\\n\\textbf{Time:}             &     14:32:13     & \\textbf{  Log-Likelihood:    } &   -534.99   \\\\\n\\textbf{No. Observations:} &         109      & \\textbf{  AIC:               } &     1074.   \\\\\n\\textbf{Df Residuals:}     &         107      & \\textbf{  BIC:               } &     1079.   \\\\\n\\textbf{Df Model:}         &           1      & \\textbf{                     } &             \\\\\n\\textbf{Covariance Type:}  &    nonrobust     & \\textbf{                     } &             \\\\\n\\bottomrule\n\\end{tabular}\n\\begin{tabular}{lcccccc}\n                   & \\textbf{coef} & \\textbf{std err} & \\textbf{t} & \\textbf{P$> |$t$|$} & \\textbf{[0.025} & \\textbf{0.975]}  \\\\\n\\midrule\n\\textbf{Intercept} &    -215.9815  &       21.796     &    -9.909  &         0.000        &     -259.190    &     -172.773     \\\\\n\\textbf{Waist}     &       3.4589  &        0.235     &    14.740  &         0.000        &        2.994    &        3.924     \\\\\n\\bottomrule\n\\end{tabular}\n\\begin{tabular}{lclc}\n\\textbf{Omnibus:}       &  3.960 & \\textbf{  Durbin-Watson:     } &    1.560  \\\\\n\\textbf{Prob(Omnibus):} &  0.138 & \\textbf{  Jarque-Bera (JB):  } &    4.596  \\\\\n\\textbf{Skew:}          &  0.104 & \\textbf{  Prob(JB):          } &    0.100  \\\\\n\\textbf{Kurtosis:}      &  3.984 & \\textbf{  Cond. No.          } &     639.  \\\\\n\\bottomrule\n\\end{tabular}\n%\\caption{OLS Regression Results}\n\\end{center}\n\nNotes: \\newline\n [1] Standard Errors assume that the covariance matrix of the errors is correctly specified."
          },
          "metadata": {},
          "execution_count": 20
        }
      ],
      "source": [
        "# We are getting all the information about the model -\n",
        "# target variable, method used for the model, date-time, no. of obs, df of residuals, df of model, r2 value, adjusted r2 value,\n",
        "# Bo as coef of intercept and B1 as coef of daily, p-value, etc\n",
        "# R2 value gives us the accuracy value\n",
        "model.summary()"
      ]
    },
    {
      "cell_type": "code",
      "execution_count": null,
      "metadata": {
        "ExecuteTime": {
          "end_time": "2022-09-23T04:51:16.693685Z",
          "start_time": "2022-09-23T04:51:16.670883Z"
        },
        "colab": {
          "base_uri": "https://localhost:8080/"
        },
        "id": "0kcJLgV4899j",
        "outputId": "dbc1402a-f861-4fe3-a473-791414867224"
      },
      "outputs": [
        {
          "output_type": "execute_result",
          "data": {
            "text/plain": [
              "0       42.568252\n",
              "1       35.131704\n",
              "2       66.953210\n",
              "3       74.389758\n",
              "4       42.222366\n",
              "5       32.537559\n",
              "6       63.840237\n",
              "7       72.487385\n",
              "8        3.656083\n",
              "9       37.207020\n",
              "10      32.710502\n",
              "11      43.432966\n",
              "12      36.861134\n",
              "13      57.268404\n",
              "14      50.350685\n",
              "15      22.160981\n",
              "16      46.718883\n",
              "17      40.492936\n",
              "18      39.282335\n",
              "19      46.545940\n",
              "20      49.831856\n",
              "21      63.840237\n",
              "22      60.381377\n",
              "23      92.548770\n",
              "24      67.644982\n",
              "25     102.233576\n",
              "26      83.555735\n",
              "27      62.456693\n",
              "28      81.480420\n",
              "29      69.374412\n",
              "          ...    \n",
              "79     161.034186\n",
              "80     142.010459\n",
              "81     164.493045\n",
              "82     164.493045\n",
              "83     171.410764\n",
              "84     159.304756\n",
              "85     143.739889\n",
              "86     167.951905\n",
              "87     159.304756\n",
              "88     202.540498\n",
              "89     161.034186\n",
              "90     121.257303\n",
              "91     148.928178\n",
              "92     122.986732\n",
              "93     110.880725\n",
              "94     119.527873\n",
              "95     147.198748\n",
              "96     150.657608\n",
              "97     126.445592\n",
              "98      98.774717\n",
              "99     138.551600\n",
              "100    150.657608\n",
              "101    161.380072\n",
              "102    181.787342\n",
              "103    133.363311\n",
              "104    130.250337\n",
              "105    106.730093\n",
              "106    136.130398\n",
              "107    157.229440\n",
              "108    159.304756\n",
              "Length: 109, dtype: float64"
            ]
          },
          "metadata": {},
          "execution_count": 21
        }
      ],
      "source": [
        "# Using the model created, predicting the values\n",
        "pred = model.predict(wcat.Waist)\n",
        "#pred = model.predict(wcat.iloc[:,0])\n",
        "pred"
      ]
    },
    {
      "cell_type": "code",
      "execution_count": null,
      "metadata": {
        "ExecuteTime": {
          "end_time": "2022-08-04T11:04:18.941829Z",
          "start_time": "2022-08-04T11:04:18.927824Z"
        },
        "colab": {
          "base_uri": "https://localhost:8080/"
        },
        "id": "kePOVnYn899i",
        "outputId": "bac11f7b-8359-4d33-f60d-3ef657f29ce9"
      },
      "outputs": [
        {
          "output_type": "execute_result",
          "data": {
            "text/plain": [
              "0     -16.848252\n",
              "1      -9.241704\n",
              "2     -24.353210\n",
              "3     -31.589758\n",
              "4     -12.382366\n",
              "5     -10.857559\n",
              "6     -34.760237\n",
              "7     -39.507385\n",
              "8       7.783917\n",
              "9      -4.987020\n",
              "10     -4.390502\n",
              "11      0.427034\n",
              "12      1.348866\n",
              "13    -14.788404\n",
              "14    -19.390685\n",
              "15     33.619019\n",
              "16     -2.938883\n",
              "17     -7.082936\n",
              "18      4.067665\n",
              "19    -17.235940\n",
              "20    -13.231856\n",
              "21    -23.590237\n",
              "22    -24.951377\n",
              "23    -32.458770\n",
              "24    -21.804982\n",
              "25    -31.833576\n",
              "26     -0.105735\n",
              "27     21.843307\n",
              "28     -2.590420\n",
              "29     -4.624412\n",
              "         ...    \n",
              "79     30.965814\n",
              "80    -10.010459\n",
              "81    -38.493045\n",
              "82    -11.493045\n",
              "83    -13.410764\n",
              "84     23.695244\n",
              "85     40.260111\n",
              "86    -46.951905\n",
              "87     -0.304756\n",
              "88     42.459502\n",
              "89    -24.034186\n",
              "90     43.742697\n",
              "91      3.071822\n",
              "92     58.013268\n",
              "93    -29.930725\n",
              "94     17.472127\n",
              "95    -22.198748\n",
              "96     90.342392\n",
              "97      7.554408\n",
              "98     51.225283\n",
              "99     59.448400\n",
              "100     0.342392\n",
              "101    67.619928\n",
              "102    71.212658\n",
              "103    54.636689\n",
              "104    -6.250337\n",
              "105   -44.530093\n",
              "106    -3.130398\n",
              "107    50.770560\n",
              "108    48.695244\n",
              "Length: 109, dtype: float64"
            ]
          },
          "metadata": {},
          "execution_count": 22
        }
      ],
      "source": [
        "# This tells us the errors in our predictions, i.e, Residuals = Actual value - predicted value\n",
        "model.resid"
      ]
    },
    {
      "cell_type": "code",
      "execution_count": null,
      "metadata": {
        "ExecuteTime": {
          "end_time": "2022-08-04T11:04:19.003866Z",
          "start_time": "2022-08-04T11:04:18.975704Z"
        },
        "colab": {
          "base_uri": "https://localhost:8080/"
        },
        "id": "qHrYrX6n899j",
        "outputId": "afa3574d-4ccf-46cb-f997-fe16082362fd"
      },
      "outputs": [
        {
          "output_type": "execute_result",
          "data": {
            "text/plain": [
              "0       42.568252\n",
              "1       35.131704\n",
              "2       66.953210\n",
              "3       74.389758\n",
              "4       42.222366\n",
              "5       32.537559\n",
              "6       63.840237\n",
              "7       72.487385\n",
              "8        3.656083\n",
              "9       37.207020\n",
              "10      32.710502\n",
              "11      43.432966\n",
              "12      36.861134\n",
              "13      57.268404\n",
              "14      50.350685\n",
              "15      22.160981\n",
              "16      46.718883\n",
              "17      40.492936\n",
              "18      39.282335\n",
              "19      46.545940\n",
              "20      49.831856\n",
              "21      63.840237\n",
              "22      60.381377\n",
              "23      92.548770\n",
              "24      67.644982\n",
              "25     102.233576\n",
              "26      83.555735\n",
              "27      62.456693\n",
              "28      81.480420\n",
              "29      69.374412\n",
              "          ...    \n",
              "79     161.034186\n",
              "80     142.010459\n",
              "81     164.493045\n",
              "82     164.493045\n",
              "83     171.410764\n",
              "84     159.304756\n",
              "85     143.739889\n",
              "86     167.951905\n",
              "87     159.304756\n",
              "88     202.540498\n",
              "89     161.034186\n",
              "90     121.257303\n",
              "91     148.928178\n",
              "92     122.986732\n",
              "93     110.880725\n",
              "94     119.527873\n",
              "95     147.198748\n",
              "96     150.657608\n",
              "97     126.445592\n",
              "98      98.774717\n",
              "99     138.551600\n",
              "100    150.657608\n",
              "101    161.380072\n",
              "102    181.787342\n",
              "103    133.363311\n",
              "104    130.250337\n",
              "105    106.730093\n",
              "106    136.130398\n",
              "107    157.229440\n",
              "108    159.304756\n",
              "Length: 109, dtype: float64"
            ]
          },
          "metadata": {},
          "execution_count": 23
        }
      ],
      "source": [
        "pred = model.predict(wcat.Waist)\n",
        "pred"
      ]
    },
    {
      "cell_type": "code",
      "execution_count": null,
      "metadata": {
        "ExecuteTime": {
          "end_time": "2022-08-04T11:04:19.020236Z",
          "start_time": "2022-08-04T11:04:19.005864Z"
        },
        "id": "4p39jPfL899j",
        "outputId": "b390e423-bb57-4e40-f1ff-8e98f46b6515",
        "colab": {
          "base_uri": "https://localhost:8080/"
        }
      },
      "outputs": [
        {
          "output_type": "execute_result",
          "data": {
            "text/plain": [
              "array([-5.09550501e-01, -2.79501693e-01, -7.36526900e-01, -9.55385603e-01,\n",
              "       -3.74486373e-01, -3.28370857e-01, -1.05127206e+00, -1.19484256e+00,\n",
              "        2.35413067e-01, -1.50825045e-01, -1.32784262e-01,  1.29149997e-02,\n",
              "        4.07944734e-02, -4.47253451e-01, -5.86442653e-01,  1.01675760e+00,\n",
              "       -8.88821743e-02, -2.14212943e-01,  1.23020519e-01, -5.21275561e-01,\n",
              "       -4.00177964e-01, -7.13451894e-01, -7.54617582e-01, -9.81667583e-01,\n",
              "       -6.59459501e-01, -9.62759522e-01, -3.19781076e-03,  6.60618576e-01,\n",
              "       -7.83434219e-02, -1.39858512e-01, -8.26468630e-03,  1.71170943e-02,\n",
              "       -5.78950111e-01, -2.93076130e-01, -2.97057035e-01,  3.06042549e-01,\n",
              "        2.48761552e-01, -3.41178084e-01,  4.02019198e-01, -5.40876395e-02,\n",
              "        8.97412236e-03,  1.09123902e-01, -3.50119995e-01,  1.71753428e+00,\n",
              "        7.69279067e-01, -1.10275004e+00, -9.64451677e-02,  3.66529597e-01,\n",
              "        1.88429083e-01,  6.95115285e-01,  4.95265365e-01,  5.09877715e-01,\n",
              "        1.64182014e+00, -9.86663558e-02, -4.07776106e-01,  6.88082435e-02,\n",
              "        3.45875024e-02,  2.19210876e+00, -2.71616788e-01,  4.70273747e-02,\n",
              "        1.39846029e-01,  6.67000524e-01, -9.70075897e-01, -1.07706214e+00,\n",
              "       -3.24477008e+00, -2.80465597e+00,  7.92427406e-01, -8.44646518e-01,\n",
              "       -1.51425539e+00,  3.59399916e-01, -1.99989739e+00,  6.24126210e-01,\n",
              "       -5.90591697e-01, -2.08814937e-01,  1.79721154e+00,  3.05324971e-01,\n",
              "       -9.46048563e-01, -5.06273229e-01, -1.16914228e+00,  9.36515345e-01,\n",
              "       -3.02751560e-01, -1.16416533e+00, -3.47590187e-01, -4.05588761e-01,\n",
              "        7.16627678e-01,  1.21760764e+00, -1.41999105e+00, -9.21689763e-03,\n",
              "        1.28412495e+00, -7.26878474e-01,  1.32293331e+00,  9.29027254e-02,\n",
              "        1.75452565e+00, -9.05210587e-01,  5.28418690e-01, -6.71368373e-01,\n",
              "        2.73227231e+00,  2.28471924e-01,  1.54923308e+00,  1.79792912e+00,\n",
              "        1.03551529e-02,  2.04506492e+00,  2.15372173e+00,  1.65240602e+00,\n",
              "       -1.89032222e-01, -1.34674694e+00, -9.46742714e-02,  1.53548064e+00,\n",
              "        1.47271578e+00])"
            ]
          },
          "metadata": {},
          "execution_count": 24
        }
      ],
      "source": [
        "model.resid_pearson"
      ]
    },
    {
      "cell_type": "code",
      "execution_count": null,
      "metadata": {
        "ExecuteTime": {
          "end_time": "2022-08-04T11:04:19.035184Z",
          "start_time": "2022-08-04T11:04:19.023797Z"
        },
        "id": "mQngmPBt899k"
      },
      "outputs": [],
      "source": [
        "#print(model.conf_int(0.05))"
      ]
    },
    {
      "cell_type": "code",
      "execution_count": null,
      "metadata": {
        "ExecuteTime": {
          "end_time": "2022-09-23T04:55:33.857780Z",
          "start_time": "2022-09-23T04:55:33.838596Z"
        },
        "colab": {
          "base_uri": "https://localhost:8080/"
        },
        "id": "dTEY_rYX899k",
        "outputId": "4c7049ad-aba3-4545-a076-0b63d7f16bcd"
      },
      "outputs": [
        {
          "output_type": "execute_result",
          "data": {
            "text/plain": [
              "32.760177495755144"
            ]
          },
          "metadata": {},
          "execution_count": 26
        }
      ],
      "source": [
        "# To find out the total error - we use Root mean square error (RMSE)\n",
        "rmse_lin = np.sqrt(np.mean((np.array(wcat['AT'])-np.array(pred))**2))\n",
        "rmse_lin"
      ]
    },
    {
      "cell_type": "code",
      "execution_count": null,
      "metadata": {
        "id": "0FNpq9Xj899l"
      },
      "outputs": [],
      "source": [
        "# Understanding RMSE -\n",
        "# Error = Actual value - predicted value = (AV - PV)\n",
        "# Squared error = (AV - PV)**2\n",
        "# Mean squared error = (Σ(Av - PV)**2)/n , where n is the no. of Observation\n",
        "# Root mean squared error = √((Σ(Av - PV)**2)/n)"
      ]
    },
    {
      "cell_type": "code",
      "execution_count": null,
      "metadata": {
        "ExecuteTime": {
          "end_time": "2022-08-04T11:04:19.255877Z",
          "start_time": "2022-08-04T11:04:19.052002Z"
        },
        "colab": {
          "base_uri": "https://localhost:8080/",
          "height": 466
        },
        "id": "QkyHpBMX899l",
        "outputId": "c15d7f68-eef5-4706-d60e-763e0706e4e9"
      },
      "outputs": [
        {
          "output_type": "execute_result",
          "data": {
            "text/plain": [
              "Text(0, 0.5, 'TISSUE')"
            ]
          },
          "metadata": {},
          "execution_count": 28
        },
        {
          "output_type": "display_data",
          "data": {
            "text/plain": [
              "<Figure size 640x480 with 1 Axes>"
            ],
            "image/png": "[encoded data removed]"
          },
          "metadata": {}
        }
      ],
      "source": [
        "# Plotting the predicted model using the scatter plot\n",
        "# The red dots are the actual values and the black linear line is the predicted values\n",
        "# This model has R2 vale of = 0.67 and RMSE value of = 32.76 as calculated above\n",
        "plt.scatter(x=wcat['Waist'],y=wcat['AT'],color='red')\n",
        "plt.plot(wcat['Waist'],pred,color='black')\n",
        "plt.xlabel('WAIST')\n",
        "plt.ylabel('TISSUE')"
      ]
    },
    {
      "cell_type": "markdown",
      "source": [
        "The issue with the above model is that we need to achieve R2 value of min = 0.75\n",
        "\n",
        "To do that we need to apply transformations. The different transformations are -\n",
        "\n",
        "1. Log Transformation\n",
        "2. Exponential Transformation\n",
        "3. Square or quadratic Transformation\n",
        "4. Square root Transformation\n",
        "\n",
        "or make a combination of the above transformations.\n",
        "Basically, modify the equation by applying some mathematical functions. This is called as Transformations.\n",
        "\n",
        "This helps us increase the R2 value and decreasing the Error. In this case RMSE value to be decreased."
      ],
      "metadata": {
        "id": "CDgz73tqTlJY"
      }
    },
    {
      "cell_type": "code",
      "execution_count": null,
      "metadata": {
        "ExecuteTime": {
          "end_time": "2022-09-23T04:58:35.033553Z",
          "start_time": "2022-09-23T04:58:35.025290Z"
        },
        "id": "3kx92oaR899l"
      },
      "outputs": [],
      "source": [
        "# 1st Transformation - Log transformation\n",
        "# Regular eq => y= Bo + B1(x)\n",
        "# after log transformation, = Bo + B1 log(x)\n",
        "# This is the 2nd model we are creating\n",
        "model2 = smf.ols('AT~np.log(Waist)',data=wcat).fit()\n",
        "#model2.params\n",
        "#model2.resid\n",
        "#model2.resid_pearson\n"
      ]
    },
    {
      "cell_type": "code",
      "execution_count": null,
      "metadata": {
        "ExecuteTime": {
          "end_time": "2022-09-23T04:58:37.767615Z",
          "start_time": "2022-09-23T04:58:37.757624Z"
        },
        "colab": {
          "base_uri": "https://localhost:8080/",
          "height": 444
        },
        "id": "laxghkc7899m",
        "outputId": "ee2920db-442d-44c0-87c6-0744134b64e8"
      },
      "outputs": [
        {
          "output_type": "execute_result",
          "data": {
            "text/plain": [
              "<class 'statsmodels.iolib.summary.Summary'>\n",
              "\"\"\"\n",
              "                            OLS Regression Results                            \n",
              "==============================================================================\n",
              "Dep. Variable:                     AT   R-squared:                       0.675\n",
              "Model:                            OLS   Adj. R-squared:                  0.672\n",
              "Method:                 Least Squares   F-statistic:                     222.6\n",
              "Date:                Mon, 27 May 2024   Prob (F-statistic):           6.80e-28\n",
              "Time:                        14:32:35   Log-Likelihood:                -534.11\n",
              "No. Observations:                 109   AIC:                             1072.\n",
              "Df Residuals:                     107   BIC:                             1078.\n",
              "Df Model:                           1                                         \n",
              "Covariance Type:            nonrobust                                         \n",
              "=================================================================================\n",
              "                    coef    std err          t      P>|t|      [0.025      0.975]\n",
              "---------------------------------------------------------------------------------\n",
              "Intercept     -1328.3420     95.923    -13.848      0.000   -1518.498   -1138.186\n",
              "np.log(Waist)   317.1356     21.258     14.918      0.000     274.994     359.277\n",
              "==============================================================================\n",
              "Omnibus:                        3.317   Durbin-Watson:                   1.599\n",
              "Prob(Omnibus):                  0.190   Jarque-Bera (JB):                2.908\n",
              "Skew:                           0.235   Prob(JB):                        0.234\n",
              "Kurtosis:                       3.647   Cond. No.                         145.\n",
              "==============================================================================\n",
              "\n",
              "Notes:\n",
              "[1] Standard Errors assume that the covariance matrix of the errors is correctly specified.\n",
              "\"\"\""
            ],
            "text/html": [
              "<table class=\"simpletable\">\n",
              "<caption>OLS Regression Results</caption>\n",
              "<tr>\n",
              "  <th>Dep. Variable:</th>           <td>AT</td>        <th>  R-squared:         </th> <td>   0.675</td>\n",
              "</tr>\n",
              "<tr>\n",
              "  <th>Model:</th>                   <td>OLS</td>       <th>  Adj. R-squared:    </th> <td>   0.672</td>\n",
              "</tr>\n",
              "<tr>\n",
              "  <th>Method:</th>             <td>Least Squares</td>  <th>  F-statistic:       </th> <td>   222.6</td>\n",
              "</tr>\n",
              "<tr>\n",
              "  <th>Date:</th>             <td>Mon, 27 May 2024</td> <th>  Prob (F-statistic):</th> <td>6.80e-28</td>\n",
              "</tr>\n",
              "<tr>\n",
              "  <th>Time:</th>                 <td>14:32:35</td>     <th>  Log-Likelihood:    </th> <td> -534.11</td>\n",
              "</tr>\n",
              "<tr>\n",
              "  <th>No. Observations:</th>      <td>   109</td>      <th>  AIC:               </th> <td>   1072.</td>\n",
              "</tr>\n",
              "<tr>\n",
              "  <th>Df Residuals:</th>          <td>   107</td>      <th>  BIC:               </th> <td>   1078.</td>\n",
              "</tr>\n",
              "<tr>\n",
              "  <th>Df Model:</th>              <td>     1</td>      <th>                     </th>     <td> </td>   \n",
              "</tr>\n",
              "<tr>\n",
              "  <th>Covariance Type:</th>      <td>nonrobust</td>    <th>                     </th>     <td> </td>   \n",
              "</tr>\n",
              "</table>\n",
              "<table class=\"simpletable\">\n",
              "<tr>\n",
              "        <td></td>           <th>coef</th>     <th>std err</th>      <th>t</th>      <th>P>|t|</th>  <th>[0.025</th>    <th>0.975]</th>  \n",
              "</tr>\n",
              "<tr>\n",
              "  <th>Intercept</th>     <td>-1328.3420</td> <td>   95.923</td> <td>  -13.848</td> <td> 0.000</td> <td>-1518.498</td> <td>-1138.186</td>\n",
              "</tr>\n",
              "<tr>\n",
              "  <th>np.log(Waist)</th> <td>  317.1356</td> <td>   21.258</td> <td>   14.918</td> <td> 0.000</td> <td>  274.994</td> <td>  359.277</td>\n",
              "</tr>\n",
              "</table>\n",
              "<table class=\"simpletable\">\n",
              "<tr>\n",
              "  <th>Omnibus:</th>       <td> 3.317</td> <th>  Durbin-Watson:     </th> <td>   1.599</td>\n",
              "</tr>\n",
              "<tr>\n",
              "  <th>Prob(Omnibus):</th> <td> 0.190</td> <th>  Jarque-Bera (JB):  </th> <td>   2.908</td>\n",
              "</tr>\n",
              "<tr>\n",
              "  <th>Skew:</th>          <td> 0.235</td> <th>  Prob(JB):          </th> <td>   0.234</td>\n",
              "</tr>\n",
              "<tr>\n",
              "  <th>Kurtosis:</th>      <td> 3.647</td> <th>  Cond. No.          </th> <td>    145.</td>\n",
              "</tr>\n",
              "</table><br/><br/>Notes:<br/>[1] Standard Errors assume that the covariance matrix of the errors is correctly specified."
            ],
            "text/latex": "\\begin{center}\n\\begin{tabular}{lclc}\n\\toprule\n\\textbf{Dep. Variable:}    &        AT        & \\textbf{  R-squared:         } &     0.675   \\\\\n\\textbf{Model:}            &       OLS        & \\textbf{  Adj. R-squared:    } &     0.672   \\\\\n\\textbf{Method:}           &  Least Squares   & \\textbf{  F-statistic:       } &     222.6   \\\\\n\\textbf{Date:}             & Mon, 27 May 2024 & \\textbf{  Prob (F-statistic):} &  6.80e-28   \\\\\n\\textbf{Time:}             &     14:32:35     & \\textbf{  Log-Likelihood:    } &   -534.11   \\\\\n\\textbf{No. Observations:} &         109      & \\textbf{  AIC:               } &     1072.   \\\\\n\\textbf{Df Residuals:}     &         107      & \\textbf{  BIC:               } &     1078.   \\\\\n\\textbf{Df Model:}         &           1      & \\textbf{                     } &             \\\\\n\\textbf{Covariance Type:}  &    nonrobust     & \\textbf{                     } &             \\\\\n\\bottomrule\n\\end{tabular}\n\\begin{tabular}{lcccccc}\n                       & \\textbf{coef} & \\textbf{std err} & \\textbf{t} & \\textbf{P$> |$t$|$} & \\textbf{[0.025} & \\textbf{0.975]}  \\\\\n\\midrule\n\\textbf{Intercept}     &   -1328.3420  &       95.923     &   -13.848  &         0.000        &    -1518.498    &    -1138.186     \\\\\n\\textbf{np.log(Waist)} &     317.1356  &       21.258     &    14.918  &         0.000        &      274.994    &      359.277     \\\\\n\\bottomrule\n\\end{tabular}\n\\begin{tabular}{lclc}\n\\textbf{Omnibus:}       &  3.317 & \\textbf{  Durbin-Watson:     } &    1.599  \\\\\n\\textbf{Prob(Omnibus):} &  0.190 & \\textbf{  Jarque-Bera (JB):  } &    2.908  \\\\\n\\textbf{Skew:}          &  0.235 & \\textbf{  Prob(JB):          } &    0.234  \\\\\n\\textbf{Kurtosis:}      &  3.647 & \\textbf{  Cond. No.          } &     145.  \\\\\n\\bottomrule\n\\end{tabular}\n%\\caption{OLS Regression Results}\n\\end{center}\n\nNotes: \\newline\n [1] Standard Errors assume that the covariance matrix of the errors is correctly specified."
          },
          "metadata": {},
          "execution_count": 30
        }
      ],
      "source": [
        "# Summary of Model 2\n",
        "model2.summary()"
      ]
    },
    {
      "cell_type": "code",
      "execution_count": null,
      "metadata": {
        "ExecuteTime": {
          "end_time": "2022-09-23T05:01:21.994061Z",
          "start_time": "2022-09-23T05:01:21.976037Z"
        },
        "colab": {
          "base_uri": "https://localhost:8080/"
        },
        "id": "YNEFmXt5899m",
        "outputId": "69550602-714c-49d0-b52e-e1335a425bc1"
      },
      "outputs": [
        {
          "output_type": "execute_result",
          "data": {
            "text/plain": [
              "0       39.828156\n",
              "1       30.572779\n",
              "2       68.410960\n",
              "3       76.638769\n",
              "4       39.403610\n",
              "5       27.279545\n",
              "6       64.902356\n",
              "7       74.554213\n",
              "8      -11.899606\n",
              "9       33.182963\n",
              "10      27.500161\n",
              "11      40.887040\n",
              "12      32.749422\n",
              "13      57.365321\n",
              "14      49.233194\n",
              "15      13.753591\n",
              "16      44.878862\n",
              "17      37.272314\n",
              "18      35.771839\n",
              "19      44.670014\n",
              "20      48.614795\n",
              "21      64.902356\n",
              "22      60.957833\n",
              "23      95.876103\n",
              "24      69.185406\n",
              "25     105.677983\n",
              "26      86.494845\n",
              "27      63.330429\n",
              "28      84.289954\n",
              "29      71.113288\n",
              "          ...    \n",
              "79     159.451269\n",
              "80     143.031172\n",
              "81     162.347504\n",
              "82     162.347504\n",
              "83     168.061813\n",
              "84     157.993171\n",
              "85     144.559539\n",
              "86     165.217529\n",
              "87     157.993171\n",
              "88     192.573752\n",
              "89     159.451269\n",
              "90     124.092079\n",
              "91     149.100938\n",
              "92     125.714259\n",
              "93     114.180786\n",
              "94     122.461558\n",
              "95     147.594352\n",
              "96     150.600399\n",
              "97     128.933937\n",
              "98     102.211986\n",
              "99     139.952162\n",
              "100    150.600399\n",
              "101    159.742085\n",
              "102    176.444739\n",
              "103    135.276860\n",
              "104    132.438233\n",
              "105    110.127880\n",
              "106    137.778929\n",
              "107    156.234559\n",
              "108    157.993171\n",
              "Length: 109, dtype: float64"
            ]
          },
          "metadata": {},
          "execution_count": 31
        }
      ],
      "source": [
        "# After building the model, we make our predictions\n",
        "pred2 = model2.predict(pd.DataFrame(wcat['Waist']))\n",
        "pred2"
      ]
    },
    {
      "cell_type": "code",
      "execution_count": null,
      "metadata": {
        "ExecuteTime": {
          "end_time": "2022-09-23T05:01:26.706520Z",
          "start_time": "2022-09-23T05:01:26.696293Z"
        },
        "colab": {
          "base_uri": "https://localhost:8080/"
        },
        "id": "Jhj8EebJ899n",
        "outputId": "942f141a-1463-4523-cecd-d15de2e2e0d0"
      },
      "outputs": [
        {
          "output_type": "execute_result",
          "data": {
            "text/plain": [
              "32.49688490932126"
            ]
          },
          "metadata": {},
          "execution_count": 32
        }
      ],
      "source": [
        "# We find out the error in the log model or Model 2\n",
        "rmse_log = np.sqrt(np.mean((np.array(wcat['AT'])-np.array(pred2))**2))\n",
        "rmse_log"
      ]
    },
    {
      "cell_type": "code",
      "execution_count": null,
      "metadata": {
        "ExecuteTime": {
          "end_time": "2022-08-04T11:04:19.379425Z",
          "start_time": "2022-08-04T11:04:19.365049Z"
        },
        "colab": {
          "base_uri": "https://localhost:8080/"
        },
        "id": "crpKLxZW899n",
        "outputId": "b7339194-8a91-485d-9542-a5f17bce87c7"
      },
      "outputs": [
        {
          "output_type": "execute_result",
          "data": {
            "text/plain": [
              "0.8217781862645351"
            ]
          },
          "metadata": {},
          "execution_count": 33
        }
      ],
      "source": [
        "# Understanding the strength of correlation between the 2 variables - log(x) & y\n",
        "pred2.corr(wcat.AT)"
      ]
    },
    {
      "cell_type": "code",
      "execution_count": null,
      "metadata": {
        "ExecuteTime": {
          "end_time": "2022-08-04T11:04:19.552298Z",
          "start_time": "2022-08-04T11:04:19.380417Z"
        },
        "colab": {
          "base_uri": "https://localhost:8080/",
          "height": 466
        },
        "id": "mA4V8Eio899o",
        "outputId": "d0c8d187-6e96-4077-c61c-b494ce40a8f3"
      },
      "outputs": [
        {
          "output_type": "execute_result",
          "data": {
            "text/plain": [
              "Text(0, 0.5, 'TISSUE')"
            ]
          },
          "metadata": {},
          "execution_count": 34
        },
        {
          "output_type": "display_data",
          "data": {
            "text/plain": [
              "<Figure size 640x480 with 1 Axes>"
            ],
            "image/png": "[encoded data removed]"
          },
          "metadata": {}
        }
      ],
      "source": [
        "# Plotting Model 2 - the green dots are actual values and the blue line is the predicted values\n",
        "plt.scatter(x=wcat['Waist'],y=wcat['AT'],color='green')\n",
        "plt.plot(wcat['Waist'],pred2,color='blue')\n",
        "plt.xlabel('WAIST')\n",
        "plt.ylabel('TISSUE')"
      ]
    },
    {
      "cell_type": "code",
      "execution_count": null,
      "metadata": {
        "ExecuteTime": {
          "end_time": "2022-09-23T05:04:38.934882Z",
          "start_time": "2022-09-23T05:04:38.900219Z"
        },
        "colab": {
          "base_uri": "https://localhost:8080/",
          "height": 444
        },
        "id": "1vpR0ogU899p",
        "outputId": "64ffc2e2-770c-4ccf-e1a3-6140de4c4de1"
      },
      "outputs": [
        {
          "output_type": "execute_result",
          "data": {
            "text/plain": [
              "<class 'statsmodels.iolib.summary.Summary'>\n",
              "\"\"\"\n",
              "                            OLS Regression Results                            \n",
              "==============================================================================\n",
              "Dep. Variable:             np.log(AT)   R-squared:                       0.707\n",
              "Model:                            OLS   Adj. R-squared:                  0.704\n",
              "Method:                 Least Squares   F-statistic:                     258.3\n",
              "Date:                Mon, 27 May 2024   Prob (F-statistic):           2.68e-30\n",
              "Time:                        14:32:37   Log-Likelihood:                -40.123\n",
              "No. Observations:                 109   AIC:                             84.25\n",
              "Df Residuals:                     107   BIC:                             89.63\n",
              "Df Model:                           1                                         \n",
              "Covariance Type:            nonrobust                                         \n",
              "==============================================================================\n",
              "                 coef    std err          t      P>|t|      [0.025      0.975]\n",
              "------------------------------------------------------------------------------\n",
              "Intercept      0.7410      0.233      3.185      0.002       0.280       1.202\n",
              "Waist          0.0403      0.003     16.073      0.000       0.035       0.045\n",
              "==============================================================================\n",
              "Omnibus:                        2.604   Durbin-Watson:                   1.201\n",
              "Prob(Omnibus):                  0.272   Jarque-Bera (JB):                2.117\n",
              "Skew:                          -0.329   Prob(JB):                        0.347\n",
              "Kurtosis:                       3.182   Cond. No.                         639.\n",
              "==============================================================================\n",
              "\n",
              "Notes:\n",
              "[1] Standard Errors assume that the covariance matrix of the errors is correctly specified.\n",
              "\"\"\""
            ],
            "text/html": [
              "<table class=\"simpletable\">\n",
              "<caption>OLS Regression Results</caption>\n",
              "<tr>\n",
              "  <th>Dep. Variable:</th>       <td>np.log(AT)</td>    <th>  R-squared:         </th> <td>   0.707</td>\n",
              "</tr>\n",
              "<tr>\n",
              "  <th>Model:</th>                   <td>OLS</td>       <th>  Adj. R-squared:    </th> <td>   0.704</td>\n",
              "</tr>\n",
              "<tr>\n",
              "  <th>Method:</th>             <td>Least Squares</td>  <th>  F-statistic:       </th> <td>   258.3</td>\n",
              "</tr>\n",
              "<tr>\n",
              "  <th>Date:</th>             <td>Mon, 27 May 2024</td> <th>  Prob (F-statistic):</th> <td>2.68e-30</td>\n",
              "</tr>\n",
              "<tr>\n",
              "  <th>Time:</th>                 <td>14:32:37</td>     <th>  Log-Likelihood:    </th> <td> -40.123</td>\n",
              "</tr>\n",
              "<tr>\n",
              "  <th>No. Observations:</th>      <td>   109</td>      <th>  AIC:               </th> <td>   84.25</td>\n",
              "</tr>\n",
              "<tr>\n",
              "  <th>Df Residuals:</th>          <td>   107</td>      <th>  BIC:               </th> <td>   89.63</td>\n",
              "</tr>\n",
              "<tr>\n",
              "  <th>Df Model:</th>              <td>     1</td>      <th>                     </th>     <td> </td>   \n",
              "</tr>\n",
              "<tr>\n",
              "  <th>Covariance Type:</th>      <td>nonrobust</td>    <th>                     </th>     <td> </td>   \n",
              "</tr>\n",
              "</table>\n",
              "<table class=\"simpletable\">\n",
              "<tr>\n",
              "      <td></td>         <th>coef</th>     <th>std err</th>      <th>t</th>      <th>P>|t|</th>  <th>[0.025</th>    <th>0.975]</th>  \n",
              "</tr>\n",
              "<tr>\n",
              "  <th>Intercept</th> <td>    0.7410</td> <td>    0.233</td> <td>    3.185</td> <td> 0.002</td> <td>    0.280</td> <td>    1.202</td>\n",
              "</tr>\n",
              "<tr>\n",
              "  <th>Waist</th>     <td>    0.0403</td> <td>    0.003</td> <td>   16.073</td> <td> 0.000</td> <td>    0.035</td> <td>    0.045</td>\n",
              "</tr>\n",
              "</table>\n",
              "<table class=\"simpletable\">\n",
              "<tr>\n",
              "  <th>Omnibus:</th>       <td> 2.604</td> <th>  Durbin-Watson:     </th> <td>   1.201</td>\n",
              "</tr>\n",
              "<tr>\n",
              "  <th>Prob(Omnibus):</th> <td> 0.272</td> <th>  Jarque-Bera (JB):  </th> <td>   2.117</td>\n",
              "</tr>\n",
              "<tr>\n",
              "  <th>Skew:</th>          <td>-0.329</td> <th>  Prob(JB):          </th> <td>   0.347</td>\n",
              "</tr>\n",
              "<tr>\n",
              "  <th>Kurtosis:</th>      <td> 3.182</td> <th>  Cond. No.          </th> <td>    639.</td>\n",
              "</tr>\n",
              "</table><br/><br/>Notes:<br/>[1] Standard Errors assume that the covariance matrix of the errors is correctly specified."
            ],
            "text/latex": "\\begin{center}\n\\begin{tabular}{lclc}\n\\toprule\n\\textbf{Dep. Variable:}    &    np.log(AT)    & \\textbf{  R-squared:         } &     0.707   \\\\\n\\textbf{Model:}            &       OLS        & \\textbf{  Adj. R-squared:    } &     0.704   \\\\\n\\textbf{Method:}           &  Least Squares   & \\textbf{  F-statistic:       } &     258.3   \\\\\n\\textbf{Date:}             & Mon, 27 May 2024 & \\textbf{  Prob (F-statistic):} &  2.68e-30   \\\\\n\\textbf{Time:}             &     14:32:37     & \\textbf{  Log-Likelihood:    } &   -40.123   \\\\\n\\textbf{No. Observations:} &         109      & \\textbf{  AIC:               } &     84.25   \\\\\n\\textbf{Df Residuals:}     &         107      & \\textbf{  BIC:               } &     89.63   \\\\\n\\textbf{Df Model:}         &           1      & \\textbf{                     } &             \\\\\n\\textbf{Covariance Type:}  &    nonrobust     & \\textbf{                     } &             \\\\\n\\bottomrule\n\\end{tabular}\n\\begin{tabular}{lcccccc}\n                   & \\textbf{coef} & \\textbf{std err} & \\textbf{t} & \\textbf{P$> |$t$|$} & \\textbf{[0.025} & \\textbf{0.975]}  \\\\\n\\midrule\n\\textbf{Intercept} &       0.7410  &        0.233     &     3.185  &         0.002        &        0.280    &        1.202     \\\\\n\\textbf{Waist}     &       0.0403  &        0.003     &    16.073  &         0.000        &        0.035    &        0.045     \\\\\n\\bottomrule\n\\end{tabular}\n\\begin{tabular}{lclc}\n\\textbf{Omnibus:}       &  2.604 & \\textbf{  Durbin-Watson:     } &    1.201  \\\\\n\\textbf{Prob(Omnibus):} &  0.272 & \\textbf{  Jarque-Bera (JB):  } &    2.117  \\\\\n\\textbf{Skew:}          & -0.329 & \\textbf{  Prob(JB):          } &    0.347  \\\\\n\\textbf{Kurtosis:}      &  3.182 & \\textbf{  Cond. No.          } &     639.  \\\\\n\\bottomrule\n\\end{tabular}\n%\\caption{OLS Regression Results}\n\\end{center}\n\nNotes: \\newline\n [1] Standard Errors assume that the covariance matrix of the errors is correctly specified."
          },
          "metadata": {},
          "execution_count": 35
        }
      ],
      "source": [
        "# 2nd Transformation - Exponential  transformation\n",
        "# Regular eq => y= Bo + B1(x)\n",
        "# after exponential transformation, log(y)= Bo + B1(x) , i.e., y = e**(Bo+B1(x))\n",
        "model3 = smf.ols('np.log(AT)~Waist',data=wcat).fit()\n",
        "model3.params\n",
        "model3.summary()\n"
      ]
    },
    {
      "cell_type": "code",
      "execution_count": null,
      "metadata": {
        "ExecuteTime": {
          "end_time": "2022-09-23T05:04:43.248216Z",
          "start_time": "2022-09-23T05:04:43.230739Z"
        },
        "id": "fZEe0Txh899p"
      },
      "outputs": [],
      "source": [
        "# Using the model, we are making predictions\n",
        "pred_log = model3.predict(pd.DataFrame(wcat['Waist']))"
      ]
    },
    {
      "cell_type": "code",
      "execution_count": null,
      "metadata": {
        "ExecuteTime": {
          "end_time": "2022-08-04T11:04:19.645019Z",
          "start_time": "2022-08-04T11:04:19.632010Z"
        },
        "colab": {
          "base_uri": "https://localhost:8080/"
        },
        "id": "Rxxyj6KF899q",
        "outputId": "236784fd-8ae7-4958-cb93-a90ae2d3180e"
      },
      "outputs": [
        {
          "output_type": "execute_result",
          "data": {
            "text/plain": [
              "0      3.749889\n",
              "1      3.663346\n",
              "2      4.033669\n",
              "3      4.120211\n",
              "4      3.745864\n",
              "5      3.633157\n",
              "6      3.997441\n",
              "7      4.098072\n",
              "8      3.297049\n",
              "9      3.687498\n",
              "10     3.635170\n",
              "11     3.759952\n",
              "12     3.683472\n",
              "13     3.920962\n",
              "14     3.840457\n",
              "15     3.512400\n",
              "16     3.798192\n",
              "17     3.725738\n",
              "18     3.711649\n",
              "19     3.796179\n",
              "20     3.834419\n",
              "21     3.997441\n",
              "22     3.957189\n",
              "23     4.331536\n",
              "24     4.041719\n",
              "25     4.444243\n",
              "26     4.226880\n",
              "27     3.981340\n",
              "28     4.202729\n",
              "29     4.061845\n",
              "         ...   \n",
              "79     5.128534\n",
              "80     4.907146\n",
              "81     5.168787\n",
              "82     5.168787\n",
              "83     5.249292\n",
              "84     5.108408\n",
              "85     4.927272\n",
              "86     5.209039\n",
              "87     5.108408\n",
              "88     5.611563\n",
              "89     5.128534\n",
              "90     4.665631\n",
              "91     4.987651\n",
              "92     4.685758\n",
              "93     4.544874\n",
              "94     4.645505\n",
              "95     4.967525\n",
              "96     5.007777\n",
              "97     4.726010\n",
              "98     4.403991\n",
              "99     4.866894\n",
              "100    5.007777\n",
              "101    5.132560\n",
              "102    5.370049\n",
              "103    4.806515\n",
              "104    4.770288\n",
              "105    4.496571\n",
              "106    4.838717\n",
              "107    5.084257\n",
              "108    5.108408\n",
              "Length: 109, dtype: float64"
            ]
          },
          "metadata": {},
          "execution_count": 37
        }
      ],
      "source": [
        "# Printing the predictions of model 2\n",
        "# The predicted values are very small as we are predicting log(y)\n",
        "pred_log"
      ]
    },
    {
      "cell_type": "code",
      "execution_count": null,
      "metadata": {
        "ExecuteTime": {
          "end_time": "2022-09-23T05:05:51.115610Z",
          "start_time": "2022-09-23T05:05:51.101815Z"
        },
        "colab": {
          "base_uri": "https://localhost:8080/"
        },
        "id": "tGPFaOyD899q",
        "outputId": "f05214df-4b2d-445b-dbf3-4258b6b84d5e"
      },
      "outputs": [
        {
          "output_type": "execute_result",
          "data": {
            "text/plain": [
              "0       42.516361\n",
              "1       38.991601\n",
              "2       56.467684\n",
              "3       61.572246\n",
              "4       42.345566\n",
              "5       37.832062\n",
              "6       54.458630\n",
              "7       60.224086\n",
              "8       27.032754\n",
              "9       39.944768\n",
              "10      37.908280\n",
              "11      42.946367\n",
              "12      39.784304\n",
              "13      50.448940\n",
              "14      46.546737\n",
              "15      33.528629\n",
              "16      44.620431\n",
              "17      41.501829\n",
              "18      40.921236\n",
              "19      44.530718\n",
              "20      46.266541\n",
              "21      54.458630\n",
              "22      52.310071\n",
              "23      76.061058\n",
              "24      56.924111\n",
              "25      85.135421\n",
              "26      68.503177\n",
              "27      53.588815\n",
              "28      66.868544\n",
              "29      58.081384\n",
              "          ...    \n",
              "79     168.769572\n",
              "80     135.252851\n",
              "81     175.701533\n",
              "82     175.701533\n",
              "83     190.431312\n",
              "84     165.406833\n",
              "85     138.002556\n",
              "86     182.918215\n",
              "87     165.406833\n",
              "88     273.571587\n",
              "89     168.769572\n",
              "90     106.232649\n",
              "91     146.591651\n",
              "92     108.392370\n",
              "93      94.148585\n",
              "94     104.115960\n",
              "95     143.670808\n",
              "96     149.571875\n",
              "97     112.844427\n",
              "98      81.776569\n",
              "99     129.916714\n",
              "100    149.571875\n",
              "101    169.450279\n",
              "102    214.873357\n",
              "103    122.304636\n",
              "104    117.953181\n",
              "105     89.709020\n",
              "106    126.307181\n",
              "107    161.459872\n",
              "108    165.406833\n",
              "Length: 109, dtype: float64"
            ]
          },
          "metadata": {},
          "execution_count": 38
        }
      ],
      "source": [
        "# We are taking exponential values of the above predicted log(y) to get the Y value\n",
        "pred3=np.exp(pred_log)  # as we have used log(AT) in preparing model so we need to convert it back\n",
        "pred3"
      ]
    },
    {
      "cell_type": "code",
      "execution_count": null,
      "metadata": {
        "ExecuteTime": {
          "end_time": "2022-09-23T05:06:22.462718Z",
          "start_time": "2022-09-23T05:06:22.442669Z"
        },
        "colab": {
          "base_uri": "https://localhost:8080/"
        },
        "id": "Qk-hk9lF899r",
        "outputId": "4590abef-5824-4740-fa07-a0e7f8b1577a"
      },
      "outputs": [
        {
          "output_type": "execute_result",
          "data": {
            "text/plain": [
              "38.52900175807143"
            ]
          },
          "metadata": {},
          "execution_count": 39
        }
      ],
      "source": [
        "# We find out the error in the exponential model or Model 3\n",
        "rmse_exp = np.sqrt(np.mean((np.array(wcat['AT'])-np.array(pred3))**2))\n",
        "rmse_exp"
      ]
    },
    {
      "cell_type": "code",
      "execution_count": null,
      "metadata": {
        "ExecuteTime": {
          "end_time": "2022-08-04T11:04:19.692376Z",
          "start_time": "2022-08-04T11:04:19.678261Z"
        },
        "id": "cRXPEXXw899r",
        "outputId": "0866a35e-9a3d-4792-d050-76276e6384de",
        "colab": {
          "base_uri": "https://localhost:8080/"
        }
      },
      "outputs": [
        {
          "output_type": "execute_result",
          "data": {
            "text/plain": [
              "0.7633804583650525"
            ]
          },
          "metadata": {},
          "execution_count": 40
        }
      ],
      "source": [
        "# Understanding the strength of correlation between the 2 variables - x & log(y)\n",
        "pred3.corr(wcat.AT)"
      ]
    },
    {
      "cell_type": "code",
      "execution_count": null,
      "metadata": {
        "ExecuteTime": {
          "end_time": "2022-08-04T11:04:19.954660Z",
          "start_time": "2022-08-04T11:04:19.695445Z"
        },
        "colab": {
          "base_uri": "https://localhost:8080/",
          "height": 466
        },
        "id": "uWwBGBaw899s",
        "outputId": "849f338a-d600-43ee-b676-c1e5c12c37a4"
      },
      "outputs": [
        {
          "output_type": "execute_result",
          "data": {
            "text/plain": [
              "Text(0, 0.5, 'TISSUE')"
            ]
          },
          "metadata": {},
          "execution_count": 41
        },
        {
          "output_type": "display_data",
          "data": {
            "text/plain": [
              "<Figure size 640x480 with 1 Axes>"
            ],
            "image/png": "[encoded data removed]"
          },
          "metadata": {}
        }
      ],
      "source": [
        "# Plotting Model 3 - the green dots are actual values and the blue line is the predicted values\n",
        "plt.scatter(x=wcat['Waist'],y=wcat['AT'],color='green')\n",
        "plt.plot(wcat.Waist,pred3,color='blue')\n",
        "plt.xlabel('WAIST')\n",
        "plt.ylabel('TISSUE')\n"
      ]
    },
    {
      "cell_type": "code",
      "execution_count": null,
      "metadata": {
        "ExecuteTime": {
          "end_time": "2022-08-04T11:08:59.809146Z",
          "start_time": "2022-08-04T11:08:59.635662Z"
        },
        "id": "EJxDpFTm8993",
        "outputId": "027ea44a-4e7e-4f53-d613-aca8e1e578ef",
        "colab": {
          "base_uri": "https://localhost:8080/",
          "height": 447
        }
      },
      "outputs": [
        {
          "output_type": "execute_result",
          "data": {
            "text/plain": [
              "[<matplotlib.lines.Line2D at 0x7e1cc8a65c90>]"
            ]
          },
          "metadata": {},
          "execution_count": 42
        },
        {
          "output_type": "display_data",
          "data": {
            "text/plain": [
              "<Figure size 640x480 with 1 Axes>"
            ],
            "image/png": "[encoded data removed]"
          },
          "metadata": {}
        }
      ],
      "source": [
        "plt.plot(wcat['Waist'],wcat['AT'], 'bo')\n",
        "plt.plot(wcat.Waist,pred3,color='red')"
      ]
    },
    {
      "cell_type": "code",
      "execution_count": null,
      "metadata": {
        "ExecuteTime": {
          "end_time": "2022-08-04T11:04:19.970654Z",
          "start_time": "2022-08-04T11:04:19.956159Z"
        },
        "id": "5yJrT5Tz8993",
        "outputId": "ec6c0f17-9beb-4911-fe86-e7455cae3b50",
        "colab": {
          "base_uri": "https://localhost:8080/"
        }
      },
      "outputs": [
        {
          "output_type": "execute_result",
          "data": {
            "text/plain": [
              "array([-1.42426841, -1.16036536, -0.79857367, -1.03053611, -0.99183029,\n",
              "       -1.57770329, -1.77782943, -1.7063649 , -2.43678253, -0.60898882,\n",
              "       -0.82630708,  0.05965107, -0.11441073, -0.48719133, -1.15546702,\n",
              "        1.44239166, -0.05388192, -0.61457662,  0.16338349, -1.18519137,\n",
              "       -0.66413371, -0.85671265, -1.10408983, -0.66788034, -0.61366891,\n",
              "       -0.53854217,  0.559278  ,  1.28377825,  0.46848176,  0.30798929,\n",
              "        0.51662718,  0.58049434, -0.07722426,  0.24329581, -0.00731172,\n",
              "        0.71101855,  0.76180321, -0.07709724,  0.97229834,  0.26937281,\n",
              "        0.53880043,  0.34505495, -0.14698466,  2.03681962,  1.38280011,\n",
              "       -0.79731502,  0.38539598,  0.75747349,  0.67811133,  1.31762395,\n",
              "        1.00267879,  1.11566466,  2.03975207, -0.12692781, -0.4705888 ,\n",
              "        0.44867784,  0.60008028,  2.34805258,  0.21771996,  0.59055788,\n",
              "        0.50813615,  1.25820146, -1.76365553, -0.81659309, -2.97779536,\n",
              "       -2.56121918,  0.97601914, -0.5436722 , -1.10931613,  0.18123793,\n",
              "       -1.61748694,  0.6529884 , -0.11429706,  0.13012811,  0.82634725,\n",
              "        0.49697188, -0.55447313, -0.23543731, -0.81972409,  0.36543543,\n",
              "       -0.06898352, -0.9422149 , -0.39203734, -0.52903971,  0.28642368,\n",
              "        0.81514874, -1.17101758, -0.1119417 , -0.31257029, -0.5909752 ,\n",
              "        1.24771245,  0.10266362,  1.45294329, -0.42800746,  0.77777835,\n",
              "       -0.39448023,  1.35172552,  0.48691171,  1.71904131,  1.19404088,\n",
              "        0.02692794,  0.85340044,  0.4628565 ,  1.218279  ,  0.1416668 ,\n",
              "       -1.0377428 ,  0.14630966,  0.71772056,  0.64928288])"
            ]
          },
          "metadata": {},
          "execution_count": 43
        }
      ],
      "source": [
        "student_resid = model3.resid_pearson\n",
        "student_resid"
      ]
    },
    {
      "cell_type": "code",
      "execution_count": null,
      "metadata": {
        "ExecuteTime": {
          "end_time": "2022-08-04T11:04:20.118014Z",
          "start_time": "2022-08-04T11:04:19.973155Z"
        },
        "id": "Do9_gmEW8994",
        "outputId": "379ba412-4592-420e-98a4-8beac5428763",
        "colab": {
          "base_uri": "https://localhost:8080/",
          "height": 466
        }
      },
      "outputs": [
        {
          "output_type": "execute_result",
          "data": {
            "text/plain": [
              "Text(0, 0.5, 'Standardized Residual')"
            ]
          },
          "metadata": {},
          "execution_count": 44
        },
        {
          "output_type": "display_data",
          "data": {
            "text/plain": [
              "<Figure size 640x480 with 1 Axes>"
            ],
            "image/png": "[encoded data removed]"
          },
          "metadata": {}
        }
      ],
      "source": [
        "plt.plot(model3.resid_pearson,'o')\n",
        "plt.axhline(y=0,color='green')\n",
        "plt.xlabel(\"Observation Number\")\n",
        "plt.ylabel(\"Standardized Residual\")"
      ]
    },
    {
      "cell_type": "code",
      "execution_count": null,
      "metadata": {
        "ExecuteTime": {
          "end_time": "2022-08-04T11:04:20.277024Z",
          "start_time": "2022-08-04T11:04:20.119940Z"
        },
        "id": "jGWJw7nS8994",
        "outputId": "0926debf-291a-42a5-9146-ddd1bebf9c22",
        "colab": {
          "base_uri": "https://localhost:8080/",
          "height": 466
        }
      },
      "outputs": [
        {
          "output_type": "execute_result",
          "data": {
            "text/plain": [
              "Text(0, 0.5, 'Actual')"
            ]
          },
          "metadata": {},
          "execution_count": 45
        },
        {
          "output_type": "display_data",
          "data": {
            "text/plain": [
              "<Figure size 640x480 with 1 Axes>"
            ],
            "image/png": "[encoded data removed]"
          },
          "metadata": {}
        }
      ],
      "source": [
        "plt.scatter(x=pred3,y=wcat.AT)\n",
        "plt.xlabel(\"Predicted\")\n",
        "plt.ylabel(\"Actual\")"
      ]
    },
    {
      "cell_type": "code",
      "execution_count": null,
      "metadata": {
        "ExecuteTime": {
          "end_time": "2022-09-23T05:08:48.257540Z",
          "start_time": "2022-09-23T05:08:48.222193Z"
        },
        "id": "YxyD8LiN8995",
        "outputId": "2323ecfd-0b1e-4627-cdd4-efca5a0d3ffe",
        "colab": {
          "base_uri": "https://localhost:8080/",
          "height": 1000
        }
      },
      "outputs": [
        {
          "output_type": "execute_result",
          "data": {
            "text/plain": [
              "      Waist      AT    Waist_Sq\n",
              "0     74.75   25.72   5587.5625\n",
              "1     72.60   25.89   5270.7600\n",
              "2     81.80   42.60   6691.2400\n",
              "3     83.95   42.80   7047.6025\n",
              "4     74.65   29.84   5572.6225\n",
              "5     71.85   21.68   5162.4225\n",
              "6     80.90   29.08   6544.8100\n",
              "7     83.40   32.98   6955.5600\n",
              "8     63.50   11.44   4032.2500\n",
              "9     73.20   32.22   5358.2400\n",
              "10    71.90   28.32   5169.6100\n",
              "11    75.00   43.86   5625.0000\n",
              "12    73.10   38.21   5343.6100\n",
              "13    79.00   42.48   6241.0000\n",
              "14    77.00   30.96   5929.0000\n",
              "15    68.85   55.78   4740.3225\n",
              "16    75.95   43.78   5768.4025\n",
              "17    74.15   33.41   5498.2225\n",
              "18    73.80   43.35   5446.4400\n",
              "19    75.90   29.31   5760.8100\n",
              "20    76.85   36.60   5905.9225\n",
              "21    80.90   40.25   6544.8100\n",
              "22    79.90   35.43   6384.0100\n",
              "23    89.20   60.09   7956.6400\n",
              "24    82.00   45.84   6724.0000\n",
              "25    92.00   70.40   8464.0000\n",
              "26    86.60   83.45   7499.5600\n",
              "27    80.50   84.30   6480.2500\n",
              "28    86.00   78.89   7396.0000\n",
              "29    82.50   64.75   6806.2500\n",
              "..      ...     ...         ...\n",
              "79   109.00  192.00  11881.0000\n",
              "80   103.50  132.00  10712.2500\n",
              "81   110.00  126.00  12100.0000\n",
              "82   110.00  153.00  12100.0000\n",
              "83   112.00  158.00  12544.0000\n",
              "84   108.50  183.00  11772.2500\n",
              "85   104.00  184.00  10816.0000\n",
              "86   111.00  121.00  12321.0000\n",
              "87   108.50  159.00  11772.2500\n",
              "88   121.00  245.00  14641.0000\n",
              "89   109.00  137.00  11881.0000\n",
              "90    97.50  165.00   9506.2500\n",
              "91   105.50  152.00  11130.2500\n",
              "92    98.00  181.00   9604.0000\n",
              "93    94.50   80.95   8930.2500\n",
              "94    97.00  137.00   9409.0000\n",
              "95   105.00  125.00  11025.0000\n",
              "96   106.00  241.00  11236.0000\n",
              "97    99.00  134.00   9801.0000\n",
              "98    91.00  150.00   8281.0000\n",
              "99   102.50  198.00  10506.2500\n",
              "100  106.00  151.00  11236.0000\n",
              "101  109.10  229.00  11902.8100\n",
              "102  115.00  253.00  13225.0000\n",
              "103  101.00  188.00  10201.0000\n",
              "104  100.10  124.00  10020.0100\n",
              "105   93.30   62.20   8704.8900\n",
              "106  101.80  133.00  10363.2400\n",
              "107  107.90  208.00  11642.4100\n",
              "108  108.50  208.00  11772.2500\n",
              "\n",
              "[109 rows x 3 columns]"
            ],
            "text/html": [
              "\n",
              "  <div id=\"df-6e390202-72c1-4870-b4bf-23e83f1216a6\" class=\"colab-df-container\">\n",
              "    <div>\n",
              "<style scoped>\n",
              "    .dataframe tbody tr th:only-of-type {\n",
              "        vertical-align: middle;\n",
              "    }\n",
              "\n",
              "    .dataframe tbody tr th {\n",
              "        vertical-align: top;\n",
              "    }\n",
              "\n",
              "    .dataframe thead th {\n",
              "        text-align: right;\n",
              "    }\n",
              "</style>\n",
              "<table border=\"1\" class=\"dataframe\">\n",
              "  <thead>\n",
              "    <tr style=\"text-align: right;\">\n",
              "      <th></th>\n",
              "      <th>Waist</th>\n",
              "      <th>AT</th>\n",
              "      <th>Waist_Sq</th>\n",
              "    </tr>\n",
              "  </thead>\n",
              "  <tbody>\n",
              "    <tr>\n",
              "      <th>0</th>\n",
              "      <td>74.75</td>\n",
              "      <td>25.72</td>\n",
              "      <td>5587.5625</td>\n",
              "    </tr>\n",
              "    <tr>\n",
              "      <th>1</th>\n",
              "      <td>72.60</td>\n",
              "      <td>25.89</td>\n",
              "      <td>5270.7600</td>\n",
              "    </tr>\n",
              "    <tr>\n",
              "      <th>2</th>\n",
              "      <td>81.80</td>\n",
              "      <td>42.60</td>\n",
              "      <td>6691.2400</td>\n",
              "    </tr>\n",
              "    <tr>\n",
              "      <th>3</th>\n",
              "      <td>83.95</td>\n",
              "      <td>42.80</td>\n",
              "      <td>7047.6025</td>\n",
              "    </tr>\n",
              "    <tr>\n",
              "      <th>4</th>\n",
              "      <td>74.65</td>\n",
              "      <td>29.84</td>\n",
              "      <td>5572.6225</td>\n",
              "    </tr>\n",
              "    <tr>\n",
              "      <th>5</th>\n",
              "      <td>71.85</td>\n",
              "      <td>21.68</td>\n",
              "      <td>5162.4225</td>\n",
              "    </tr>\n",
              "    <tr>\n",
              "      <th>6</th>\n",
              "      <td>80.90</td>\n",
              "      <td>29.08</td>\n",
              "      <td>6544.8100</td>\n",
              "    </tr>\n",
              "    <tr>\n",
              "      <th>7</th>\n",
              "      <td>83.40</td>\n",
              "      <td>32.98</td>\n",
              "      <td>6955.5600</td>\n",
              "    </tr>\n",
              "    <tr>\n",
              "      <th>8</th>\n",
              "      <td>63.50</td>\n",
              "      <td>11.44</td>\n",
              "      <td>4032.2500</td>\n",
              "    </tr>\n",
              "    <tr>\n",
              "      <th>9</th>\n",
              "      <td>73.20</td>\n",
              "      <td>32.22</td>\n",
              "      <td>5358.2400</td>\n",
              "    </tr>\n",
              "    <tr>\n",
              "      <th>10</th>\n",
              "      <td>71.90</td>\n",
              "      <td>28.32</td>\n",
              "      <td>5169.6100</td>\n",
              "    </tr>\n",
              "    <tr>\n",
              "      <th>11</th>\n",
              "      <td>75.00</td>\n",
              "      <td>43.86</td>\n",
              "      <td>5625.0000</td>\n",
              "    </tr>\n",
              "    <tr>\n",
              "      <th>12</th>\n",
              "      <td>73.10</td>\n",
              "      <td>38.21</td>\n",
              "      <td>5343.6100</td>\n",
              "    </tr>\n",
              "    <tr>\n",
              "      <th>13</th>\n",
              "      <td>79.00</td>\n",
              "      <td>42.48</td>\n",
              "      <td>6241.0000</td>\n",
              "    </tr>\n",
              "    <tr>\n",
              "      <th>14</th>\n",
              "      <td>77.00</td>\n",
              "      <td>30.96</td>\n",
              "      <td>5929.0000</td>\n",
              "    </tr>\n",
              "    <tr>\n",
              "      <th>15</th>\n",
              "      <td>68.85</td>\n",
              "      <td>55.78</td>\n",
              "      <td>4740.3225</td>\n",
              "    </tr>\n",
              "    <tr>\n",
              "      <th>16</th>\n",
              "      <td>75.95</td>\n",
              "      <td>43.78</td>\n",
              "      <td>5768.4025</td>\n",
              "    </tr>\n",
              "    <tr>\n",
              "      <th>17</th>\n",
              "      <td>74.15</td>\n",
              "      <td>33.41</td>\n",
              "      <td>5498.2225</td>\n",
              "    </tr>\n",
              "    <tr>\n",
              "      <th>18</th>\n",
              "      <td>73.80</td>\n",
              "      <td>43.35</td>\n",
              "      <td>5446.4400</td>\n",
              "    </tr>\n",
              "    <tr>\n",
              "      <th>19</th>\n",
              "      <td>75.90</td>\n",
              "      <td>29.31</td>\n",
              "      <td>5760.8100</td>\n",
              "    </tr>\n",
              "    <tr>\n",
              "      <th>20</th>\n",
              "      <td>76.85</td>\n",
              "      <td>36.60</td>\n",
              "      <td>5905.9225</td>\n",
              "    </tr>\n",
              "    <tr>\n",
              "      <th>21</th>\n",
              "      <td>80.90</td>\n",
              "      <td>40.25</td>\n",
              "      <td>6544.8100</td>\n",
              "    </tr>\n",
              "    <tr>\n",
              "      <th>22</th>\n",
              "      <td>79.90</td>\n",
              "      <td>35.43</td>\n",
              "      <td>6384.0100</td>\n",
              "    </tr>\n",
              "    <tr>\n",
              "      <th>23</th>\n",
              "      <td>89.20</td>\n",
              "      <td>60.09</td>\n",
              "      <td>7956.6400</td>\n",
              "    </tr>\n",
              "    <tr>\n",
              "      <th>24</th>\n",
              "      <td>82.00</td>\n",
              "      <td>45.84</td>\n",
              "      <td>6724.0000</td>\n",
              "    </tr>\n",
              "    <tr>\n",
              "      <th>25</th>\n",
              "      <td>92.00</td>\n",
              "      <td>70.40</td>\n",
              "      <td>8464.0000</td>\n",
              "    </tr>\n",
              "    <tr>\n",
              "      <th>26</th>\n",
              "      <td>86.60</td>\n",
              "      <td>83.45</td>\n",
              "      <td>7499.5600</td>\n",
              "    </tr>\n",
              "    <tr>\n",
              "      <th>27</th>\n",
              "      <td>80.50</td>\n",
              "      <td>84.30</td>\n",
              "      <td>6480.2500</td>\n",
              "    </tr>\n",
              "    <tr>\n",
              "      <th>28</th>\n",
              "      <td>86.00</td>\n",
              "      <td>78.89</td>\n",
              "      <td>7396.0000</td>\n",
              "    </tr>\n",
              "    <tr>\n",
              "      <th>29</th>\n",
              "      <td>82.50</td>\n",
              "      <td>64.75</td>\n",
              "      <td>6806.2500</td>\n",
              "    </tr>\n",
              "    <tr>\n",
              "      <th>...</th>\n",
              "      <td>...</td>\n",
              "      <td>...</td>\n",
              "      <td>...</td>\n",
              "    </tr>\n",
              "    <tr>\n",
              "      <th>79</th>\n",
              "      <td>109.00</td>\n",
              "      <td>192.00</td>\n",
              "      <td>11881.0000</td>\n",
              "    </tr>\n",
              "    <tr>\n",
              "      <th>80</th>\n",
              "      <td>103.50</td>\n",
              "      <td>132.00</td>\n",
              "      <td>10712.2500</td>\n",
              "    </tr>\n",
              "    <tr>\n",
              "      <th>81</th>\n",
              "      <td>110.00</td>\n",
              "      <td>126.00</td>\n",
              "      <td>12100.0000</td>\n",
              "    </tr>\n",
              "    <tr>\n",
              "      <th>82</th>\n",
              "      <td>110.00</td>\n",
              "      <td>153.00</td>\n",
              "      <td>12100.0000</td>\n",
              "    </tr>\n",
              "    <tr>\n",
              "      <th>83</th>\n",
              "      <td>112.00</td>\n",
              "      <td>158.00</td>\n",
              "      <td>12544.0000</td>\n",
              "    </tr>\n",
              "    <tr>\n",
              "      <th>84</th>\n",
              "      <td>108.50</td>\n",
              "      <td>183.00</td>\n",
              "      <td>11772.2500</td>\n",
              "    </tr>\n",
              "    <tr>\n",
              "      <th>85</th>\n",
              "      <td>104.00</td>\n",
              "      <td>184.00</td>\n",
              "      <td>10816.0000</td>\n",
              "    </tr>\n",
              "    <tr>\n",
              "      <th>86</th>\n",
              "      <td>111.00</td>\n",
              "      <td>121.00</td>\n",
              "      <td>12321.0000</td>\n",
              "    </tr>\n",
              "    <tr>\n",
              "      <th>87</th>\n",
              "      <td>108.50</td>\n",
              "      <td>159.00</td>\n",
              "      <td>11772.2500</td>\n",
              "    </tr>\n",
              "    <tr>\n",
              "      <th>88</th>\n",
              "      <td>121.00</td>\n",
              "      <td>245.00</td>\n",
              "      <td>14641.0000</td>\n",
              "    </tr>\n",
              "    <tr>\n",
              "      <th>89</th>\n",
              "      <td>109.00</td>\n",
              "      <td>137.00</td>\n",
              "      <td>11881.0000</td>\n",
              "    </tr>\n",
              "    <tr>\n",
              "      <th>90</th>\n",
              "      <td>97.50</td>\n",
              "      <td>165.00</td>\n",
              "      <td>9506.2500</td>\n",
              "    </tr>\n",
              "    <tr>\n",
              "      <th>91</th>\n",
              "      <td>105.50</td>\n",
              "      <td>152.00</td>\n",
              "      <td>11130.2500</td>\n",
              "    </tr>\n",
              "    <tr>\n",
              "      <th>92</th>\n",
              "      <td>98.00</td>\n",
              "      <td>181.00</td>\n",
              "      <td>9604.0000</td>\n",
              "    </tr>\n",
              "    <tr>\n",
              "      <th>93</th>\n",
              "      <td>94.50</td>\n",
              "      <td>80.95</td>\n",
              "      <td>8930.2500</td>\n",
              "    </tr>\n",
              "    <tr>\n",
              "      <th>94</th>\n",
              "      <td>97.00</td>\n",
              "      <td>137.00</td>\n",
              "      <td>9409.0000</td>\n",
              "    </tr>\n",
              "    <tr>\n",
              "      <th>95</th>\n",
              "      <td>105.00</td>\n",
              "      <td>125.00</td>\n",
              "      <td>11025.0000</td>\n",
              "    </tr>\n",
              "    <tr>\n",
              "      <th>96</th>\n",
              "      <td>106.00</td>\n",
              "      <td>241.00</td>\n",
              "      <td>11236.0000</td>\n",
              "    </tr>\n",
              "    <tr>\n",
              "      <th>97</th>\n",
              "      <td>99.00</td>\n",
              "      <td>134.00</td>\n",
              "      <td>9801.0000</td>\n",
              "    </tr>\n",
              "    <tr>\n",
              "      <th>98</th>\n",
              "      <td>91.00</td>\n",
              "      <td>150.00</td>\n",
              "      <td>8281.0000</td>\n",
              "    </tr>\n",
              "    <tr>\n",
              "      <th>99</th>\n",
              "      <td>102.50</td>\n",
              "      <td>198.00</td>\n",
              "      <td>10506.2500</td>\n",
              "    </tr>\n",
              "    <tr>\n",
              "      <th>100</th>\n",
              "      <td>106.00</td>\n",
              "      <td>151.00</td>\n",
              "      <td>11236.0000</td>\n",
              "    </tr>\n",
              "    <tr>\n",
              "      <th>101</th>\n",
              "      <td>109.10</td>\n",
              "      <td>229.00</td>\n",
              "      <td>11902.8100</td>\n",
              "    </tr>\n",
              "    <tr>\n",
              "      <th>102</th>\n",
              "      <td>115.00</td>\n",
              "      <td>253.00</td>\n",
              "      <td>13225.0000</td>\n",
              "    </tr>\n",
              "    <tr>\n",
              "      <th>103</th>\n",
              "      <td>101.00</td>\n",
              "      <td>188.00</td>\n",
              "      <td>10201.0000</td>\n",
              "    </tr>\n",
              "    <tr>\n",
              "      <th>104</th>\n",
              "      <td>100.10</td>\n",
              "      <td>124.00</td>\n",
              "      <td>10020.0100</td>\n",
              "    </tr>\n",
              "    <tr>\n",
              "      <th>105</th>\n",
              "      <td>93.30</td>\n",
              "      <td>62.20</td>\n",
              "      <td>8704.8900</td>\n",
              "    </tr>\n",
              "    <tr>\n",
              "      <th>106</th>\n",
              "      <td>101.80</td>\n",
              "      <td>133.00</td>\n",
              "      <td>10363.2400</td>\n",
              "    </tr>\n",
              "    <tr>\n",
              "      <th>107</th>\n",
              "      <td>107.90</td>\n",
              "      <td>208.00</td>\n",
              "      <td>11642.4100</td>\n",
              "    </tr>\n",
              "    <tr>\n",
              "      <th>108</th>\n",
              "      <td>108.50</td>\n",
              "      <td>208.00</td>\n",
              "      <td>11772.2500</td>\n",
              "    </tr>\n",
              "  </tbody>\n",
              "</table>\n",
              "<p>109 rows × 3 columns</p>\n",
              "</div>\n",
              "    <div class=\"colab-df-buttons\">\n",
              "\n",
              "  <div class=\"colab-df-container\">\n",
              "    <button class=\"colab-df-convert\" onclick=\"convertToInteractive('df-6e390202-72c1-4870-b4bf-23e83f1216a6')\"\n",
              "            title=\"Convert this dataframe to an interactive table.\"\n",
              "            style=\"display:none;\">\n",
              "\n",
              "  <svg xmlns=\"http://www.w3.org/2000/svg\" height=\"24px\" viewBox=\"0 -960 960 960\">\n",
              "    <path d=\"M120-120v-720h720v720H120Zm60-500h600v-160H180v160Zm220 220h160v-160H400v160Zm0 220h160v-160H400v160ZM180-400h160v-160H180v160Zm440 0h160v-160H620v160ZM180-180h160v-160H180v160Zm440 0h160v-160H620v160Z\"/>\n",
              "  </svg>\n",
              "    </button>\n",
              "\n",
              "  <style>\n",
              "    .colab-df-container {\n",
              "      display:flex;\n",
              "      gap: 12px;\n",
              "    }\n",
              "\n",
              "    .colab-df-convert {\n",
              "      background-color: #E8F0FE;\n",
              "      border: none;\n",
              "      border-radius: 50%;\n",
              "      cursor: pointer;\n",
              "      display: none;\n",
              "      fill: #1967D2;\n",
              "      height: 32px;\n",
              "      padding: 0 0 0 0;\n",
              "      width: 32px;\n",
              "    }\n",
              "\n",
              "    .colab-df-convert:hover {\n",
              "      background-color: #E2EBFA;\n",
              "      box-shadow: 0px 1px 2px rgba(60, 64, 67, 0.3), 0px 1px 3px 1px rgba(60, 64, 67, 0.15);\n",
              "      fill: #174EA6;\n",
              "    }\n",
              "\n",
              "    .colab-df-buttons div {\n",
              "      margin-bottom: 4px;\n",
              "    }\n",
              "\n",
              "    [theme=dark] .colab-df-convert {\n",
              "      background-color: #3B4455;\n",
              "      fill: #D2E3FC;\n",
              "    }\n",
              "\n",
              "    [theme=dark] .colab-df-convert:hover {\n",
              "      background-color: #434B5C;\n",
              "      box-shadow: 0px 1px 3px 1px rgba(0, 0, 0, 0.15);\n",
              "      filter: drop-shadow(0px 1px 2px rgba(0, 0, 0, 0.3));\n",
              "      fill: #FFFFFF;\n",
              "    }\n",
              "  </style>\n",
              "\n",
              "    <script>\n",
              "      const buttonEl =\n",
              "        document.querySelector('#df-6e390202-72c1-4870-b4bf-23e83f1216a6 button.colab-df-convert');\n",
              "      buttonEl.style.display =\n",
              "        google.colab.kernel.accessAllowed ? 'block' : 'none';\n",
              "\n",
              "      async function convertToInteractive(key) {\n",
              "        const element = document.querySelector('#df-6e390202-72c1-4870-b4bf-23e83f1216a6');\n",
              "        const dataTable =\n",
              "          await google.colab.kernel.invokeFunction('convertToInteractive',\n",
              "                                                    [key], {});\n",
              "        if (!dataTable) return;\n",
              "\n",
              "        const docLinkHtml = 'Like what you see? Visit the ' +\n",
              "          '<a target=\"_blank\" href=https://colab.research.google.com/notebooks/data_table.ipynb>data table notebook</a>'\n",
              "          + ' to learn more about interactive tables.';\n",
              "        element.innerHTML = '';\n",
              "        dataTable['output_type'] = 'display_data';\n",
              "        await google.colab.output.renderOutput(dataTable, element);\n",
              "        const docLink = document.createElement('div');\n",
              "        docLink.innerHTML = docLinkHtml;\n",
              "        element.appendChild(docLink);\n",
              "      }\n",
              "    </script>\n",
              "  </div>\n",
              "\n",
              "\n",
              "<div id=\"df-1d7d2e5f-aa9b-4f7f-861d-45fdc9fcf485\">\n",
              "  <button class=\"colab-df-quickchart\" onclick=\"quickchart('df-1d7d2e5f-aa9b-4f7f-861d-45fdc9fcf485')\"\n",
              "            title=\"Suggest charts\"\n",
              "            style=\"display:none;\">\n",
              "\n",
              "<svg xmlns=\"http://www.w3.org/2000/svg\" height=\"24px\"viewBox=\"0 0 24 24\"\n",
              "     width=\"24px\">\n",
              "    <g>\n",
              "        <path d=\"M19 3H5c-1.1 0-2 .9-2 2v14c0 1.1.9 2 2 2h14c1.1 0 2-.9 2-2V5c0-1.1-.9-2-2-2zM9 17H7v-7h2v7zm4 0h-2V7h2v10zm4 0h-2v-4h2v4z\"/>\n",
              "    </g>\n",
              "</svg>\n",
              "  </button>\n",
              "\n",
              "<style>\n",
              "  .colab-df-quickchart {\n",
              "      --bg-color: #E8F0FE;\n",
              "      --fill-color: #1967D2;\n",
              "      --hover-bg-color: #E2EBFA;\n",
              "      --hover-fill-color: #174EA6;\n",
              "      --disabled-fill-color: #AAA;\n",
              "      --disabled-bg-color: #DDD;\n",
              "  }\n",
              "\n",
              "  [theme=dark] .colab-df-quickchart {\n",
              "      --bg-color: #3B4455;\n",
              "      --fill-color: #D2E3FC;\n",
              "      --hover-bg-color: #434B5C;\n",
              "      --hover-fill-color: #FFFFFF;\n",
              "      --disabled-bg-color: #3B4455;\n",
              "      --disabled-fill-color: #666;\n",
              "  }\n",
              "\n",
              "  .colab-df-quickchart {\n",
              "    background-color: var(--bg-color);\n",
              "    border: none;\n",
              "    border-radius: 50%;\n",
              "    cursor: pointer;\n",
              "    display: none;\n",
              "    fill: var(--fill-color);\n",
              "    height: 32px;\n",
              "    padding: 0;\n",
              "    width: 32px;\n",
              "  }\n",
              "\n",
              "  .colab-df-quickchart:hover {\n",
              "    background-color: var(--hover-bg-color);\n",
              "    box-shadow: 0 1px 2px rgba(60, 64, 67, 0.3), 0 1px 3px 1px rgba(60, 64, 67, 0.15);\n",
              "    fill: var(--button-hover-fill-color);\n",
              "  }\n",
              "\n",
              "  .colab-df-quickchart-complete:disabled,\n",
              "  .colab-df-quickchart-complete:disabled:hover {\n",
              "    background-color: var(--disabled-bg-color);\n",
              "    fill: var(--disabled-fill-color);\n",
              "    box-shadow: none;\n",
              "  }\n",
              "\n",
              "  .colab-df-spinner {\n",
              "    border: 2px solid var(--fill-color);\n",
              "    border-color: transparent;\n",
              "    border-bottom-color: var(--fill-color);\n",
              "    animation:\n",
              "      spin 1s steps(1) infinite;\n",
              "  }\n",
              "\n",
              "  @keyframes spin {\n",
              "    0% {\n",
              "      border-color: transparent;\n",
              "      border-bottom-color: var(--fill-color);\n",
              "      border-left-color: var(--fill-color);\n",
              "    }\n",
              "    20% {\n",
              "      border-color: transparent;\n",
              "      border-left-color: var(--fill-color);\n",
              "      border-top-color: var(--fill-color);\n",
              "    }\n",
              "    30% {\n",
              "      border-color: transparent;\n",
              "      border-left-color: var(--fill-color);\n",
              "      border-top-color: var(--fill-color);\n",
              "      border-right-color: var(--fill-color);\n",
              "    }\n",
              "    40% {\n",
              "      border-color: transparent;\n",
              "      border-right-color: var(--fill-color);\n",
              "      border-top-color: var(--fill-color);\n",
              "    }\n",
              "    60% {\n",
              "      border-color: transparent;\n",
              "      border-right-color: var(--fill-color);\n",
              "    }\n",
              "    80% {\n",
              "      border-color: transparent;\n",
              "      border-right-color: var(--fill-color);\n",
              "      border-bottom-color: var(--fill-color);\n",
              "    }\n",
              "    90% {\n",
              "      border-color: transparent;\n",
              "      border-bottom-color: var(--fill-color);\n",
              "    }\n",
              "  }\n",
              "</style>\n",
              "\n",
              "  <script>\n",
              "    async function quickchart(key) {\n",
              "      const quickchartButtonEl =\n",
              "        document.querySelector('#' + key + ' button');\n",
              "      quickchartButtonEl.disabled = true;  // To prevent multiple clicks.\n",
              "      quickchartButtonEl.classList.add('colab-df-spinner');\n",
              "      try {\n",
              "        const charts = await google.colab.kernel.invokeFunction(\n",
              "            'suggestCharts', [key], {});\n",
              "      } catch (error) {\n",
              "        console.error('Error during call to suggestCharts:', error);\n",
              "      }\n",
              "      quickchartButtonEl.classList.remove('colab-df-spinner');\n",
              "      quickchartButtonEl.classList.add('colab-df-quickchart-complete');\n",
              "    }\n",
              "    (() => {\n",
              "      let quickchartButtonEl =\n",
              "        document.querySelector('#df-1d7d2e5f-aa9b-4f7f-861d-45fdc9fcf485 button');\n",
              "      quickchartButtonEl.style.display =\n",
              "        google.colab.kernel.accessAllowed ? 'block' : 'none';\n",
              "    })();\n",
              "  </script>\n",
              "</div>\n",
              "\n",
              "  <div id=\"id_10e6221f-e422-48d2-9561-56e785b76ef9\">\n",
              "    <style>\n",
              "      .colab-df-generate {\n",
              "        background-color: #E8F0FE;\n",
              "        border: none;\n",
              "        border-radius: 50%;\n",
              "        cursor: pointer;\n",
              "        display: none;\n",
              "        fill: #1967D2;\n",
              "        height: 32px;\n",
              "        padding: 0 0 0 0;\n",
              "        width: 32px;\n",
              "      }\n",
              "\n",
              "      .colab-df-generate:hover {\n",
              "        background-color: #E2EBFA;\n",
              "        box-shadow: 0px 1px 2px rgba(60, 64, 67, 0.3), 0px 1px 3px 1px rgba(60, 64, 67, 0.15);\n",
              "        fill: #174EA6;\n",
              "      }\n",
              "\n",
              "      [theme=dark] .colab-df-generate {\n",
              "        background-color: #3B4455;\n",
              "        fill: #D2E3FC;\n",
              "      }\n",
              "\n",
              "      [theme=dark] .colab-df-generate:hover {\n",
              "        background-color: #434B5C;\n",
              "        box-shadow: 0px 1px 3px 1px rgba(0, 0, 0, 0.15);\n",
              "        filter: drop-shadow(0px 1px 2px rgba(0, 0, 0, 0.3));\n",
              "        fill: #FFFFFF;\n",
              "      }\n",
              "    </style>\n",
              "    <button class=\"colab-df-generate\" onclick=\"generateWithVariable('wcat')\"\n",
              "            title=\"Generate code using this dataframe.\"\n",
              "            style=\"display:none;\">\n",
              "\n",
              "  <svg xmlns=\"http://www.w3.org/2000/svg\" height=\"24px\"viewBox=\"0 0 24 24\"\n",
              "       width=\"24px\">\n",
              "    <path d=\"M7,19H8.4L18.45,9,17,7.55,7,17.6ZM5,21V16.75L18.45,3.32a2,2,0,0,1,2.83,0l1.4,1.43a1.91,1.91,0,0,1,.58,1.4,1.91,1.91,0,0,1-.58,1.4L9.25,21ZM18.45,9,17,7.55Zm-12,3A5.31,5.31,0,0,0,4.9,8.1,5.31,5.31,0,0,0,1,6.5,5.31,5.31,0,0,0,4.9,4.9,5.31,5.31,0,0,0,6.5,1,5.31,5.31,0,0,0,8.1,4.9,5.31,5.31,0,0,0,12,6.5,5.46,5.46,0,0,0,6.5,12Z\"/>\n",
              "  </svg>\n",
              "    </button>\n",
              "    <script>\n",
              "      (() => {\n",
              "      const buttonEl =\n",
              "        document.querySelector('#id_10e6221f-e422-48d2-9561-56e785b76ef9 button.colab-df-generate');\n",
              "      buttonEl.style.display =\n",
              "        google.colab.kernel.accessAllowed ? 'block' : 'none';\n",
              "\n",
              "      buttonEl.onclick = () => {\n",
              "        google.colab.notebook.generateWithVariable('wcat');\n",
              "      }\n",
              "      })();\n",
              "    </script>\n",
              "  </div>\n",
              "\n",
              "    </div>\n",
              "  </div>\n"
            ],
            "application/vnd.google.colaboratory.intrinsic+json": {
              "type": "dataframe",
              "variable_name": "wcat",
              "summary": "{\n  \"name\": \"wcat\",\n  \"rows\": 109,\n  \"fields\": [\n    {\n      \"column\": \"Waist\",\n      \"properties\": {\n        \"dtype\": \"number\",\n        \"std\": 13.559115982678824,\n        \"min\": 63.5,\n        \"max\": 121.0,\n        \"num_unique_values\": 88,\n        \"samples\": [\n          111.0,\n          74.75,\n          80.5\n        ],\n        \"semantic_type\": \"\",\n        \"description\": \"\"\n      }\n    },\n    {\n      \"column\": \"AT\",\n      \"properties\": {\n        \"dtype\": \"number\",\n        \"std\": 57.294762722312136,\n        \"min\": 11.44,\n        \"max\": 253.0,\n        \"num_unique_values\": 99,\n        \"samples\": [\n          90.41,\n          73.13,\n          188.0\n        ],\n        \"semantic_type\": \"\",\n        \"description\": \"\"\n      }\n    },\n    {\n      \"column\": \"Waist_Sq\",\n      \"properties\": {\n        \"dtype\": \"number\",\n        \"std\": 2522.2267576939394,\n        \"min\": 4032.25,\n        \"max\": 14641.0,\n        \"num_unique_values\": 88,\n        \"samples\": [\n          12321.0,\n          5587.5625,\n          6480.25\n        ],\n        \"semantic_type\": \"\",\n        \"description\": \"\"\n      }\n    }\n  ]\n}"
            }
          },
          "metadata": {},
          "execution_count": 46
        }
      ],
      "source": [
        "# 3rd Transformation - Combination of exponential and quadratic model\n",
        "# Regular eq => y= Bo + B1(x)\n",
        "# after exponential transformation, log(y)= Bo + B1(x) + B2(x)**2\n",
        "\n",
        "# Here we are squaring x = Waist\n",
        "wcat[\"Waist_Sq\"] = wcat.Waist*wcat.Waist\n",
        "wcat"
      ]
    },
    {
      "cell_type": "code",
      "execution_count": null,
      "metadata": {
        "ExecuteTime": {
          "end_time": "2022-09-23T05:09:56.130069Z",
          "start_time": "2022-09-23T05:09:56.116568Z"
        },
        "id": "zlTFC8wY8995"
      },
      "outputs": [],
      "source": [
        "# Creating the model using ordinary least square\n",
        "model_quad = smf.ols(\"np.log(AT)~Waist+Waist_Sq\",data=wcat).fit()\n",
        "#model_quad.params"
      ]
    },
    {
      "cell_type": "code",
      "execution_count": null,
      "metadata": {
        "ExecuteTime": {
          "end_time": "2022-09-23T05:09:58.567821Z",
          "start_time": "2022-09-23T05:09:58.544719Z"
        },
        "id": "WPNL3l1Q8996",
        "outputId": "37cb97c3-5713-4055-aa6a-20bb28b2af38",
        "colab": {
          "base_uri": "https://localhost:8080/",
          "height": 499
        }
      },
      "outputs": [
        {
          "output_type": "execute_result",
          "data": {
            "text/plain": [
              "<class 'statsmodels.iolib.summary.Summary'>\n",
              "\"\"\"\n",
              "                            OLS Regression Results                            \n",
              "==============================================================================\n",
              "Dep. Variable:             np.log(AT)   R-squared:                       0.779\n",
              "Model:                            OLS   Adj. R-squared:                  0.775\n",
              "Method:                 Least Squares   F-statistic:                     186.8\n",
              "Date:                Mon, 27 May 2024   Prob (F-statistic):           1.80e-35\n",
              "Time:                        14:32:49   Log-Likelihood:                -24.779\n",
              "No. Observations:                 109   AIC:                             55.56\n",
              "Df Residuals:                     106   BIC:                             63.63\n",
              "Df Model:                           2                                         \n",
              "Covariance Type:            nonrobust                                         \n",
              "==============================================================================\n",
              "                 coef    std err          t      P>|t|      [0.025      0.975]\n",
              "------------------------------------------------------------------------------\n",
              "Intercept     -7.8241      1.473     -5.312      0.000     -10.744      -4.904\n",
              "Waist          0.2289      0.032      7.107      0.000       0.165       0.293\n",
              "Waist_Sq      -0.0010      0.000     -5.871      0.000      -0.001      -0.001\n",
              "==============================================================================\n",
              "Omnibus:                        0.325   Durbin-Watson:                   1.464\n",
              "Prob(Omnibus):                  0.850   Jarque-Bera (JB):                0.271\n",
              "Skew:                           0.119   Prob(JB):                        0.873\n",
              "Kurtosis:                       2.949   Cond. No.                     4.49e+05\n",
              "==============================================================================\n",
              "\n",
              "Notes:\n",
              "[1] Standard Errors assume that the covariance matrix of the errors is correctly specified.\n",
              "[2] The condition number is large, 4.49e+05. This might indicate that there are\n",
              "strong multicollinearity or other numerical problems.\n",
              "\"\"\""
            ],
            "text/html": [
              "<table class=\"simpletable\">\n",
              "<caption>OLS Regression Results</caption>\n",
              "<tr>\n",
              "  <th>Dep. Variable:</th>       <td>np.log(AT)</td>    <th>  R-squared:         </th> <td>   0.779</td>\n",
              "</tr>\n",
              "<tr>\n",
              "  <th>Model:</th>                   <td>OLS</td>       <th>  Adj. R-squared:    </th> <td>   0.775</td>\n",
              "</tr>\n",
              "<tr>\n",
              "  <th>Method:</th>             <td>Least Squares</td>  <th>  F-statistic:       </th> <td>   186.8</td>\n",
              "</tr>\n",
              "<tr>\n",
              "  <th>Date:</th>             <td>Mon, 27 May 2024</td> <th>  Prob (F-statistic):</th> <td>1.80e-35</td>\n",
              "</tr>\n",
              "<tr>\n",
              "  <th>Time:</th>                 <td>14:32:49</td>     <th>  Log-Likelihood:    </th> <td> -24.779</td>\n",
              "</tr>\n",
              "<tr>\n",
              "  <th>No. Observations:</th>      <td>   109</td>      <th>  AIC:               </th> <td>   55.56</td>\n",
              "</tr>\n",
              "<tr>\n",
              "  <th>Df Residuals:</th>          <td>   106</td>      <th>  BIC:               </th> <td>   63.63</td>\n",
              "</tr>\n",
              "<tr>\n",
              "  <th>Df Model:</th>              <td>     2</td>      <th>                     </th>     <td> </td>   \n",
              "</tr>\n",
              "<tr>\n",
              "  <th>Covariance Type:</th>      <td>nonrobust</td>    <th>                     </th>     <td> </td>   \n",
              "</tr>\n",
              "</table>\n",
              "<table class=\"simpletable\">\n",
              "<tr>\n",
              "      <td></td>         <th>coef</th>     <th>std err</th>      <th>t</th>      <th>P>|t|</th>  <th>[0.025</th>    <th>0.975]</th>  \n",
              "</tr>\n",
              "<tr>\n",
              "  <th>Intercept</th> <td>   -7.8241</td> <td>    1.473</td> <td>   -5.312</td> <td> 0.000</td> <td>  -10.744</td> <td>   -4.904</td>\n",
              "</tr>\n",
              "<tr>\n",
              "  <th>Waist</th>     <td>    0.2289</td> <td>    0.032</td> <td>    7.107</td> <td> 0.000</td> <td>    0.165</td> <td>    0.293</td>\n",
              "</tr>\n",
              "<tr>\n",
              "  <th>Waist_Sq</th>  <td>   -0.0010</td> <td>    0.000</td> <td>   -5.871</td> <td> 0.000</td> <td>   -0.001</td> <td>   -0.001</td>\n",
              "</tr>\n",
              "</table>\n",
              "<table class=\"simpletable\">\n",
              "<tr>\n",
              "  <th>Omnibus:</th>       <td> 0.325</td> <th>  Durbin-Watson:     </th> <td>   1.464</td>\n",
              "</tr>\n",
              "<tr>\n",
              "  <th>Prob(Omnibus):</th> <td> 0.850</td> <th>  Jarque-Bera (JB):  </th> <td>   0.271</td>\n",
              "</tr>\n",
              "<tr>\n",
              "  <th>Skew:</th>          <td> 0.119</td> <th>  Prob(JB):          </th> <td>   0.873</td>\n",
              "</tr>\n",
              "<tr>\n",
              "  <th>Kurtosis:</th>      <td> 2.949</td> <th>  Cond. No.          </th> <td>4.49e+05</td>\n",
              "</tr>\n",
              "</table><br/><br/>Notes:<br/>[1] Standard Errors assume that the covariance matrix of the errors is correctly specified.<br/>[2] The condition number is large, 4.49e+05. This might indicate that there are<br/>strong multicollinearity or other numerical problems."
            ],
            "text/latex": "\\begin{center}\n\\begin{tabular}{lclc}\n\\toprule\n\\textbf{Dep. Variable:}    &    np.log(AT)    & \\textbf{  R-squared:         } &     0.779   \\\\\n\\textbf{Model:}            &       OLS        & \\textbf{  Adj. R-squared:    } &     0.775   \\\\\n\\textbf{Method:}           &  Least Squares   & \\textbf{  F-statistic:       } &     186.8   \\\\\n\\textbf{Date:}             & Mon, 27 May 2024 & \\textbf{  Prob (F-statistic):} &  1.80e-35   \\\\\n\\textbf{Time:}             &     14:32:49     & \\textbf{  Log-Likelihood:    } &   -24.779   \\\\\n\\textbf{No. Observations:} &         109      & \\textbf{  AIC:               } &     55.56   \\\\\n\\textbf{Df Residuals:}     &         106      & \\textbf{  BIC:               } &     63.63   \\\\\n\\textbf{Df Model:}         &           2      & \\textbf{                     } &             \\\\\n\\textbf{Covariance Type:}  &    nonrobust     & \\textbf{                     } &             \\\\\n\\bottomrule\n\\end{tabular}\n\\begin{tabular}{lcccccc}\n                   & \\textbf{coef} & \\textbf{std err} & \\textbf{t} & \\textbf{P$> |$t$|$} & \\textbf{[0.025} & \\textbf{0.975]}  \\\\\n\\midrule\n\\textbf{Intercept} &      -7.8241  &        1.473     &    -5.312  &         0.000        &      -10.744    &       -4.904     \\\\\n\\textbf{Waist}     &       0.2289  &        0.032     &     7.107  &         0.000        &        0.165    &        0.293     \\\\\n\\textbf{Waist\\_Sq} &      -0.0010  &        0.000     &    -5.871  &         0.000        &       -0.001    &       -0.001     \\\\\n\\bottomrule\n\\end{tabular}\n\\begin{tabular}{lclc}\n\\textbf{Omnibus:}       &  0.325 & \\textbf{  Durbin-Watson:     } &    1.464  \\\\\n\\textbf{Prob(Omnibus):} &  0.850 & \\textbf{  Jarque-Bera (JB):  } &    0.271  \\\\\n\\textbf{Skew:}          &  0.119 & \\textbf{  Prob(JB):          } &    0.873  \\\\\n\\textbf{Kurtosis:}      &  2.949 & \\textbf{  Cond. No.          } & 4.49e+05  \\\\\n\\bottomrule\n\\end{tabular}\n%\\caption{OLS Regression Results}\n\\end{center}\n\nNotes: \\newline\n [1] Standard Errors assume that the covariance matrix of the errors is correctly specified. \\newline\n [2] The condition number is large, 4.49e+05. This might indicate that there are \\newline\n strong multicollinearity or other numerical problems."
          },
          "metadata": {},
          "execution_count": 48
        }
      ],
      "source": [
        "# Summary of Model 4\n",
        "model_quad.summary()"
      ]
    },
    {
      "cell_type": "code",
      "execution_count": null,
      "metadata": {
        "ExecuteTime": {
          "end_time": "2022-09-23T05:10:02.405005Z",
          "start_time": "2022-09-23T05:10:02.384476Z"
        },
        "id": "LAasuYWE8996",
        "outputId": "4f2d16af-79ef-4df0-b275-cab0b90f4085",
        "colab": {
          "base_uri": "https://localhost:8080/"
        }
      },
      "outputs": [
        {
          "output_type": "execute_result",
          "data": {
            "text/plain": [
              "0       36.779400\n",
              "1       31.026570\n",
              "2       60.145769\n",
              "3       68.488132\n",
              "4       36.497176\n",
              "5       29.174597\n",
              "6       56.804132\n",
              "7       66.309110\n",
              "8       13.610862\n",
              "9       32.565621\n",
              "10      29.295590\n",
              "11      37.491210\n",
              "12      32.305552\n",
              "13      50.075256\n",
              "14      43.505263\n",
              "15      22.548823\n",
              "16      40.277322\n",
              "17      35.107507\n",
              "18      34.156014\n",
              "19      40.127488\n",
              "20      43.034658\n",
              "21      56.804132\n",
              "22      53.205658\n",
              "23      90.409485\n",
              "24      60.901036\n",
              "25     102.467180\n",
              "26      79.346903\n",
              "27      55.349922\n",
              "28      76.842525\n",
              "29      62.808612\n",
              "          ...    \n",
              "79     155.642311\n",
              "80     144.980610\n",
              "81     156.625326\n",
              "82     156.625326\n",
              "83     157.645795\n",
              "84     155.034904\n",
              "85     146.290109\n",
              "86     157.294508\n",
              "87     155.034904\n",
              "88     146.783920\n",
              "89     155.642311\n",
              "90     125.093851\n",
              "91     149.832482\n",
              "92     126.995763\n",
              "93     113.052967\n",
              "94     123.157825\n",
              "95     148.717813\n",
              "96     150.878818\n",
              "97     130.687397\n",
              "98      98.166004\n",
              "99     142.179763\n",
              "100    150.878818\n",
              "101    155.754580\n",
              "102    156.780640\n",
              "103    137.554384\n",
              "104    134.555999\n",
              "105    108.012957\n",
              "106    140.081911\n",
              "107    154.205675\n",
              "108    155.034904\n",
              "Length: 109, dtype: float64"
            ]
          },
          "metadata": {},
          "execution_count": 49
        }
      ],
      "source": [
        "# Using the model created, predicting the values\n",
        "pred_quad = model_quad.predict(wcat)\n",
        "pred4=np.exp(pred_quad)  # as we have used log(AT) in preparing model so we need to convert it back\n",
        "pred4\n"
      ]
    },
    {
      "cell_type": "code",
      "execution_count": null,
      "metadata": {
        "ExecuteTime": {
          "end_time": "2022-09-23T05:10:06.745646Z",
          "start_time": "2022-09-23T05:10:06.726656Z"
        },
        "id": "ZFp-xLR08996",
        "outputId": "9695f91b-42c2-4cdd-c70c-1f6777d70357",
        "colab": {
          "base_uri": "https://localhost:8080/"
        }
      },
      "outputs": [
        {
          "output_type": "execute_result",
          "data": {
            "text/plain": [
              "32.24444782776221"
            ]
          },
          "metadata": {},
          "execution_count": 50
        }
      ],
      "source": [
        "# We find out the error in the quadratic model or Model 4\n",
        "rmse_quad = np.sqrt(np.mean((np.array(wcat['AT'])-np.array(pred4))**2))\n",
        "rmse_quad"
      ]
    },
    {
      "cell_type": "code",
      "execution_count": null,
      "metadata": {
        "ExecuteTime": {
          "end_time": "2022-08-04T11:04:49.231812Z",
          "start_time": "2022-08-04T11:04:49.076290Z"
        },
        "id": "2cBc_Fd_8997",
        "outputId": "ad4ce733-35ab-4609-93ab-bde7ad609132",
        "colab": {
          "base_uri": "https://localhost:8080/",
          "height": 447
        }
      },
      "outputs": [
        {
          "output_type": "execute_result",
          "data": {
            "text/plain": [
              "[<matplotlib.lines.Line2D at 0x7e1cc8831720>]"
            ]
          },
          "metadata": {},
          "execution_count": 51
        },
        {
          "output_type": "display_data",
          "data": {
            "text/plain": [
              "<Figure size 640x480 with 1 Axes>"
            ],
            "image/png": "[encoded data removed]"
          },
          "metadata": {}
        }
      ],
      "source": [
        "# Plotting Model 4 - the blue dots are actual values and the red line is the predicted values\n",
        "plt.scatter(wcat.Waist,wcat.AT,c=\"b\")\n",
        "plt.plot(wcat.Waist,pred4,\"r\")"
      ]
    },
    {
      "cell_type": "code",
      "execution_count": null,
      "metadata": {
        "ExecuteTime": {
          "end_time": "2022-08-04T11:04:20.650844Z",
          "start_time": "2022-08-04T11:04:20.419964Z"
        },
        "id": "hrD2p61y8997",
        "outputId": "cd296c01-bb3f-4d22-ccd1-339a94a97257",
        "colab": {
          "base_uri": "https://localhost:8080/",
          "height": 466
        }
      },
      "outputs": [
        {
          "output_type": "execute_result",
          "data": {
            "text/plain": [
              "Text(0, 0.5, 'Standardized Residual')"
            ]
          },
          "metadata": {},
          "execution_count": 52
        },
        {
          "output_type": "display_data",
          "data": {
            "text/plain": [
              "<Figure size 640x480 with 1 Axes>"
            ],
            "image/png": "[encoded data removed]"
          },
          "metadata": {}
        }
      ],
      "source": [
        "# Plotting Model 4 residuals -\n",
        "plt.plot(np.arange(109),model_quad.resid_pearson)\n",
        "plt.axhline(y=0,color='red')\n",
        "plt.xlabel(\"Observation Number\")\n",
        "plt.ylabel(\"Standardized Residual\")"
      ]
    },
    {
      "cell_type": "code",
      "execution_count": null,
      "metadata": {
        "ExecuteTime": {
          "end_time": "2022-08-04T11:04:20.825527Z",
          "start_time": "2022-08-04T11:04:20.653862Z"
        },
        "id": "kQLuZa8u8997",
        "outputId": "bc244e64-6df9-436f-b5d5-c45587b33a9e",
        "colab": {
          "base_uri": "https://localhost:8080/",
          "height": 466
        }
      },
      "outputs": [
        {
          "output_type": "execute_result",
          "data": {
            "text/plain": [
              "Text(0, 0.5, 'Standardized Residual')"
            ]
          },
          "metadata": {},
          "execution_count": 53
        },
        {
          "output_type": "display_data",
          "data": {
            "text/plain": [
              "<Figure size 640x480 with 1 Axes>"
            ],
            "image/png": "[encoded data removed]"
          },
          "metadata": {}
        }
      ],
      "source": [
        "# Model validation Technique using a scatter plot\n",
        "# Using a scatter plot, we plot the standardized residuals (errors) using the code .resid_pearson, the '_pearson' standardises the residuals to be plotted\n",
        "# If we take the mean of most of the standardized residual values, we'll get 0.\n",
        "# They also have constant variance from the mean\n",
        "# therefore, mean = 0, and constant variance from the mean confirms that the model is a valid model\n",
        "plt.scatter(np.arange(109),model_quad.resid_pearson)\n",
        "plt.axhline(y=0,color='red') # Creating a reference line at point 0 in red\n",
        "plt.xlabel(\"Observation Number\")\n",
        "plt.ylabel(\"Standardized Residual\")"
      ]
    },
    {
      "cell_type": "code",
      "source": [
        "# In the above plot, the observations lying far away from the mean value are known as outliers.\n",
        "# We can build a better model if the outliers are handled."
      ],
      "metadata": {
        "id": "3tu-_z55m2xf"
      },
      "execution_count": null,
      "outputs": []
    },
    {
      "cell_type": "code",
      "execution_count": null,
      "metadata": {
        "ExecuteTime": {
          "end_time": "2022-08-04T11:04:21.042083Z",
          "start_time": "2022-08-04T11:04:20.827525Z"
        },
        "id": "WCvT2-6M8998",
        "outputId": "07fb6795-e701-469e-a759-0028d977edbb",
        "colab": {
          "base_uri": "https://localhost:8080/",
          "height": 430
        }
      },
      "outputs": [
        {
          "output_type": "display_data",
          "data": {
            "text/plain": [
              "<Figure size 640x480 with 1 Axes>"
            ],
            "image/png": "[encoded data removed]"
          },
          "metadata": {}
        }
      ],
      "source": [
        "plt.hist(model_quad.resid_pearson)\n",
        "plt.show()"
      ]
    },
    {
      "cell_type": "code",
      "execution_count": null,
      "metadata": {
        "ExecuteTime": {
          "end_time": "2022-08-04T11:04:21.072657Z",
          "start_time": "2022-08-04T11:04:21.044621Z"
        },
        "id": "A9BVFKcc8998",
        "outputId": "a9bc9faa-8565-4cf2-d69e-0f2eb0a40fd3",
        "colab": {
          "base_uri": "https://localhost:8080/",
          "height": 175
        }
      },
      "outputs": [
        {
          "output_type": "execute_result",
          "data": {
            "text/plain": [
              "       MODEL  RMSE_Values   Rsquare\n",
              "0   rmse_lin    32.760177  0.670037\n",
              "1   rmse_log    32.496885  0.675319\n",
              "2   rmse_exp    38.529002  0.707114\n",
              "3  rmse_quad    32.244448  0.778982"
            ],
            "text/html": [
              "\n",
              "  <div id=\"df-7a0ccf40-ed89-4da3-82e3-1a820989d653\" class=\"colab-df-container\">\n",
              "    <div>\n",
              "<style scoped>\n",
              "    .dataframe tbody tr th:only-of-type {\n",
              "        vertical-align: middle;\n",
              "    }\n",
              "\n",
              "    .dataframe tbody tr th {\n",
              "        vertical-align: top;\n",
              "    }\n",
              "\n",
              "    .dataframe thead th {\n",
              "        text-align: right;\n",
              "    }\n",
              "</style>\n",
              "<table border=\"1\" class=\"dataframe\">\n",
              "  <thead>\n",
              "    <tr style=\"text-align: right;\">\n",
              "      <th></th>\n",
              "      <th>MODEL</th>\n",
              "      <th>RMSE_Values</th>\n",
              "      <th>Rsquare</th>\n",
              "    </tr>\n",
              "  </thead>\n",
              "  <tbody>\n",
              "    <tr>\n",
              "      <th>0</th>\n",
              "      <td>rmse_lin</td>\n",
              "      <td>32.760177</td>\n",
              "      <td>0.670037</td>\n",
              "    </tr>\n",
              "    <tr>\n",
              "      <th>1</th>\n",
              "      <td>rmse_log</td>\n",
              "      <td>32.496885</td>\n",
              "      <td>0.675319</td>\n",
              "    </tr>\n",
              "    <tr>\n",
              "      <th>2</th>\n",
              "      <td>rmse_exp</td>\n",
              "      <td>38.529002</td>\n",
              "      <td>0.707114</td>\n",
              "    </tr>\n",
              "    <tr>\n",
              "      <th>3</th>\n",
              "      <td>rmse_quad</td>\n",
              "      <td>32.244448</td>\n",
              "      <td>0.778982</td>\n",
              "    </tr>\n",
              "  </tbody>\n",
              "</table>\n",
              "</div>\n",
              "    <div class=\"colab-df-buttons\">\n",
              "\n",
              "  <div class=\"colab-df-container\">\n",
              "    <button class=\"colab-df-convert\" onclick=\"convertToInteractive('df-7a0ccf40-ed89-4da3-82e3-1a820989d653')\"\n",
              "            title=\"Convert this dataframe to an interactive table.\"\n",
              "            style=\"display:none;\">\n",
              "\n",
              "  <svg xmlns=\"http://www.w3.org/2000/svg\" height=\"24px\" viewBox=\"0 -960 960 960\">\n",
              "    <path d=\"M120-120v-720h720v720H120Zm60-500h600v-160H180v160Zm220 220h160v-160H400v160Zm0 220h160v-160H400v160ZM180-400h160v-160H180v160Zm440 0h160v-160H620v160ZM180-180h160v-160H180v160Zm440 0h160v-160H620v160Z\"/>\n",
              "  </svg>\n",
              "    </button>\n",
              "\n",
              "  <style>\n",
              "    .colab-df-container {\n",
              "      display:flex;\n",
              "      gap: 12px;\n",
              "    }\n",
              "\n",
              "    .colab-df-convert {\n",
              "      background-color: #E8F0FE;\n",
              "      border: none;\n",
              "      border-radius: 50%;\n",
              "      cursor: pointer;\n",
              "      display: none;\n",
              "      fill: #1967D2;\n",
              "      height: 32px;\n",
              "      padding: 0 0 0 0;\n",
              "      width: 32px;\n",
              "    }\n",
              "\n",
              "    .colab-df-convert:hover {\n",
              "      background-color: #E2EBFA;\n",
              "      box-shadow: 0px 1px 2px rgba(60, 64, 67, 0.3), 0px 1px 3px 1px rgba(60, 64, 67, 0.15);\n",
              "      fill: #174EA6;\n",
              "    }\n",
              "\n",
              "    .colab-df-buttons div {\n",
              "      margin-bottom: 4px;\n",
              "    }\n",
              "\n",
              "    [theme=dark] .colab-df-convert {\n",
              "      background-color: #3B4455;\n",
              "      fill: #D2E3FC;\n",
              "    }\n",
              "\n",
              "    [theme=dark] .colab-df-convert:hover {\n",
              "      background-color: #434B5C;\n",
              "      box-shadow: 0px 1px 3px 1px rgba(0, 0, 0, 0.15);\n",
              "      filter: drop-shadow(0px 1px 2px rgba(0, 0, 0, 0.3));\n",
              "      fill: #FFFFFF;\n",
              "    }\n",
              "  </style>\n",
              "\n",
              "    <script>\n",
              "      const buttonEl =\n",
              "        document.querySelector('#df-7a0ccf40-ed89-4da3-82e3-1a820989d653 button.colab-df-convert');\n",
              "      buttonEl.style.display =\n",
              "        google.colab.kernel.accessAllowed ? 'block' : 'none';\n",
              "\n",
              "      async function convertToInteractive(key) {\n",
              "        const element = document.querySelector('#df-7a0ccf40-ed89-4da3-82e3-1a820989d653');\n",
              "        const dataTable =\n",
              "          await google.colab.kernel.invokeFunction('convertToInteractive',\n",
              "                                                    [key], {});\n",
              "        if (!dataTable) return;\n",
              "\n",
              "        const docLinkHtml = 'Like what you see? Visit the ' +\n",
              "          '<a target=\"_blank\" href=https://colab.research.google.com/notebooks/data_table.ipynb>data table notebook</a>'\n",
              "          + ' to learn more about interactive tables.';\n",
              "        element.innerHTML = '';\n",
              "        dataTable['output_type'] = 'display_data';\n",
              "        await google.colab.output.renderOutput(dataTable, element);\n",
              "        const docLink = document.createElement('div');\n",
              "        docLink.innerHTML = docLinkHtml;\n",
              "        element.appendChild(docLink);\n",
              "      }\n",
              "    </script>\n",
              "  </div>\n",
              "\n",
              "\n",
              "<div id=\"df-9caa7f97-bdb0-4539-964c-1071820edeca\">\n",
              "  <button class=\"colab-df-quickchart\" onclick=\"quickchart('df-9caa7f97-bdb0-4539-964c-1071820edeca')\"\n",
              "            title=\"Suggest charts\"\n",
              "            style=\"display:none;\">\n",
              "\n",
              "<svg xmlns=\"http://www.w3.org/2000/svg\" height=\"24px\"viewBox=\"0 0 24 24\"\n",
              "     width=\"24px\">\n",
              "    <g>\n",
              "        <path d=\"M19 3H5c-1.1 0-2 .9-2 2v14c0 1.1.9 2 2 2h14c1.1 0 2-.9 2-2V5c0-1.1-.9-2-2-2zM9 17H7v-7h2v7zm4 0h-2V7h2v10zm4 0h-2v-4h2v4z\"/>\n",
              "    </g>\n",
              "</svg>\n",
              "  </button>\n",
              "\n",
              "<style>\n",
              "  .colab-df-quickchart {\n",
              "      --bg-color: #E8F0FE;\n",
              "      --fill-color: #1967D2;\n",
              "      --hover-bg-color: #E2EBFA;\n",
              "      --hover-fill-color: #174EA6;\n",
              "      --disabled-fill-color: #AAA;\n",
              "      --disabled-bg-color: #DDD;\n",
              "  }\n",
              "\n",
              "  [theme=dark] .colab-df-quickchart {\n",
              "      --bg-color: #3B4455;\n",
              "      --fill-color: #D2E3FC;\n",
              "      --hover-bg-color: #434B5C;\n",
              "      --hover-fill-color: #FFFFFF;\n",
              "      --disabled-bg-color: #3B4455;\n",
              "      --disabled-fill-color: #666;\n",
              "  }\n",
              "\n",
              "  .colab-df-quickchart {\n",
              "    background-color: var(--bg-color);\n",
              "    border: none;\n",
              "    border-radius: 50%;\n",
              "    cursor: pointer;\n",
              "    display: none;\n",
              "    fill: var(--fill-color);\n",
              "    height: 32px;\n",
              "    padding: 0;\n",
              "    width: 32px;\n",
              "  }\n",
              "\n",
              "  .colab-df-quickchart:hover {\n",
              "    background-color: var(--hover-bg-color);\n",
              "    box-shadow: 0 1px 2px rgba(60, 64, 67, 0.3), 0 1px 3px 1px rgba(60, 64, 67, 0.15);\n",
              "    fill: var(--button-hover-fill-color);\n",
              "  }\n",
              "\n",
              "  .colab-df-quickchart-complete:disabled,\n",
              "  .colab-df-quickchart-complete:disabled:hover {\n",
              "    background-color: var(--disabled-bg-color);\n",
              "    fill: var(--disabled-fill-color);\n",
              "    box-shadow: none;\n",
              "  }\n",
              "\n",
              "  .colab-df-spinner {\n",
              "    border: 2px solid var(--fill-color);\n",
              "    border-color: transparent;\n",
              "    border-bottom-color: var(--fill-color);\n",
              "    animation:\n",
              "      spin 1s steps(1) infinite;\n",
              "  }\n",
              "\n",
              "  @keyframes spin {\n",
              "    0% {\n",
              "      border-color: transparent;\n",
              "      border-bottom-color: var(--fill-color);\n",
              "      border-left-color: var(--fill-color);\n",
              "    }\n",
              "    20% {\n",
              "      border-color: transparent;\n",
              "      border-left-color: var(--fill-color);\n",
              "      border-top-color: var(--fill-color);\n",
              "    }\n",
              "    30% {\n",
              "      border-color: transparent;\n",
              "      border-left-color: var(--fill-color);\n",
              "      border-top-color: var(--fill-color);\n",
              "      border-right-color: var(--fill-color);\n",
              "    }\n",
              "    40% {\n",
              "      border-color: transparent;\n",
              "      border-right-color: var(--fill-color);\n",
              "      border-top-color: var(--fill-color);\n",
              "    }\n",
              "    60% {\n",
              "      border-color: transparent;\n",
              "      border-right-color: var(--fill-color);\n",
              "    }\n",
              "    80% {\n",
              "      border-color: transparent;\n",
              "      border-right-color: var(--fill-color);\n",
              "      border-bottom-color: var(--fill-color);\n",
              "    }\n",
              "    90% {\n",
              "      border-color: transparent;\n",
              "      border-bottom-color: var(--fill-color);\n",
              "    }\n",
              "  }\n",
              "</style>\n",
              "\n",
              "  <script>\n",
              "    async function quickchart(key) {\n",
              "      const quickchartButtonEl =\n",
              "        document.querySelector('#' + key + ' button');\n",
              "      quickchartButtonEl.disabled = true;  // To prevent multiple clicks.\n",
              "      quickchartButtonEl.classList.add('colab-df-spinner');\n",
              "      try {\n",
              "        const charts = await google.colab.kernel.invokeFunction(\n",
              "            'suggestCharts', [key], {});\n",
              "      } catch (error) {\n",
              "        console.error('Error during call to suggestCharts:', error);\n",
              "      }\n",
              "      quickchartButtonEl.classList.remove('colab-df-spinner');\n",
              "      quickchartButtonEl.classList.add('colab-df-quickchart-complete');\n",
              "    }\n",
              "    (() => {\n",
              "      let quickchartButtonEl =\n",
              "        document.querySelector('#df-9caa7f97-bdb0-4539-964c-1071820edeca button');\n",
              "      quickchartButtonEl.style.display =\n",
              "        google.colab.kernel.accessAllowed ? 'block' : 'none';\n",
              "    })();\n",
              "  </script>\n",
              "</div>\n",
              "\n",
              "  <div id=\"id_65d28721-fe9e-4fea-93b0-4a886ca11975\">\n",
              "    <style>\n",
              "      .colab-df-generate {\n",
              "        background-color: #E8F0FE;\n",
              "        border: none;\n",
              "        border-radius: 50%;\n",
              "        cursor: pointer;\n",
              "        display: none;\n",
              "        fill: #1967D2;\n",
              "        height: 32px;\n",
              "        padding: 0 0 0 0;\n",
              "        width: 32px;\n",
              "      }\n",
              "\n",
              "      .colab-df-generate:hover {\n",
              "        background-color: #E2EBFA;\n",
              "        box-shadow: 0px 1px 2px rgba(60, 64, 67, 0.3), 0px 1px 3px 1px rgba(60, 64, 67, 0.15);\n",
              "        fill: #174EA6;\n",
              "      }\n",
              "\n",
              "      [theme=dark] .colab-df-generate {\n",
              "        background-color: #3B4455;\n",
              "        fill: #D2E3FC;\n",
              "      }\n",
              "\n",
              "      [theme=dark] .colab-df-generate:hover {\n",
              "        background-color: #434B5C;\n",
              "        box-shadow: 0px 1px 3px 1px rgba(0, 0, 0, 0.15);\n",
              "        filter: drop-shadow(0px 1px 2px rgba(0, 0, 0, 0.3));\n",
              "        fill: #FFFFFF;\n",
              "      }\n",
              "    </style>\n",
              "    <button class=\"colab-df-generate\" onclick=\"generateWithVariable('table')\"\n",
              "            title=\"Generate code using this dataframe.\"\n",
              "            style=\"display:none;\">\n",
              "\n",
              "  <svg xmlns=\"http://www.w3.org/2000/svg\" height=\"24px\"viewBox=\"0 0 24 24\"\n",
              "       width=\"24px\">\n",
              "    <path d=\"M7,19H8.4L18.45,9,17,7.55,7,17.6ZM5,21V16.75L18.45,3.32a2,2,0,0,1,2.83,0l1.4,1.43a1.91,1.91,0,0,1,.58,1.4,1.91,1.91,0,0,1-.58,1.4L9.25,21ZM18.45,9,17,7.55Zm-12,3A5.31,5.31,0,0,0,4.9,8.1,5.31,5.31,0,0,0,1,6.5,5.31,5.31,0,0,0,4.9,4.9,5.31,5.31,0,0,0,6.5,1,5.31,5.31,0,0,0,8.1,4.9,5.31,5.31,0,0,0,12,6.5,5.46,5.46,0,0,0,6.5,12Z\"/>\n",
              "  </svg>\n",
              "    </button>\n",
              "    <script>\n",
              "      (() => {\n",
              "      const buttonEl =\n",
              "        document.querySelector('#id_65d28721-fe9e-4fea-93b0-4a886ca11975 button.colab-df-generate');\n",
              "      buttonEl.style.display =\n",
              "        google.colab.kernel.accessAllowed ? 'block' : 'none';\n",
              "\n",
              "      buttonEl.onclick = () => {\n",
              "        google.colab.notebook.generateWithVariable('table');\n",
              "      }\n",
              "      })();\n",
              "    </script>\n",
              "  </div>\n",
              "\n",
              "    </div>\n",
              "  </div>\n"
            ],
            "application/vnd.google.colaboratory.intrinsic+json": {
              "type": "dataframe",
              "variable_name": "table",
              "summary": "{\n  \"name\": \"table\",\n  \"rows\": 4,\n  \"fields\": [\n    {\n      \"column\": \"MODEL\",\n      \"properties\": {\n        \"dtype\": \"string\",\n        \"num_unique_values\": 4,\n        \"samples\": [\n          \"rmse_log\",\n          \"rmse_quad\",\n          \"rmse_lin\"\n        ],\n        \"semantic_type\": \"\",\n        \"description\": \"\"\n      }\n    },\n    {\n      \"column\": \"RMSE_Values\",\n      \"properties\": {\n        \"dtype\": \"number\",\n        \"std\": 3.021594635647639,\n        \"min\": 32.24444782776221,\n        \"max\": 38.52900175807143,\n        \"num_unique_values\": 4,\n        \"samples\": [\n          32.49688490932126,\n          32.24444782776221,\n          32.760177495755144\n        ],\n        \"semantic_type\": \"\",\n        \"description\": \"\"\n      }\n    },\n    {\n      \"column\": \"Rsquare\",\n      \"properties\": {\n        \"dtype\": \"number\",\n        \"std\": 0.05016087826485016,\n        \"min\": 0.670036893052843,\n        \"max\": 0.7789817667713608,\n        \"num_unique_values\": 4,\n        \"samples\": [\n          0.6753193874202299,\n          0.7789817667713608,\n          0.670036893052843\n        ],\n        \"semantic_type\": \"\",\n        \"description\": \"\"\n      }\n    }\n  ]\n}"
            }
          },
          "metadata": {},
          "execution_count": 55
        }
      ],
      "source": [
        "# Listing all the 4 models with their RMSE (error) values and R2 values\n",
        "# First creating a dictionary with 3 columns - model, error value and R2 values\n",
        "# Converting the dictionary into dataframe and printing it\n",
        "data = {\"MODEL\":pd.Series([\"rmse_lin\",\"rmse_log\",\"rmse_exp\",\"rmse_quad\"]),\n",
        "        \"RMSE_Values\":pd.Series([rmse_lin,rmse_log,rmse_exp,rmse_quad]),\n",
        "        \"Rsquare\":pd.Series([model.rsquared,model2.rsquared,model3.rsquared,model_quad.rsquared])}\n",
        "table=pd.DataFrame(data)\n",
        "table"
      ]
    },
    {
      "cell_type": "code",
      "source": [
        "# Based on the above table we can infer that, Quadratic model has the least RMSE (error) value and highest accurarcy (min required accurarcy is 0.75)\n",
        "# So, Quadratic model is the best model"
      ],
      "metadata": {
        "id": "zsU7mYBUgRB7"
      },
      "execution_count": null,
      "outputs": []
    },
    {
      "cell_type": "code",
      "execution_count": null,
      "metadata": {
        "ExecuteTime": {
          "end_time": "2022-08-04T11:04:21.089651Z",
          "start_time": "2022-08-04T11:04:21.073719Z"
        },
        "id": "KLZEQRV_8998",
        "outputId": "7dedb1da-a495-4fbf-bea4-5dc8002df6c1",
        "colab": {
          "base_uri": "https://localhost:8080/"
        }
      },
      "outputs": [
        {
          "output_type": "stream",
          "name": "stdout",
          "text": [
            "['Solarize_Light2', '_classic_test_patch', '_mpl-gallery', '_mpl-gallery-nogrid', 'bmh', 'classic', 'dark_background', 'fast', 'fivethirtyeight', 'ggplot', 'grayscale', 'seaborn-v0_8', 'seaborn-v0_8-bright', 'seaborn-v0_8-colorblind', 'seaborn-v0_8-dark', 'seaborn-v0_8-dark-palette', 'seaborn-v0_8-darkgrid', 'seaborn-v0_8-deep', 'seaborn-v0_8-muted', 'seaborn-v0_8-notebook', 'seaborn-v0_8-paper', 'seaborn-v0_8-pastel', 'seaborn-v0_8-poster', 'seaborn-v0_8-talk', 'seaborn-v0_8-ticks', 'seaborn-v0_8-white', 'seaborn-v0_8-whitegrid', 'tableau-colorblind10']\n"
          ]
        }
      ],
      "source": [
        "print(plt.style.available)"
      ]
    },
    {
      "cell_type": "code",
      "execution_count": null,
      "metadata": {
        "ExecuteTime": {
          "end_time": "2022-08-04T11:04:21.104663Z",
          "start_time": "2022-08-04T11:04:21.091652Z"
        },
        "id": "Dl-ADkwP8999"
      },
      "outputs": [],
      "source": [
        "import matplotlib.pyplot as plt\n",
        ">>> plt.style.use('classic')"
      ]
    },
    {
      "cell_type": "code",
      "execution_count": null,
      "metadata": {
        "ExecuteTime": {
          "end_time": "2022-08-04T11:04:21.277753Z",
          "start_time": "2022-08-04T11:04:21.108654Z"
        },
        "id": "6ZIGHnR68999",
        "outputId": "520d0f1a-9168-434a-cb94-2d88ef7b1762"
      },
      "outputs": [
        {
          "data": {
            "image/png": "[encoded data removed]",
            "text/plain": [
              "<Figure size 640x480 with 1 Axes>"
            ]
          },
          "metadata": {},
          "output_type": "display_data"
        }
      ],
      "source": [
        "plt.hist(model_quad.resid_pearson)\n",
        "plt.show()"
      ]
    },
    {
      "cell_type": "code",
      "execution_count": null,
      "metadata": {
        "ExecuteTime": {
          "end_time": "2022-08-04T11:04:21.515268Z",
          "start_time": "2022-08-04T11:04:21.279267Z"
        },
        "id": "iLwTxawn899-",
        "outputId": "156eede3-52d6-46db-9804-8e50de840c3e"
      },
      "outputs": [
        {
          "data": {
            "text/plain": [
              "[<matplotlib.lines.Line2D at 0x16a1bff7d60>]"
            ]
          },
          "execution_count": 92,
          "metadata": {},
          "output_type": "execute_result"
        },
        {
          "data": {
            "image/png": "[encoded data removed]",
            "text/plain": [
              "<Figure size 640x480 with 1 Axes>"
            ]
          },
          "metadata": {},
          "output_type": "display_data"
        }
      ],
      "source": [
        "plt.scatter(wcat.Waist,wcat.AT,c=\"b\")\n",
        "plt.plot(wcat.Waist,pred4,\"r\")"
      ]
    },
    {
      "cell_type": "code",
      "execution_count": null,
      "metadata": {
        "id": "S7tDs-ws899-"
      },
      "outputs": [],
      "source": []
    }
  ],
  "metadata": {
    "kernelspec": {
      "display_name": "Python 3 (ipykernel)",
      "language": "python",
      "name": "python3"
    },
    "language_info": {
      "codemirror_mode": {
        "name": "ipython",
        "version": 3
      },
      "file_extension": ".py",
      "mimetype": "text/x-python",
      "name": "python",
      "nbconvert_exporter": "python",
      "pygments_lexer": "ipython3",
      "version": "3.9.7"
    },
    "varInspector": {
      "cols": {
        "lenName": 16,
        "lenType": 16,
        "lenVar": 40
      },
      "kernels_config": {
        "python": {
          "delete_cmd_postfix": "",
          "delete_cmd_prefix": "del ",
          "library": "var_list.py",
          "varRefreshCmd": "print(var_dic_list())"
        },
        "r": {
          "delete_cmd_postfix": ") ",
          "delete_cmd_prefix": "rm(",
          "library": "var_list.r",
          "varRefreshCmd": "cat(var_dic_list()) "
        }
      },
      "types_to_exclude": [
        "module",
        "function",
        "builtin_function_or_method",
        "instance",
        "_Feature"
      ],
      "window_display": false
    },
    "colab": {
      "provenance": [],
      "include_colab_link": true
    }
  },
  "nbformat": 4,
  "nbformat_minor": 0
}