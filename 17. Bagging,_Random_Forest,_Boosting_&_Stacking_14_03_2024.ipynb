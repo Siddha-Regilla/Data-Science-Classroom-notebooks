{
  "cells": [
    {
      "cell_type": "markdown",
      "metadata": {
        "id": "view-in-github",
        "colab_type": "text"
      },
      "source": [
        "<a href=\"https://colab.research.google.com/github/Siddha-Regilla/Data-Science-Classroom-notebooks/blob/main/17.%20Bagging%2C_Random_Forest%2C_Boosting_%26_Stacking_14_03_2024.ipynb\" target=\"_parent\"><img src=\"https://colab.research.google.com/assets/colab-badge.svg\" alt=\"Open In Colab\"/></a>"
      ]
    },
    {
      "cell_type": "code",
      "source": [
        "import warnings\n",
        "warnings.filterwarnings('ignore')\n",
        "from pandas import read_csv\n",
        "# We need to break our data set into sub-samples. To do that we use Kfolds.\n",
        "# Kfold means how many folds you want to divide that dataset (k = no. of folds)\n",
        "from sklearn.model_selection import KFold\n",
        "# We need to find out the accurarcy of each sub sample. We use cross validation technique\n",
        "# Cross validation score is used to estimate accurarcy of the model\n",
        "from sklearn.model_selection import cross_val_score\n",
        "from sklearn.ensemble import BaggingClassifier\n",
        "from sklearn.tree import DecisionTreeClassifier"
      ],
      "metadata": {
        "id": "Cm1ndx-Q074V"
      },
      "execution_count": 2,
      "outputs": []
    },
    {
      "cell_type": "markdown",
      "source": [
        "# Bagged Decision Trees for Classification"
      ],
      "metadata": {
        "id": "Z-ct5Z1I1vfU"
      }
    },
    {
      "cell_type": "code",
      "execution_count": 3,
      "metadata": {
        "ExecuteTime": {
          "end_time": "2020-10-31T13:03:26.725320Z",
          "start_time": "2020-10-31T13:02:49.971705Z"
        },
        "colab": {
          "base_uri": "https://localhost:8080/"
        },
        "id": "qEtimDyMritZ",
        "outputId": "3394e811-58dc-4e7f-85f6-1d02ecef8b3f"
      },
      "outputs": [
        {
          "output_type": "stream",
          "name": "stdout",
          "text": [
            "0.7655502392344498\n"
          ]
        }
      ],
      "source": [
        "# upload the dataset\n",
        "# read the data set\n",
        "filename = 'pima-indians-diabetes.data.csv'\n",
        "# Name the columns\n",
        "names = ['preg', 'plas', 'pres', 'skin', 'test', 'mass', 'pedi', 'age', 'class']\n",
        "dataframe = read_csv(filename, names=names)\n",
        "# creating an array of the values\n",
        "array = dataframe.values\n",
        "# divide into independant and traget variables\n",
        "X = array[:,0:8]\n",
        "Y = array[:,8]\n",
        "# defining the no. of folds to used on the data set. n_splits = 10.\n",
        "# random_state = 42 is to preserve or lock the data.\n",
        "# So that everytime we run the code the same values will be used for training or testing giving us the same accurarcies everythime\n",
        "# shuffle = true so that random data is assigned to each fold\n",
        "kfold = KFold(n_splits=10, random_state=42, shuffle = True)\n",
        "# defining the model and initializing it\n",
        "cart = DecisionTreeClassifier()\n",
        "# defining the no. of trees to be used\n",
        "num_trees = 500\n",
        "# building the bagging classifier ensembled model using decision tree as base estimator, giving the number of trees to be used and locking the data through random state\n",
        "model = BaggingClassifier(base_estimator=cart, n_estimators=num_trees, random_state=42)\n",
        "# Applying the ensembled model onto the x and y data on all the sub samples and then finding out the accurarcy\n",
        "results = cross_val_score(model, X, Y, cv=kfold)\n",
        "# printing out the mean of accurarcies of all the subsamples\n",
        "print(results.mean())"
      ]
    },
    {
      "cell_type": "markdown",
      "source": [
        "# Random Forest Classification"
      ],
      "metadata": {
        "id": "JjHocoXY8nF1"
      }
    },
    {
      "cell_type": "code",
      "source": [
        "# Importing Libraries\n",
        "from pandas import read_csv\n",
        "from sklearn.model_selection import KFold\n",
        "from sklearn.model_selection import cross_val_score\n",
        "from sklearn.ensemble import RandomForestClassifier"
      ],
      "metadata": {
        "id": "yuRzfRfR8kz9"
      },
      "execution_count": 4,
      "outputs": []
    },
    {
      "cell_type": "code",
      "execution_count": 5,
      "metadata": {
        "ExecuteTime": {
          "end_time": "2020-10-31T13:03:37.715449Z",
          "start_time": "2020-10-31T13:03:35.606094Z"
        },
        "colab": {
          "base_uri": "https://localhost:8080/"
        },
        "id": "JmPweJZiritd",
        "outputId": "3e357171-b840-4714-d751-27b7e09b18d2"
      },
      "outputs": [
        {
          "output_type": "stream",
          "name": "stdout",
          "text": [
            "0.7694634313055365\n"
          ]
        }
      ],
      "source": [
        "# Dividing the datasset into independant variable and target variable\n",
        "X = array[:,0:8]\n",
        "Y = array[:,8]\n",
        "# Defining the no. of trees to be used\n",
        "num_trees = 100\n",
        "# Defining the number of features to be used per tree. Max_features = √n, where n is the no. of columns in a dataset.\n",
        "# Here we have 9 colmns. So no. of features = 3\n",
        "max_features = 3\n",
        "# defining the no. of folds to used on the data set. n_splits = 10.\n",
        "# random_state = 42 is to preserve or lock the data.\n",
        "# So that everytime we run the code the same values will be used for training or testing giving us the same accurarcies everythime\n",
        "# shuffle = true so that random data is assigned to each fold\n",
        "kfold = KFold(n_splits=10, random_state=42, shuffle = True)\n",
        "# building the model by using the no. of trees defined and the max_features fixed\n",
        "model = RandomForestClassifier(n_estimators=num_trees, max_features=max_features, random_state=42)\n",
        "# Applying the ensembled model onto the x and y data on all the sub samples and then finding out the accurarcy\n",
        "results = cross_val_score(model, X, Y, cv=kfold)\n",
        "# printing out the mean of accurarcies of all the subsamples\n",
        "print(results.mean())"
      ]
    },
    {
      "cell_type": "markdown",
      "source": [
        "# AdaBoost Classification"
      ],
      "metadata": {
        "id": "6OkVWvWDDsIU"
      }
    },
    {
      "cell_type": "code",
      "source": [
        "from pandas import read_csv\n",
        "from sklearn.model_selection import KFold\n",
        "from sklearn.model_selection import cross_val_score\n",
        "from sklearn.ensemble import AdaBoostClassifier"
      ],
      "metadata": {
        "id": "VNgDg77bDra4"
      },
      "execution_count": 6,
      "outputs": []
    },
    {
      "cell_type": "code",
      "execution_count": 7,
      "metadata": {
        "ExecuteTime": {
          "end_time": "2020-10-31T13:03:50.350283Z",
          "start_time": "2020-10-31T13:03:49.968302Z"
        },
        "colab": {
          "base_uri": "https://localhost:8080/"
        },
        "id": "1YhWC47trite",
        "outputId": "07eedfe5-be63-45ef-e387-78f3fcf800a8"
      },
      "outputs": [
        {
          "output_type": "stream",
          "name": "stdout",
          "text": [
            "0.7577751196172249\n"
          ]
        }
      ],
      "source": [
        "# upload the dataset\n",
        "# read the data set\n",
        "filename = 'pima-indians-diabetes.data.csv'\n",
        "# Name the columns\n",
        "names = ['preg', 'plas', 'pres', 'skin', 'test', 'mass', 'pedi', 'age', 'class']\n",
        "dataframe = read_csv(filename, names=names)\n",
        "array = dataframe.values\n",
        "# divide into independant and traget variables\n",
        "X = array[:,0:8]\n",
        "Y = array[:,8]\n",
        "# defining the no. of trees to be used. We can experiment with the no. of trees to see how the accurarcy is effected\n",
        "num_trees = 10\n",
        "# defining the no. of folds to used on the data set. n_splits = 10.\n",
        "# random_state = 42 is to preserve or lock the data.\n",
        "# So that everytime we run the code the same values will be used for training or testing giving us the same accurarcies everythime\n",
        "# shuffle = true so that random data is assigned to each fold\n",
        "kfold = KFold(n_splits=10, random_state=42, shuffle = True)\n",
        "# building the boosting classifier ensembled model using decision tree as base estimator,\n",
        "# giving the number of trees to be used and locking the data through random state\n",
        "model = AdaBoostClassifier(n_estimators=num_trees, random_state=42)\n",
        "# Applying the ensembled model onto the x and y data on all the sub samples and then finding out the accurarcy\n",
        "results = cross_val_score(model, X, Y, cv=kfold)\n",
        "# printing out the mean of accurarcies of all the subsamples\n",
        "print(results.mean())\n"
      ]
    },
    {
      "cell_type": "markdown",
      "source": [
        "# Stacking Ensemble for Classification"
      ],
      "metadata": {
        "id": "RSc7FEkpE5Vx"
      }
    },
    {
      "cell_type": "code",
      "source": [
        "from pandas import read_csv\n",
        "from sklearn.model_selection import KFold\n",
        "from sklearn.model_selection import cross_val_score\n",
        "from sklearn.linear_model import LogisticRegression\n",
        "from sklearn.tree import DecisionTreeClassifier\n",
        "from sklearn.svm import SVC # for support vector machine model\n",
        "from sklearn.ensemble import VotingClassifier # meta model"
      ],
      "metadata": {
        "id": "twgFUiWGFO7j"
      },
      "execution_count": 9,
      "outputs": []
    },
    {
      "cell_type": "code",
      "execution_count": 10,
      "metadata": {
        "ExecuteTime": {
          "end_time": "2020-10-31T13:04:13.118687Z",
          "start_time": "2020-10-31T13:04:11.937925Z"
        },
        "colab": {
          "base_uri": "https://localhost:8080/"
        },
        "id": "aYBXx1q1ritf",
        "outputId": "1b09e664-8638-46d3-9599-78750aada3c2"
      },
      "outputs": [
        {
          "output_type": "stream",
          "name": "stdout",
          "text": [
            "0.7708133971291866\n"
          ]
        }
      ],
      "source": [
        "# upload the dataset\n",
        "# read the data set\n",
        "filename = 'pima-indians-diabetes.data.csv'\n",
        "names = ['preg', 'plas', 'pres', 'skin', 'test', 'mass', 'pedi', 'age', 'class']\n",
        "dataframe = read_csv(filename, names=names)\n",
        "array = dataframe.values\n",
        "# divide into independant and traget variables\n",
        "X = array[:,0:8]\n",
        "Y = array[:,8]\n",
        "# defining the no. of folds to be used on the dataset\n",
        "kfold = KFold(n_splits=10, random_state=42, shuffle = True)\n",
        "\n",
        "# create the sub models\n",
        "# building 3 individual models and appending them into an empty estimator list\n",
        "estimators = []\n",
        "# Model 1 - logistic regression\n",
        "model1 = LogisticRegression(max_iter=500, random_state=42)\n",
        "estimators.append(('logistic', model1))\n",
        "# Model 2 - decision tree. We are using the cart method\n",
        "model2 = DecisionTreeClassifier(random_state=42)\n",
        "estimators.append(('cart', model2))\n",
        "# Model 3 - support vector machine\n",
        "model3 = SVC(random_state=42)\n",
        "estimators.append(('svm', model3))\n",
        "\n",
        "# create the ensemble model\n",
        "# applying the meta model on the collection of these models\n",
        "ensemble = VotingClassifier(estimators)\n",
        "# Applying the ensembled model onto the x and y data on all the sub samples and then finding out the accurarcy\n",
        "results = cross_val_score(ensemble, X, Y, cv=kfold)\n",
        "# printing out the mean of accurarcies of all the subsamples\n",
        "print(results.mean())"
      ]
    },
    {
      "cell_type": "code",
      "execution_count": 11,
      "metadata": {
        "id": "AJlt5wpNritg"
      },
      "outputs": [],
      "source": [
        "# Hyperparamenter tuning - it is when we try out (tune) different no. of trees or max_feature or different no. of fold to improve the accurarcy value"
      ]
    },
    {
      "cell_type": "code",
      "source": [
        "# Most times we need to apply these models in our datasets and tune the hyperparameters.\n",
        "# Check which model is working out well\n",
        "# In most of the cases, the random forest model is highly effective. If you tune for the hyperparaments like - max_features, no. of trees. It'll give use high accurarcy\n",
        "# Stacking model is also effective. It also gives us high levels of accurarcy\n",
        "# therefore, we can apply these models in our project and select amongst these models which is the best one."
      ],
      "metadata": {
        "id": "wFAUZOjhG5Kp"
      },
      "execution_count": 12,
      "outputs": []
    },
    {
      "cell_type": "code",
      "source": [
        "# We have see so far the following 4 types of ensemble techniques -\n",
        "# 1. Bagging\n",
        "# 2. Random forests - a type of bagging\n",
        "# 3. Boosting - adaboost technique\n",
        "# 4. Stacking"
      ],
      "metadata": {
        "id": "hxUzmjnlIUaT"
      },
      "execution_count": 13,
      "outputs": []
    },
    {
      "cell_type": "code",
      "source": [
        "# Furthur we'll be seeing 2 types of advanced boosting techinques -\n",
        "# 1. XG Boost - extreme gradient descent model or extreme gradient boosting model\n",
        "# 2. LGBM - Light gradient boosting model"
      ],
      "metadata": {
        "id": "rRSGkhmLIsP2"
      },
      "execution_count": null,
      "outputs": []
    }
  ],
  "metadata": {
    "kernelspec": {
      "display_name": "Python 3",
      "language": "python",
      "name": "python3"
    },
    "language_info": {
      "codemirror_mode": {
        "name": "ipython",
        "version": 3
      },
      "file_extension": ".py",
      "mimetype": "text/x-python",
      "name": "python",
      "nbconvert_exporter": "python",
      "pygments_lexer": "ipython3",
      "version": "3.7.3"
    },
    "varInspector": {
      "cols": {
        "lenName": 16,
        "lenType": 16,
        "lenVar": 40
      },
      "kernels_config": {
        "python": {
          "delete_cmd_postfix": "",
          "delete_cmd_prefix": "del ",
          "library": "var_list.py",
          "varRefreshCmd": "print(var_dic_list())"
        },
        "r": {
          "delete_cmd_postfix": ") ",
          "delete_cmd_prefix": "rm(",
          "library": "var_list.r",
          "varRefreshCmd": "cat(var_dic_list()) "
        }
      },
      "types_to_exclude": [
        "module",
        "function",
        "builtin_function_or_method",
        "instance",
        "_Feature"
      ],
      "window_display": false
    },
    "colab": {
      "provenance": [],
      "include_colab_link": true
    }
  },
  "nbformat": 4,
  "nbformat_minor": 0
}