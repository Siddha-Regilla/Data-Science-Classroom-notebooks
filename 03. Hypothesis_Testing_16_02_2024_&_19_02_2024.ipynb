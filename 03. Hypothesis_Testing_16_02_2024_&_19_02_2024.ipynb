{
  "nbformat": 4,
  "nbformat_minor": 0,
  "metadata": {
    "colab": {
      "provenance": [],
      "collapsed_sections": [
        "gD-JQwSI2T3-",
        "2E7c6uROwwoO",
        "Mo2b_ERiSFAW",
        "tE4em0mdFowK"
      ],
      "authorship_tag": "ABX9TyN8ShhsuDYNVM5FJm5JDZ3h",
      "include_colab_link": true
    },
    "kernelspec": {
      "name": "python3",
      "display_name": "Python 3"
    },
    "language_info": {
      "name": "python"
    }
  },
  "cells": [
    {
      "cell_type": "markdown",
      "metadata": {
        "id": "view-in-github",
        "colab_type": "text"
      },
      "source": [
        "<a href=\"https://colab.research.google.com/github/Siddha-Regilla/Data-Science-Classroom-notebooks/blob/main/Hypothesis_Testing_16_02_2024_%26_19_02_2024.ipynb\" target=\"_parent\"><img src=\"https://colab.research.google.com/assets/colab-badge.svg\" alt=\"Open In Colab\"/></a>"
      ]
    },
    {
      "cell_type": "code",
      "execution_count": null,
      "metadata": {
        "id": "brKBz1n5wL9u"
      },
      "outputs": [],
      "source": [
        "#Importing libraries\n",
        "import pandas as pd\n",
        "import numpy as np\n",
        "import matplotlib.pyplot as plt # for visualizations\n",
        "import seaborn as sns # for visualizations\n",
        "import statsmodels.api as sm #for 2 proportion test\n",
        "import warnings\n",
        "import scipy\n",
        "from scipy import stats"
      ]
    },
    {
      "cell_type": "code",
      "source": [
        "#Importing functions from the above library\n",
        "warnings.filterwarnings('ignore')"
      ],
      "metadata": {
        "id": "pUBpDC03wUC_"
      },
      "execution_count": null,
      "outputs": []
    },
    {
      "cell_type": "markdown",
      "source": [
        "# ***16-02-2024 - Parametric test***"
      ],
      "metadata": {
        "id": "gD-JQwSI2T3-"
      }
    },
    {
      "cell_type": "markdown",
      "source": [
        "***Z-Test***"
      ],
      "metadata": {
        "id": "SWwsTwCd2caQ"
      }
    },
    {
      "cell_type": "code",
      "source": [
        "# Step 1 - Defining our hypothesis\n",
        "# Ho - Initial assumption or the default state where no change is required\n",
        "# Ha - Alternate assumption or whatever we actually want to prove\n",
        "\n",
        "# Step 2 - Identifying a test statistics\n",
        "# As we have population standard deviation we use z-test\n",
        "# First we calculate the z-value\n",
        "# Then, we compare the z-value with the significance level - alpha value (alpha = 0.05)\n",
        "\n",
        "# Step 3 -\n",
        "# If p-value < 0.05 - We accept the null hypothesis, Ho\n",
        "# If p-value >= 0.05 - We reject the null hypothesis, and accept alternate hypothesis, Ha"
      ],
      "metadata": {
        "id": "1DM4wlHs2YCA"
      },
      "execution_count": null,
      "outputs": []
    },
    {
      "cell_type": "code",
      "source": [],
      "metadata": {
        "id": "_7_tlRIXgpm9"
      },
      "execution_count": null,
      "outputs": []
    },
    {
      "cell_type": "markdown",
      "source": [
        "***t-test***"
      ],
      "metadata": {
        "id": "4TEt0u6Z2fQt"
      }
    },
    {
      "cell_type": "code",
      "source": [
        "# Supermarket loyalty program - Should the program be launched or not\n",
        "\n",
        "u = 120 # Average spending per shopper; Population mean\n",
        "n = 80  # A random sample of shoppers\n",
        "x = 130 # Sample mean spending by the sample group\n",
        "s = 40  # Sample standard deviation\n",
        "\n",
        "# Step 1 - Defining our hypothesis\n",
        "# Ho - u <= 120;  Loyalty program should not be launched\n",
        "# Ha - u > 120;   Loyalty program should be launched\n",
        "\n",
        "# Step 2 - Identifying a test statistics\n",
        "# As we have only sample standard deviation we use t-test\n",
        "# First we calculate t_statistic value and then the t_critical value\n",
        "# We compare the 2 values\n",
        "\n",
        "t_stat = (x-u)/(s/np.sqrt(n))\n",
        "t_crit = stats.t.ppf(0.975,79) # Considering CL as 95%, therefor CL + alpha/2 = 0.975 & df = n-1 = 80-1 = 79\n",
        "\n",
        "if t_stat > t_crit: # If the t-statistic > t-critical we reject the null hypothesis; i.e., accept the alternate hypothesis\n",
        "  print(\"t-statistical value > t-critical value = \",t_stat,\" > \",t_crit)\n",
        "  print(\"Reject Null Hypothesis (Ho). \\n!!Launch the Loyalty program!!\")\n",
        "else: # If the t-statistic <= t-critical we accept the null hypothesis\n",
        "  print(\"t-statistical value < t-critical value = \",t_stat,\" < \",t_crit)\n",
        "  print(\"Accept Null Hypothesis (Ho). Do not launch the Loyalty program!!\")\n",
        "\n"
      ],
      "metadata": {
        "id": "M0wYM07S2kjZ",
        "colab": {
          "base_uri": "https://localhost:8080/"
        },
        "outputId": "07644c1c-86ab-48fa-9641-dc2d92fa7379"
      },
      "execution_count": null,
      "outputs": [
        {
          "output_type": "stream",
          "name": "stdout",
          "text": [
            "t-statistical value > t-critical value =  2.23606797749979  >  1.9904502099893602\n",
            "Reject Null Hypothesis (Ho). \n",
            "!!Launch the Loyalty program!!\n"
          ]
        }
      ]
    },
    {
      "cell_type": "code",
      "source": [
        "# Process control at a call center\n",
        "u = 4   # Population mean\n",
        "p_s = 3 # Population standard ddeviation\n",
        "n = 50  # Sample size\n",
        "x = 4.6 # Sample mean\n",
        "\n",
        "# Step 1 - Defining our hypothesis\n",
        "# Ho - u = 4;  Do not investigate call center procedure\n",
        "# Ha - u != 4; Investigate the call center procedure\n",
        "\n",
        "# Step 2 - Identifying a test statistics\n",
        "# As we have population standard deviation we can use z-test\n",
        "# But as the sample size is > 30, we use t-test. This is because the graph of t-test and z-test start becoming similar (overlap each other) once the sample size exceeds 30\n",
        "# Therefore, First we calculate t_statistic value and then the t_critical value\n",
        "# We compare the 2 values\n",
        "\n",
        "t_stat = (x-u)/(p_s/np.sqrt(n))\n",
        "t_crit = stats.t.ppf(0.975,49) # Considering CL as 95%, therefor CL + alpha/2 = 0.975 & df = n-1 = 50-1 = 49\n",
        "\n",
        "if t_stat > t_crit: # If the t-statistic > t-critical we reject the null hypothesis; i.e., accept the alternate hypothesis\n",
        "  print(\"t-statistical value > t-critical value = \",t_stat,\" > \",t_crit)\n",
        "  print(\"Reject Null Hypothesis (Ho). \\n!!Launch an investigation against the call centre procedure!!\")\n",
        "else: # If the t-statistic <= t-critical we accept the null hypothesis\n",
        "  print(\"t-statistical value < t-critical value = \",t_stat,\" < \",t_crit)\n",
        "  print(\"Accept Null Hypothesis (Ho). \\n!!Do not launch an investigation against the call centre procedure!!\")\n",
        "\n"
      ],
      "metadata": {
        "id": "8-DQ0-5awpXv",
        "colab": {
          "base_uri": "https://localhost:8080/"
        },
        "outputId": "f3268063-b5b6-4033-e81d-5dba68f30461"
      },
      "execution_count": null,
      "outputs": [
        {
          "output_type": "stream",
          "name": "stdout",
          "text": [
            "t-statistical value < t-critical value =  1.4142135623730943  <  2.009575234489209\n",
            "Accept Null Hypothesis (Ho). \n",
            "!!Do not launch an investigation against the call centre procedure!!\n"
          ]
        }
      ]
    },
    {
      "cell_type": "markdown",
      "source": [
        "***1 sample 1 tailed test***"
      ],
      "metadata": {
        "id": "3uUyLzBc2miL"
      }
    },
    {
      "cell_type": "code",
      "source": [
        "# Salmonella in icecream -\n",
        "\n",
        "data = pd.Series([0.593,0.142,0.329,0.691,0.231,0.793,0.519,0.392,0.418])\n",
        "x = np.mean(data) # Mean of the sample dataset, content of salmonella in the icecream\n",
        "s = np.std(data)\n",
        "n = 9 # Sample size\n",
        "\n",
        "# Step 1 - Defining our hypothesis\n",
        "# Ho - u <= 0.3 mpn/g;  Salmonella content is lower, the disease may not be because of it\n",
        "# Ha - u > 0.3 mpn/g;   Salmonella content is higher, the disease can be because of it\n",
        "\n",
        "# Step 2 - Identifying a test statistics\n",
        "# First we calculate the p-value using 1samp() and divide by 2 as the p-value we get is for 2-tailed test and we only want for 1 tail\n",
        "# Then, we compare the p-value with the significance level - alpha value (alpha = 0.05)\n",
        "\n",
        "samp_1 = stats.ttest_1samp(data,0.3) #The output we get is - statistic, p-value, df\n",
        "t_stat = samp_1[0]\n",
        "p_val = (samp_1[1])/2 # As the p-value that we get from 1samp() is for 2 tailed test, therefore we divide by 2\n",
        "a = 0.05\n",
        "\n",
        "if p_val < a: # If the p-value < alpha, we reject the null hypothesis; i.e., accept the alternate hypothesis\n",
        "  print(\"p-value < significance level = \",p_val,\" < \",a)\n",
        "  print(\"Reject Null Hypothesis (Ho). \\n!!Salmonella content is higher, the disease can be because of it!!\")\n",
        "else: # If the p-value >= alpha, we accept the null hypothesis\n",
        "  print(\"p-value > significance level = \",p_val,\" > \",a)\n",
        "  print(\"Accept Null Hypothesis (Ho). \\n!!Salmonella content is lower, the disease may not be because of it!!\")\n",
        "\n",
        "\n"
      ],
      "metadata": {
        "id": "MRSV9pFB2sNo",
        "colab": {
          "base_uri": "https://localhost:8080/"
        },
        "outputId": "66ea9042-6f10-4495-d2e8-eab188e20418"
      },
      "execution_count": null,
      "outputs": [
        {
          "output_type": "stream",
          "name": "stdout",
          "text": [
            "p-value < significance level =  0.029265164842448826  <  0.05\n",
            "Reject Null Hypothesis (Ho). \n",
            "!!Salmonella content is higher, the disease can be because of it!!\n"
          ]
        }
      ]
    },
    {
      "cell_type": "markdown",
      "source": [
        "***2 sample 2 tailed test***"
      ],
      "metadata": {
        "id": "luZmZIGe2std"
      }
    },
    {
      "cell_type": "code",
      "source": [
        "# Covid drug test\n",
        "# 2 samples were used - 1 who were given the drug, 1 who were not given the drug\n",
        "control = pd.Series([91,87,99,77,88,91])\n",
        "treat = pd.Series([101,110,103,93,99,104])\n",
        "u1 = np.mean(control)\n",
        "u2 = np.mean(treat)\n",
        "\n",
        "# Step 1 - Defining our hypothesis\n",
        "# Ho - u1 = u2;  No difference, with or without the drug, in the recovery time\n",
        "# Ha - u1 != u2; The recovery time of treatment is more than or less than the control group\n",
        "\n",
        "# Step 2 - Identifying a test statistics\n",
        "# First we calculate the p-value using ind()\n",
        "# Then, we compare the p-value with the significance level - alpha value (alpha = 0.05)\n",
        "\n",
        "samp_2 = stats.ttest_ind(control,treat) #The output we get is - statistic, p-value, df\n",
        "# here the degrees of freedom (df) = (n1-1) + (n2-1). Therefore, (6-1)+(6-1) = 10\n",
        "t_stat = samp_2[0]\n",
        "p_val = (samp_2[1])\n",
        "a = 0.05\n",
        "\n",
        "if p_val < a: # If the p-value < alpha, we reject the null hypothesis; i.e., accept the alternate hypothesis\n",
        "  print(\"p-value < significance level = \",p_val,\" < \",a)\n",
        "  print(\"Reject Null Hypothesis (Ho). \\n!!The recovery time of treatment is more than or less than the control group!!\")\n",
        "else: # If the p-value >= alpha, we accept the null hypothesis\n",
        "  print(\"p-value > significance level = \",p_val,\" > \",a)\n",
        "  print(\"Accept Null Hypothesis (Ho). \\n!!No difference, with or without the drug, in the recovery time!!\")\n"
      ],
      "metadata": {
        "id": "hLuBe8gv2xIa",
        "colab": {
          "base_uri": "https://localhost:8080/"
        },
        "outputId": "b76f3865-afc2-48e5-fe92-65447c847c6b"
      },
      "execution_count": null,
      "outputs": [
        {
          "output_type": "stream",
          "name": "stdout",
          "text": [
            "p-value < significance level =  0.006272124350809803  <  0.05\n",
            "Reject Null Hypothesis (Ho). \n",
            "!!The recovery time of treatment is more than or less than the control group!!\n"
          ]
        }
      ]
    },
    {
      "cell_type": "markdown",
      "source": [
        "# ***19-02-2024 - Non-Parametric test***"
      ],
      "metadata": {
        "id": "2E7c6uROwwoO"
      }
    },
    {
      "cell_type": "markdown",
      "source": [
        "2 Proportion t test"
      ],
      "metadata": {
        "id": "8g6Hg3gCH_ob"
      }
    },
    {
      "cell_type": "code",
      "source": [
        "#Student Placement\n",
        "n1=247  # No. of students from state 1\n",
        "p1=0.37 # Percent of students that got the job in state 1\n",
        "n2=308  # No. of students from state 2\n",
        "p2=0.39 # Percent of students that got the job in state 2\n",
        "\n",
        "# Step 1 - Defining our hypothesis\n",
        "# Ho - p1 = p2;   Placement proportion of students from state 1 is same as the state 2\n",
        "# Ha - p1 != p2;  Placement proportion of students from state 1 is not same as that of the state 2"
      ],
      "metadata": {
        "id": "ZUZPE9bNwu9A"
      },
      "execution_count": null,
      "outputs": []
    },
    {
      "cell_type": "code",
      "source": [
        "# General we have 2 columns and we compare the 2 columns. In this case we don't have the data in that format.\n",
        "# Hence we need to create such data.\n",
        "# In this example we are looking at student placements, i.e., either the student got a job (1), or is still looking for a job(0). Only 2 possibilities.\n",
        "# Hence, this problem becomes a binomial distribution problem."
      ],
      "metadata": {
        "id": "eXAugJTTpM96"
      },
      "execution_count": null,
      "outputs": []
    },
    {
      "cell_type": "code",
      "source": [
        "#Applying the binomial function and generating a random sample data.\n",
        "#(P.s - write 1 within brackets as it'll provide 2 possibilities - 0 & 1; if we write 2, it will give 3 possibiliets)\n",
        "s1=np.random.binomial(1,p1,n1)"
      ],
      "metadata": {
        "id": "Z4YNaYw0xDXI"
      },
      "execution_count": null,
      "outputs": []
    },
    {
      "cell_type": "code",
      "source": [
        "s1"
      ],
      "metadata": {
        "colab": {
          "base_uri": "https://localhost:8080/"
        },
        "id": "AQVkyT_bxK_e",
        "outputId": "2336305c-39b0-4058-d0f0-71a86af26b22"
      },
      "execution_count": null,
      "outputs": [
        {
          "output_type": "execute_result",
          "data": {
            "text/plain": [
              "array([0, 0, 1, 1, 1, 0, 0, 1, 1, 0, 0, 1, 1, 0, 0, 1, 1, 0, 0, 1, 0, 1,\n",
              "       0, 0, 0, 1, 0, 1, 0, 1, 0, 0, 0, 0, 0, 1, 0, 0, 1, 1, 0, 1, 0, 1,\n",
              "       0, 0, 0, 0, 1, 0, 0, 1, 0, 1, 0, 0, 0, 0, 0, 0, 0, 1, 0, 1, 0, 1,\n",
              "       0, 0, 1, 1, 1, 0, 1, 0, 1, 0, 1, 1, 0, 1, 1, 0, 1, 0, 1, 1, 0, 0,\n",
              "       1, 0, 1, 0, 1, 0, 0, 1, 1, 1, 0, 1, 0, 0, 0, 1, 1, 1, 0, 1, 0, 0,\n",
              "       0, 0, 1, 0, 0, 0, 0, 0, 1, 0, 0, 0, 0, 1, 0, 1, 0, 0, 0, 0, 1, 0,\n",
              "       1, 0, 0, 1, 0, 0, 1, 0, 0, 1, 0, 0, 0, 0, 0, 1, 0, 1, 1, 0, 0, 0,\n",
              "       0, 0, 0, 1, 0, 1, 1, 0, 1, 1, 0, 1, 1, 0, 1, 0, 0, 0, 0, 1, 0, 1,\n",
              "       0, 0, 0, 0, 1, 0, 1, 0, 0, 1, 0, 0, 0, 1, 1, 0, 0, 0, 0, 0, 0, 1,\n",
              "       1, 0, 0, 1, 1, 0, 0, 0, 1, 1, 0, 0, 0, 1, 0, 0, 0, 1, 1, 1, 0, 0,\n",
              "       0, 1, 1, 0, 0, 1, 0, 1, 0, 0, 1, 1, 1, 0, 0, 1, 1, 0, 0, 0, 0, 0,\n",
              "       1, 0, 0, 1, 0])"
            ]
          },
          "metadata": {},
          "execution_count": 7
        }
      ]
    },
    {
      "cell_type": "code",
      "source": [
        "s2=np.random.binomial(1,p2,n2)"
      ],
      "metadata": {
        "id": "LSxZeUe2xMBd"
      },
      "execution_count": null,
      "outputs": []
    },
    {
      "cell_type": "code",
      "source": [
        "# Step 2 - Identifying a test statistics\n",
        "# First we calculate the p-value using ind()\n",
        "# Then, we compare the p-value with the significance level - alpha value (alpha = 0.05)\n",
        "\n",
        "# With this we get, - t statistics, p value, DF\n",
        "# DF formula in this exaple is (n1-1) + (n2-1)\n",
        "# We need to import statsmodels.api for the following function.\n",
        "# The p-value will keep varying everytime we run the codes as we are working with random data\n",
        "ind_data = sm.stats.ttest_ind(s1,s2)\n",
        "a = 0.05"
      ],
      "metadata": {
        "id": "F889IJMAxcIb"
      },
      "execution_count": null,
      "outputs": []
    },
    {
      "cell_type": "code",
      "source": [
        "ind_data"
      ],
      "metadata": {
        "colab": {
          "base_uri": "https://localhost:8080/"
        },
        "id": "JzEjAhTKsbjp",
        "outputId": "97f4271f-721b-4291-a1f0-7e79ca5b7258"
      },
      "execution_count": null,
      "outputs": [
        {
          "output_type": "execute_result",
          "data": {
            "text/plain": [
              "(-0.5644897473476066, 0.572649760584966, 553.0)"
            ]
          },
          "metadata": {},
          "execution_count": 10
        }
      ]
    },
    {
      "cell_type": "code",
      "source": [
        "p_val = ind_data[1]"
      ],
      "metadata": {
        "id": "M2KGlYzdr5Es"
      },
      "execution_count": null,
      "outputs": []
    },
    {
      "cell_type": "code",
      "source": [
        "if p_val < a: # If the p-value < alpha, we reject the null hypothesis; i.e., accept the alternate hypothesis\n",
        "  print(\"p-value < significance level = \",p_val,\" < \",a)\n",
        "  print(\"Reject Null Hypothesis (Ho). \\n!!Placement proportion of students from state 1 is not same as that of the state 2!!\")\n",
        "else: # If the p-value >= alpha, we accept the null hypothesis\n",
        "  print(\"p-value > significance level = \",p_val,\" > \",a)\n",
        "  print(\"Accept Null Hypothesis (Ho). \\n!!Placement proportion of students from state 1 is same as the state 2!!\")"
      ],
      "metadata": {
        "colab": {
          "base_uri": "https://localhost:8080/"
        },
        "id": "R-lXy7FEs54d",
        "outputId": "4bce6d53-f1f3-42f3-c384-34227bf0a422"
      },
      "execution_count": null,
      "outputs": [
        {
          "output_type": "stream",
          "name": "stdout",
          "text": [
            "p-value > significance level =  0.572649760584966  >  0.05\n",
            "Accept Null Hypothesis (Ho). \n",
            "!!Placement proportion of students from state 1 is same as the state 2!!\n"
          ]
        }
      ]
    },
    {
      "cell_type": "markdown",
      "source": [
        "# ***Anova*** - Parametric test"
      ],
      "metadata": {
        "id": "Mo2b_ERiSFAW"
      }
    },
    {
      "cell_type": "code",
      "source": [
        "# Analysis of variance\n",
        "# Compare means of more than 2 samples\n",
        "\n",
        "# Step 1 - Defining our hypothesis\n",
        "# Ho - u1 = u2 = u3;  Means of all samples will be the same\n",
        "# Ha - u1 != u2 = u3; Means of atleast 1 of them will be different\n",
        "\n",
        "# Step 2 - Performing the anova test - we use the f-statistics\n",
        "# First we calculate the f-statistic value using ind()\n",
        "# Then, we compare the f-statistic value with the f-critical value.\n",
        "\n",
        "# Step 3 -\n",
        "# If F- statistic <= F-critical - We accept the null hypothesis, Ho\n",
        "# If F-statistic > F-critical - We reject the null hypothesis, and accept alternate hypothesis, Ha\n",
        "# or\n",
        "# If p-value > 0.05 - We accept the null hypothesis, Ho\n",
        "# If p-value <= 0.05 - We reject the null hypothesis, and accept alternate hypothesis, Ha\n"
      ],
      "metadata": {
        "id": "uG1nl1lzx5s5"
      },
      "execution_count": null,
      "outputs": []
    },
    {
      "cell_type": "code",
      "source": [
        "# If we have 1 variable - One way Anova\n",
        "# If we have 2 variables - Two way Anova\n",
        "# If we have 3 variables - Three way Anova\n",
        "\n",
        "# F-statistic = variance between groups / variance within groups"
      ],
      "metadata": {
        "id": "_XwC3zX-xgh9"
      },
      "execution_count": null,
      "outputs": []
    },
    {
      "cell_type": "markdown",
      "source": [
        "One-Way Anova Test"
      ],
      "metadata": {
        "id": "K6fZpbFWC49s"
      }
    },
    {
      "cell_type": "code",
      "source": [
        "# Upload dataset - ContractRenewal_data(unstacked).xlsx"
      ],
      "metadata": {
        "id": "ZyOxM2NKCoT2"
      },
      "execution_count": null,
      "outputs": []
    },
    {
      "cell_type": "code",
      "source": [
        "# Reading the dataset\n",
        "cof=pd.read_excel(\"ContractRenewal_Data(unstacked).xlsx\")\n",
        "print(cof)\n",
        "\n",
        "# Step 1 - Defining our hypothesis\n",
        "# Ho - u1 = u2 = u3;  Transaction time of all 3 suppliers is same\n",
        "# Ha - u1 != u2 = u3; Transaction time of 1 of the suppliers is not same\n",
        "\n",
        "# Step 2 - Performing the anova test - we use the f-statistics\n",
        "# First we calculate the p-value using f_oneway()\n",
        "# Then, we compare the p-value with the significance level - alpha value (alpha = 0.05)\n",
        "\n",
        "# In the f_oneway() - we give the data of the 3 suppliers present the 0th index, 1st index and 2nd index of the dataset\n",
        "f_stat = stats.f_oneway(cof.iloc[:,0], cof.iloc[:,1],cof.iloc[:,2]) # Applying the f-statistics\n",
        "#The output we get is - statistic, p-value, df\n",
        "a = 0.05\n",
        "p_val = f_stat[1]\n",
        "\n",
        "# Step 3 -\n",
        "# If p-value > 0.05 - We accept the null hypothesis, Ho\n",
        "# If p-value <= 0.05 - We reject the null hypothesis, and accept alternate hypothesis, Ha\n",
        "\n",
        "if p_val < a: # If the p-value < alpha, we reject the null hypothesis; i.e., accept the alternate hypothesis\n",
        "  print(\"p-value < significance level = \",p_val,\" < \",a)\n",
        "  print(\"Reject Null Hypothesis (Ho). \\n!!Transaction time of 1 of the suppliers is not same!!\")\n",
        "else: # If the p-value >= alpha, we accept the null hypothesis\n",
        "  print(\"p-value > significance level = \",p_val,\" > \",a)\n",
        "  print(\"Accept Null Hypothesis (Ho). \\n!!Transaction time of all 3 suppliers is same!!\")"
      ],
      "metadata": {
        "colab": {
          "base_uri": "https://localhost:8080/"
        },
        "id": "-XZwGjO-ybLa",
        "outputId": "25c9be50-cea5-4b6c-84de-28059186d9cb"
      },
      "execution_count": null,
      "outputs": [
        {
          "output_type": "stream",
          "name": "stdout",
          "text": [
            "     Supplier A  Supplier B  Supplier C\n",
            "0          6.15        7.87        7.41\n",
            "1          6.22        5.21        3.61\n",
            "2          6.76        7.94        7.23\n",
            "3          4.29        7.36        5.53\n",
            "4          7.08        6.17        3.97\n",
            "..          ...         ...         ...\n",
            "115        5.85        4.53        4.27\n",
            "116        5.04        8.06        6.39\n",
            "117        5.68        7.14        4.60\n",
            "118        4.77        4.84        6.15\n",
            "119        3.57        4.55        5.28\n",
            "\n",
            "[120 rows x 3 columns]\n",
            "p-value > significance level =  0.10373295731933224  >  0.05\n",
            "Accept Null Hypothesis (Ho). \n",
            "!!Transaction time of all 3 suppliers is same!!\n"
          ]
        }
      ]
    },
    {
      "cell_type": "markdown",
      "source": [
        "# ***Chi-Square Test*** - non-parametric test"
      ],
      "metadata": {
        "id": "tE4em0mdFowK"
      }
    },
    {
      "cell_type": "code",
      "source": [
        "# Upload dataset - Bahaman.xlsx"
      ],
      "metadata": {
        "id": "ktUyf13TH14S"
      },
      "execution_count": null,
      "outputs": []
    },
    {
      "cell_type": "code",
      "source": [
        "# Reading the dataset\n",
        "Bahaman=pd.read_excel(\"Bahaman.xlsx\")\n",
        "Bahaman\n"
      ],
      "metadata": {
        "colab": {
          "base_uri": "https://localhost:8080/",
          "height": 423
        },
        "id": "8YilI8cQHskT",
        "outputId": "cd4b9664-a6fc-4d15-e4ca-796a984dc198"
      },
      "execution_count": null,
      "outputs": [
        {
          "output_type": "execute_result",
          "data": {
            "text/plain": [
              "     Defective     Country\n",
              "0            0       India\n",
              "1            0       India\n",
              "2            0       India\n",
              "3            0       India\n",
              "4            1       India\n",
              "..         ...         ...\n",
              "795          0  Bangladesh\n",
              "796          0  Bangladesh\n",
              "797          1  Bangladesh\n",
              "798          0  Bangladesh\n",
              "799          0  Bangladesh\n",
              "\n",
              "[800 rows x 2 columns]"
            ],
            "text/html": [
              "\n",
              "  <div id=\"df-3d3d5e9d-1ce7-4d80-9d9d-06862951c581\" class=\"colab-df-container\">\n",
              "    <div>\n",
              "<style scoped>\n",
              "    .dataframe tbody tr th:only-of-type {\n",
              "        vertical-align: middle;\n",
              "    }\n",
              "\n",
              "    .dataframe tbody tr th {\n",
              "        vertical-align: top;\n",
              "    }\n",
              "\n",
              "    .dataframe thead th {\n",
              "        text-align: right;\n",
              "    }\n",
              "</style>\n",
              "<table border=\"1\" class=\"dataframe\">\n",
              "  <thead>\n",
              "    <tr style=\"text-align: right;\">\n",
              "      <th></th>\n",
              "      <th>Defective</th>\n",
              "      <th>Country</th>\n",
              "    </tr>\n",
              "  </thead>\n",
              "  <tbody>\n",
              "    <tr>\n",
              "      <th>0</th>\n",
              "      <td>0</td>\n",
              "      <td>India</td>\n",
              "    </tr>\n",
              "    <tr>\n",
              "      <th>1</th>\n",
              "      <td>0</td>\n",
              "      <td>India</td>\n",
              "    </tr>\n",
              "    <tr>\n",
              "      <th>2</th>\n",
              "      <td>0</td>\n",
              "      <td>India</td>\n",
              "    </tr>\n",
              "    <tr>\n",
              "      <th>3</th>\n",
              "      <td>0</td>\n",
              "      <td>India</td>\n",
              "    </tr>\n",
              "    <tr>\n",
              "      <th>4</th>\n",
              "      <td>1</td>\n",
              "      <td>India</td>\n",
              "    </tr>\n",
              "    <tr>\n",
              "      <th>...</th>\n",
              "      <td>...</td>\n",
              "      <td>...</td>\n",
              "    </tr>\n",
              "    <tr>\n",
              "      <th>795</th>\n",
              "      <td>0</td>\n",
              "      <td>Bangladesh</td>\n",
              "    </tr>\n",
              "    <tr>\n",
              "      <th>796</th>\n",
              "      <td>0</td>\n",
              "      <td>Bangladesh</td>\n",
              "    </tr>\n",
              "    <tr>\n",
              "      <th>797</th>\n",
              "      <td>1</td>\n",
              "      <td>Bangladesh</td>\n",
              "    </tr>\n",
              "    <tr>\n",
              "      <th>798</th>\n",
              "      <td>0</td>\n",
              "      <td>Bangladesh</td>\n",
              "    </tr>\n",
              "    <tr>\n",
              "      <th>799</th>\n",
              "      <td>0</td>\n",
              "      <td>Bangladesh</td>\n",
              "    </tr>\n",
              "  </tbody>\n",
              "</table>\n",
              "<p>800 rows × 2 columns</p>\n",
              "</div>\n",
              "    <div class=\"colab-df-buttons\">\n",
              "\n",
              "  <div class=\"colab-df-container\">\n",
              "    <button class=\"colab-df-convert\" onclick=\"convertToInteractive('df-3d3d5e9d-1ce7-4d80-9d9d-06862951c581')\"\n",
              "            title=\"Convert this dataframe to an interactive table.\"\n",
              "            style=\"display:none;\">\n",
              "\n",
              "  <svg xmlns=\"http://www.w3.org/2000/svg\" height=\"24px\" viewBox=\"0 -960 960 960\">\n",
              "    <path d=\"M120-120v-720h720v720H120Zm60-500h600v-160H180v160Zm220 220h160v-160H400v160Zm0 220h160v-160H400v160ZM180-400h160v-160H180v160Zm440 0h160v-160H620v160ZM180-180h160v-160H180v160Zm440 0h160v-160H620v160Z\"/>\n",
              "  </svg>\n",
              "    </button>\n",
              "\n",
              "  <style>\n",
              "    .colab-df-container {\n",
              "      display:flex;\n",
              "      gap: 12px;\n",
              "    }\n",
              "\n",
              "    .colab-df-convert {\n",
              "      background-color: #E8F0FE;\n",
              "      border: none;\n",
              "      border-radius: 50%;\n",
              "      cursor: pointer;\n",
              "      display: none;\n",
              "      fill: #1967D2;\n",
              "      height: 32px;\n",
              "      padding: 0 0 0 0;\n",
              "      width: 32px;\n",
              "    }\n",
              "\n",
              "    .colab-df-convert:hover {\n",
              "      background-color: #E2EBFA;\n",
              "      box-shadow: 0px 1px 2px rgba(60, 64, 67, 0.3), 0px 1px 3px 1px rgba(60, 64, 67, 0.15);\n",
              "      fill: #174EA6;\n",
              "    }\n",
              "\n",
              "    .colab-df-buttons div {\n",
              "      margin-bottom: 4px;\n",
              "    }\n",
              "\n",
              "    [theme=dark] .colab-df-convert {\n",
              "      background-color: #3B4455;\n",
              "      fill: #D2E3FC;\n",
              "    }\n",
              "\n",
              "    [theme=dark] .colab-df-convert:hover {\n",
              "      background-color: #434B5C;\n",
              "      box-shadow: 0px 1px 3px 1px rgba(0, 0, 0, 0.15);\n",
              "      filter: drop-shadow(0px 1px 2px rgba(0, 0, 0, 0.3));\n",
              "      fill: #FFFFFF;\n",
              "    }\n",
              "  </style>\n",
              "\n",
              "    <script>\n",
              "      const buttonEl =\n",
              "        document.querySelector('#df-3d3d5e9d-1ce7-4d80-9d9d-06862951c581 button.colab-df-convert');\n",
              "      buttonEl.style.display =\n",
              "        google.colab.kernel.accessAllowed ? 'block' : 'none';\n",
              "\n",
              "      async function convertToInteractive(key) {\n",
              "        const element = document.querySelector('#df-3d3d5e9d-1ce7-4d80-9d9d-06862951c581');\n",
              "        const dataTable =\n",
              "          await google.colab.kernel.invokeFunction('convertToInteractive',\n",
              "                                                    [key], {});\n",
              "        if (!dataTable) return;\n",
              "\n",
              "        const docLinkHtml = 'Like what you see? Visit the ' +\n",
              "          '<a target=\"_blank\" href=https://colab.research.google.com/notebooks/data_table.ipynb>data table notebook</a>'\n",
              "          + ' to learn more about interactive tables.';\n",
              "        element.innerHTML = '';\n",
              "        dataTable['output_type'] = 'display_data';\n",
              "        await google.colab.output.renderOutput(dataTable, element);\n",
              "        const docLink = document.createElement('div');\n",
              "        docLink.innerHTML = docLinkHtml;\n",
              "        element.appendChild(docLink);\n",
              "      }\n",
              "    </script>\n",
              "  </div>\n",
              "\n",
              "\n",
              "<div id=\"df-f747ac21-478a-44dc-bca6-df7877b88789\">\n",
              "  <button class=\"colab-df-quickchart\" onclick=\"quickchart('df-f747ac21-478a-44dc-bca6-df7877b88789')\"\n",
              "            title=\"Suggest charts\"\n",
              "            style=\"display:none;\">\n",
              "\n",
              "<svg xmlns=\"http://www.w3.org/2000/svg\" height=\"24px\"viewBox=\"0 0 24 24\"\n",
              "     width=\"24px\">\n",
              "    <g>\n",
              "        <path d=\"M19 3H5c-1.1 0-2 .9-2 2v14c0 1.1.9 2 2 2h14c1.1 0 2-.9 2-2V5c0-1.1-.9-2-2-2zM9 17H7v-7h2v7zm4 0h-2V7h2v10zm4 0h-2v-4h2v4z\"/>\n",
              "    </g>\n",
              "</svg>\n",
              "  </button>\n",
              "\n",
              "<style>\n",
              "  .colab-df-quickchart {\n",
              "      --bg-color: #E8F0FE;\n",
              "      --fill-color: #1967D2;\n",
              "      --hover-bg-color: #E2EBFA;\n",
              "      --hover-fill-color: #174EA6;\n",
              "      --disabled-fill-color: #AAA;\n",
              "      --disabled-bg-color: #DDD;\n",
              "  }\n",
              "\n",
              "  [theme=dark] .colab-df-quickchart {\n",
              "      --bg-color: #3B4455;\n",
              "      --fill-color: #D2E3FC;\n",
              "      --hover-bg-color: #434B5C;\n",
              "      --hover-fill-color: #FFFFFF;\n",
              "      --disabled-bg-color: #3B4455;\n",
              "      --disabled-fill-color: #666;\n",
              "  }\n",
              "\n",
              "  .colab-df-quickchart {\n",
              "    background-color: var(--bg-color);\n",
              "    border: none;\n",
              "    border-radius: 50%;\n",
              "    cursor: pointer;\n",
              "    display: none;\n",
              "    fill: var(--fill-color);\n",
              "    height: 32px;\n",
              "    padding: 0;\n",
              "    width: 32px;\n",
              "  }\n",
              "\n",
              "  .colab-df-quickchart:hover {\n",
              "    background-color: var(--hover-bg-color);\n",
              "    box-shadow: 0 1px 2px rgba(60, 64, 67, 0.3), 0 1px 3px 1px rgba(60, 64, 67, 0.15);\n",
              "    fill: var(--button-hover-fill-color);\n",
              "  }\n",
              "\n",
              "  .colab-df-quickchart-complete:disabled,\n",
              "  .colab-df-quickchart-complete:disabled:hover {\n",
              "    background-color: var(--disabled-bg-color);\n",
              "    fill: var(--disabled-fill-color);\n",
              "    box-shadow: none;\n",
              "  }\n",
              "\n",
              "  .colab-df-spinner {\n",
              "    border: 2px solid var(--fill-color);\n",
              "    border-color: transparent;\n",
              "    border-bottom-color: var(--fill-color);\n",
              "    animation:\n",
              "      spin 1s steps(1) infinite;\n",
              "  }\n",
              "\n",
              "  @keyframes spin {\n",
              "    0% {\n",
              "      border-color: transparent;\n",
              "      border-bottom-color: var(--fill-color);\n",
              "      border-left-color: var(--fill-color);\n",
              "    }\n",
              "    20% {\n",
              "      border-color: transparent;\n",
              "      border-left-color: var(--fill-color);\n",
              "      border-top-color: var(--fill-color);\n",
              "    }\n",
              "    30% {\n",
              "      border-color: transparent;\n",
              "      border-left-color: var(--fill-color);\n",
              "      border-top-color: var(--fill-color);\n",
              "      border-right-color: var(--fill-color);\n",
              "    }\n",
              "    40% {\n",
              "      border-color: transparent;\n",
              "      border-right-color: var(--fill-color);\n",
              "      border-top-color: var(--fill-color);\n",
              "    }\n",
              "    60% {\n",
              "      border-color: transparent;\n",
              "      border-right-color: var(--fill-color);\n",
              "    }\n",
              "    80% {\n",
              "      border-color: transparent;\n",
              "      border-right-color: var(--fill-color);\n",
              "      border-bottom-color: var(--fill-color);\n",
              "    }\n",
              "    90% {\n",
              "      border-color: transparent;\n",
              "      border-bottom-color: var(--fill-color);\n",
              "    }\n",
              "  }\n",
              "</style>\n",
              "\n",
              "  <script>\n",
              "    async function quickchart(key) {\n",
              "      const quickchartButtonEl =\n",
              "        document.querySelector('#' + key + ' button');\n",
              "      quickchartButtonEl.disabled = true;  // To prevent multiple clicks.\n",
              "      quickchartButtonEl.classList.add('colab-df-spinner');\n",
              "      try {\n",
              "        const charts = await google.colab.kernel.invokeFunction(\n",
              "            'suggestCharts', [key], {});\n",
              "      } catch (error) {\n",
              "        console.error('Error during call to suggestCharts:', error);\n",
              "      }\n",
              "      quickchartButtonEl.classList.remove('colab-df-spinner');\n",
              "      quickchartButtonEl.classList.add('colab-df-quickchart-complete');\n",
              "    }\n",
              "    (() => {\n",
              "      let quickchartButtonEl =\n",
              "        document.querySelector('#df-f747ac21-478a-44dc-bca6-df7877b88789 button');\n",
              "      quickchartButtonEl.style.display =\n",
              "        google.colab.kernel.accessAllowed ? 'block' : 'none';\n",
              "    })();\n",
              "  </script>\n",
              "</div>\n",
              "\n",
              "  <div id=\"id_6a0aaaeb-5d42-4c16-b473-7169c6e456f4\">\n",
              "    <style>\n",
              "      .colab-df-generate {\n",
              "        background-color: #E8F0FE;\n",
              "        border: none;\n",
              "        border-radius: 50%;\n",
              "        cursor: pointer;\n",
              "        display: none;\n",
              "        fill: #1967D2;\n",
              "        height: 32px;\n",
              "        padding: 0 0 0 0;\n",
              "        width: 32px;\n",
              "      }\n",
              "\n",
              "      .colab-df-generate:hover {\n",
              "        background-color: #E2EBFA;\n",
              "        box-shadow: 0px 1px 2px rgba(60, 64, 67, 0.3), 0px 1px 3px 1px rgba(60, 64, 67, 0.15);\n",
              "        fill: #174EA6;\n",
              "      }\n",
              "\n",
              "      [theme=dark] .colab-df-generate {\n",
              "        background-color: #3B4455;\n",
              "        fill: #D2E3FC;\n",
              "      }\n",
              "\n",
              "      [theme=dark] .colab-df-generate:hover {\n",
              "        background-color: #434B5C;\n",
              "        box-shadow: 0px 1px 3px 1px rgba(0, 0, 0, 0.15);\n",
              "        filter: drop-shadow(0px 1px 2px rgba(0, 0, 0, 0.3));\n",
              "        fill: #FFFFFF;\n",
              "      }\n",
              "    </style>\n",
              "    <button class=\"colab-df-generate\" onclick=\"generateWithVariable('Bahaman')\"\n",
              "            title=\"Generate code using this dataframe.\"\n",
              "            style=\"display:none;\">\n",
              "\n",
              "  <svg xmlns=\"http://www.w3.org/2000/svg\" height=\"24px\"viewBox=\"0 0 24 24\"\n",
              "       width=\"24px\">\n",
              "    <path d=\"M7,19H8.4L18.45,9,17,7.55,7,17.6ZM5,21V16.75L18.45,3.32a2,2,0,0,1,2.83,0l1.4,1.43a1.91,1.91,0,0,1,.58,1.4,1.91,1.91,0,0,1-.58,1.4L9.25,21ZM18.45,9,17,7.55Zm-12,3A5.31,5.31,0,0,0,4.9,8.1,5.31,5.31,0,0,0,1,6.5,5.31,5.31,0,0,0,4.9,4.9,5.31,5.31,0,0,0,6.5,1,5.31,5.31,0,0,0,8.1,4.9,5.31,5.31,0,0,0,12,6.5,5.46,5.46,0,0,0,6.5,12Z\"/>\n",
              "  </svg>\n",
              "    </button>\n",
              "    <script>\n",
              "      (() => {\n",
              "      const buttonEl =\n",
              "        document.querySelector('#id_6a0aaaeb-5d42-4c16-b473-7169c6e456f4 button.colab-df-generate');\n",
              "      buttonEl.style.display =\n",
              "        google.colab.kernel.accessAllowed ? 'block' : 'none';\n",
              "\n",
              "      buttonEl.onclick = () => {\n",
              "        google.colab.notebook.generateWithVariable('Bahaman');\n",
              "      }\n",
              "      })();\n",
              "    </script>\n",
              "  </div>\n",
              "\n",
              "    </div>\n",
              "  </div>\n"
            ],
            "application/vnd.google.colaboratory.intrinsic+json": {
              "type": "dataframe",
              "variable_name": "Bahaman",
              "summary": "{\n  \"name\": \"Bahaman\",\n  \"rows\": 800,\n  \"fields\": [\n    {\n      \"column\": \"Defective\",\n      \"properties\": {\n        \"dtype\": \"number\",\n        \"std\": 0,\n        \"min\": 0,\n        \"max\": 1,\n        \"num_unique_values\": 2,\n        \"samples\": [\n          1,\n          0\n        ],\n        \"semantic_type\": \"\",\n        \"description\": \"\"\n      }\n    },\n    {\n      \"column\": \"Country\",\n      \"properties\": {\n        \"dtype\": \"category\",\n        \"num_unique_values\": 4,\n        \"samples\": [\n          \"China\",\n          \"Bangladesh\"\n        ],\n        \"semantic_type\": \"\",\n        \"description\": \"\"\n      }\n    }\n  ]\n}"
            }
          },
          "metadata": {},
          "execution_count": 8
        }
      ]
    },
    {
      "cell_type": "code",
      "source": [
        "# Step 1 - Defining our hypothesis\n",
        "# Ho - p1 = p2 = p3 = p4;   Proportion of defective items in all 4 countries is same\n",
        "# Ha - p1 != p2 = p3 = p4;  Proportion of defective items in atleast 1 of the countries is different"
      ],
      "metadata": {
        "id": "gCNV9gVVF55e"
      },
      "execution_count": null,
      "outputs": []
    },
    {
      "cell_type": "code",
      "source": [
        "# Creating a summary table on the data to know the defective items per country\n",
        "count=pd.crosstab(Bahaman[\"Defective\"],Bahaman[\"Country\"])\n",
        "count"
      ],
      "metadata": {
        "colab": {
          "base_uri": "https://localhost:8080/",
          "height": 143
        },
        "id": "L9ewv7EUIucA",
        "outputId": "9f15ee54-a949-498f-8edd-657d036882a8"
      },
      "execution_count": null,
      "outputs": [
        {
          "output_type": "execute_result",
          "data": {
            "text/plain": [
              "Country    Bangladesh  China  India  Srilanka\n",
              "Defective                                    \n",
              "0                 183    179    175       178\n",
              "1                  17     21     25        22"
            ],
            "text/html": [
              "\n",
              "  <div id=\"df-4f326fbd-7130-4cc9-8e4e-9707f55236cf\" class=\"colab-df-container\">\n",
              "    <div>\n",
              "<style scoped>\n",
              "    .dataframe tbody tr th:only-of-type {\n",
              "        vertical-align: middle;\n",
              "    }\n",
              "\n",
              "    .dataframe tbody tr th {\n",
              "        vertical-align: top;\n",
              "    }\n",
              "\n",
              "    .dataframe thead th {\n",
              "        text-align: right;\n",
              "    }\n",
              "</style>\n",
              "<table border=\"1\" class=\"dataframe\">\n",
              "  <thead>\n",
              "    <tr style=\"text-align: right;\">\n",
              "      <th>Country</th>\n",
              "      <th>Bangladesh</th>\n",
              "      <th>China</th>\n",
              "      <th>India</th>\n",
              "      <th>Srilanka</th>\n",
              "    </tr>\n",
              "    <tr>\n",
              "      <th>Defective</th>\n",
              "      <th></th>\n",
              "      <th></th>\n",
              "      <th></th>\n",
              "      <th></th>\n",
              "    </tr>\n",
              "  </thead>\n",
              "  <tbody>\n",
              "    <tr>\n",
              "      <th>0</th>\n",
              "      <td>183</td>\n",
              "      <td>179</td>\n",
              "      <td>175</td>\n",
              "      <td>178</td>\n",
              "    </tr>\n",
              "    <tr>\n",
              "      <th>1</th>\n",
              "      <td>17</td>\n",
              "      <td>21</td>\n",
              "      <td>25</td>\n",
              "      <td>22</td>\n",
              "    </tr>\n",
              "  </tbody>\n",
              "</table>\n",
              "</div>\n",
              "    <div class=\"colab-df-buttons\">\n",
              "\n",
              "  <div class=\"colab-df-container\">\n",
              "    <button class=\"colab-df-convert\" onclick=\"convertToInteractive('df-4f326fbd-7130-4cc9-8e4e-9707f55236cf')\"\n",
              "            title=\"Convert this dataframe to an interactive table.\"\n",
              "            style=\"display:none;\">\n",
              "\n",
              "  <svg xmlns=\"http://www.w3.org/2000/svg\" height=\"24px\" viewBox=\"0 -960 960 960\">\n",
              "    <path d=\"M120-120v-720h720v720H120Zm60-500h600v-160H180v160Zm220 220h160v-160H400v160Zm0 220h160v-160H400v160ZM180-400h160v-160H180v160Zm440 0h160v-160H620v160ZM180-180h160v-160H180v160Zm440 0h160v-160H620v160Z\"/>\n",
              "  </svg>\n",
              "    </button>\n",
              "\n",
              "  <style>\n",
              "    .colab-df-container {\n",
              "      display:flex;\n",
              "      gap: 12px;\n",
              "    }\n",
              "\n",
              "    .colab-df-convert {\n",
              "      background-color: #E8F0FE;\n",
              "      border: none;\n",
              "      border-radius: 50%;\n",
              "      cursor: pointer;\n",
              "      display: none;\n",
              "      fill: #1967D2;\n",
              "      height: 32px;\n",
              "      padding: 0 0 0 0;\n",
              "      width: 32px;\n",
              "    }\n",
              "\n",
              "    .colab-df-convert:hover {\n",
              "      background-color: #E2EBFA;\n",
              "      box-shadow: 0px 1px 2px rgba(60, 64, 67, 0.3), 0px 1px 3px 1px rgba(60, 64, 67, 0.15);\n",
              "      fill: #174EA6;\n",
              "    }\n",
              "\n",
              "    .colab-df-buttons div {\n",
              "      margin-bottom: 4px;\n",
              "    }\n",
              "\n",
              "    [theme=dark] .colab-df-convert {\n",
              "      background-color: #3B4455;\n",
              "      fill: #D2E3FC;\n",
              "    }\n",
              "\n",
              "    [theme=dark] .colab-df-convert:hover {\n",
              "      background-color: #434B5C;\n",
              "      box-shadow: 0px 1px 3px 1px rgba(0, 0, 0, 0.15);\n",
              "      filter: drop-shadow(0px 1px 2px rgba(0, 0, 0, 0.3));\n",
              "      fill: #FFFFFF;\n",
              "    }\n",
              "  </style>\n",
              "\n",
              "    <script>\n",
              "      const buttonEl =\n",
              "        document.querySelector('#df-4f326fbd-7130-4cc9-8e4e-9707f55236cf button.colab-df-convert');\n",
              "      buttonEl.style.display =\n",
              "        google.colab.kernel.accessAllowed ? 'block' : 'none';\n",
              "\n",
              "      async function convertToInteractive(key) {\n",
              "        const element = document.querySelector('#df-4f326fbd-7130-4cc9-8e4e-9707f55236cf');\n",
              "        const dataTable =\n",
              "          await google.colab.kernel.invokeFunction('convertToInteractive',\n",
              "                                                    [key], {});\n",
              "        if (!dataTable) return;\n",
              "\n",
              "        const docLinkHtml = 'Like what you see? Visit the ' +\n",
              "          '<a target=\"_blank\" href=https://colab.research.google.com/notebooks/data_table.ipynb>data table notebook</a>'\n",
              "          + ' to learn more about interactive tables.';\n",
              "        element.innerHTML = '';\n",
              "        dataTable['output_type'] = 'display_data';\n",
              "        await google.colab.output.renderOutput(dataTable, element);\n",
              "        const docLink = document.createElement('div');\n",
              "        docLink.innerHTML = docLinkHtml;\n",
              "        element.appendChild(docLink);\n",
              "      }\n",
              "    </script>\n",
              "  </div>\n",
              "\n",
              "\n",
              "<div id=\"df-9912a927-e1d9-4600-a3b1-ece4c3651bdf\">\n",
              "  <button class=\"colab-df-quickchart\" onclick=\"quickchart('df-9912a927-e1d9-4600-a3b1-ece4c3651bdf')\"\n",
              "            title=\"Suggest charts\"\n",
              "            style=\"display:none;\">\n",
              "\n",
              "<svg xmlns=\"http://www.w3.org/2000/svg\" height=\"24px\"viewBox=\"0 0 24 24\"\n",
              "     width=\"24px\">\n",
              "    <g>\n",
              "        <path d=\"M19 3H5c-1.1 0-2 .9-2 2v14c0 1.1.9 2 2 2h14c1.1 0 2-.9 2-2V5c0-1.1-.9-2-2-2zM9 17H7v-7h2v7zm4 0h-2V7h2v10zm4 0h-2v-4h2v4z\"/>\n",
              "    </g>\n",
              "</svg>\n",
              "  </button>\n",
              "\n",
              "<style>\n",
              "  .colab-df-quickchart {\n",
              "      --bg-color: #E8F0FE;\n",
              "      --fill-color: #1967D2;\n",
              "      --hover-bg-color: #E2EBFA;\n",
              "      --hover-fill-color: #174EA6;\n",
              "      --disabled-fill-color: #AAA;\n",
              "      --disabled-bg-color: #DDD;\n",
              "  }\n",
              "\n",
              "  [theme=dark] .colab-df-quickchart {\n",
              "      --bg-color: #3B4455;\n",
              "      --fill-color: #D2E3FC;\n",
              "      --hover-bg-color: #434B5C;\n",
              "      --hover-fill-color: #FFFFFF;\n",
              "      --disabled-bg-color: #3B4455;\n",
              "      --disabled-fill-color: #666;\n",
              "  }\n",
              "\n",
              "  .colab-df-quickchart {\n",
              "    background-color: var(--bg-color);\n",
              "    border: none;\n",
              "    border-radius: 50%;\n",
              "    cursor: pointer;\n",
              "    display: none;\n",
              "    fill: var(--fill-color);\n",
              "    height: 32px;\n",
              "    padding: 0;\n",
              "    width: 32px;\n",
              "  }\n",
              "\n",
              "  .colab-df-quickchart:hover {\n",
              "    background-color: var(--hover-bg-color);\n",
              "    box-shadow: 0 1px 2px rgba(60, 64, 67, 0.3), 0 1px 3px 1px rgba(60, 64, 67, 0.15);\n",
              "    fill: var(--button-hover-fill-color);\n",
              "  }\n",
              "\n",
              "  .colab-df-quickchart-complete:disabled,\n",
              "  .colab-df-quickchart-complete:disabled:hover {\n",
              "    background-color: var(--disabled-bg-color);\n",
              "    fill: var(--disabled-fill-color);\n",
              "    box-shadow: none;\n",
              "  }\n",
              "\n",
              "  .colab-df-spinner {\n",
              "    border: 2px solid var(--fill-color);\n",
              "    border-color: transparent;\n",
              "    border-bottom-color: var(--fill-color);\n",
              "    animation:\n",
              "      spin 1s steps(1) infinite;\n",
              "  }\n",
              "\n",
              "  @keyframes spin {\n",
              "    0% {\n",
              "      border-color: transparent;\n",
              "      border-bottom-color: var(--fill-color);\n",
              "      border-left-color: var(--fill-color);\n",
              "    }\n",
              "    20% {\n",
              "      border-color: transparent;\n",
              "      border-left-color: var(--fill-color);\n",
              "      border-top-color: var(--fill-color);\n",
              "    }\n",
              "    30% {\n",
              "      border-color: transparent;\n",
              "      border-left-color: var(--fill-color);\n",
              "      border-top-color: var(--fill-color);\n",
              "      border-right-color: var(--fill-color);\n",
              "    }\n",
              "    40% {\n",
              "      border-color: transparent;\n",
              "      border-right-color: var(--fill-color);\n",
              "      border-top-color: var(--fill-color);\n",
              "    }\n",
              "    60% {\n",
              "      border-color: transparent;\n",
              "      border-right-color: var(--fill-color);\n",
              "    }\n",
              "    80% {\n",
              "      border-color: transparent;\n",
              "      border-right-color: var(--fill-color);\n",
              "      border-bottom-color: var(--fill-color);\n",
              "    }\n",
              "    90% {\n",
              "      border-color: transparent;\n",
              "      border-bottom-color: var(--fill-color);\n",
              "    }\n",
              "  }\n",
              "</style>\n",
              "\n",
              "  <script>\n",
              "    async function quickchart(key) {\n",
              "      const quickchartButtonEl =\n",
              "        document.querySelector('#' + key + ' button');\n",
              "      quickchartButtonEl.disabled = true;  // To prevent multiple clicks.\n",
              "      quickchartButtonEl.classList.add('colab-df-spinner');\n",
              "      try {\n",
              "        const charts = await google.colab.kernel.invokeFunction(\n",
              "            'suggestCharts', [key], {});\n",
              "      } catch (error) {\n",
              "        console.error('Error during call to suggestCharts:', error);\n",
              "      }\n",
              "      quickchartButtonEl.classList.remove('colab-df-spinner');\n",
              "      quickchartButtonEl.classList.add('colab-df-quickchart-complete');\n",
              "    }\n",
              "    (() => {\n",
              "      let quickchartButtonEl =\n",
              "        document.querySelector('#df-9912a927-e1d9-4600-a3b1-ece4c3651bdf button');\n",
              "      quickchartButtonEl.style.display =\n",
              "        google.colab.kernel.accessAllowed ? 'block' : 'none';\n",
              "    })();\n",
              "  </script>\n",
              "</div>\n",
              "\n",
              "  <div id=\"id_9a5ec1c3-0098-45be-99c2-e52b7d7204d0\">\n",
              "    <style>\n",
              "      .colab-df-generate {\n",
              "        background-color: #E8F0FE;\n",
              "        border: none;\n",
              "        border-radius: 50%;\n",
              "        cursor: pointer;\n",
              "        display: none;\n",
              "        fill: #1967D2;\n",
              "        height: 32px;\n",
              "        padding: 0 0 0 0;\n",
              "        width: 32px;\n",
              "      }\n",
              "\n",
              "      .colab-df-generate:hover {\n",
              "        background-color: #E2EBFA;\n",
              "        box-shadow: 0px 1px 2px rgba(60, 64, 67, 0.3), 0px 1px 3px 1px rgba(60, 64, 67, 0.15);\n",
              "        fill: #174EA6;\n",
              "      }\n",
              "\n",
              "      [theme=dark] .colab-df-generate {\n",
              "        background-color: #3B4455;\n",
              "        fill: #D2E3FC;\n",
              "      }\n",
              "\n",
              "      [theme=dark] .colab-df-generate:hover {\n",
              "        background-color: #434B5C;\n",
              "        box-shadow: 0px 1px 3px 1px rgba(0, 0, 0, 0.15);\n",
              "        filter: drop-shadow(0px 1px 2px rgba(0, 0, 0, 0.3));\n",
              "        fill: #FFFFFF;\n",
              "      }\n",
              "    </style>\n",
              "    <button class=\"colab-df-generate\" onclick=\"generateWithVariable('count')\"\n",
              "            title=\"Generate code using this dataframe.\"\n",
              "            style=\"display:none;\">\n",
              "\n",
              "  <svg xmlns=\"http://www.w3.org/2000/svg\" height=\"24px\"viewBox=\"0 0 24 24\"\n",
              "       width=\"24px\">\n",
              "    <path d=\"M7,19H8.4L18.45,9,17,7.55,7,17.6ZM5,21V16.75L18.45,3.32a2,2,0,0,1,2.83,0l1.4,1.43a1.91,1.91,0,0,1,.58,1.4,1.91,1.91,0,0,1-.58,1.4L9.25,21ZM18.45,9,17,7.55Zm-12,3A5.31,5.31,0,0,0,4.9,8.1,5.31,5.31,0,0,0,1,6.5,5.31,5.31,0,0,0,4.9,4.9,5.31,5.31,0,0,0,6.5,1,5.31,5.31,0,0,0,8.1,4.9,5.31,5.31,0,0,0,12,6.5,5.46,5.46,0,0,0,6.5,12Z\"/>\n",
              "  </svg>\n",
              "    </button>\n",
              "    <script>\n",
              "      (() => {\n",
              "      const buttonEl =\n",
              "        document.querySelector('#id_9a5ec1c3-0098-45be-99c2-e52b7d7204d0 button.colab-df-generate');\n",
              "      buttonEl.style.display =\n",
              "        google.colab.kernel.accessAllowed ? 'block' : 'none';\n",
              "\n",
              "      buttonEl.onclick = () => {\n",
              "        google.colab.notebook.generateWithVariable('count');\n",
              "      }\n",
              "      })();\n",
              "    </script>\n",
              "  </div>\n",
              "\n",
              "    </div>\n",
              "  </div>\n"
            ],
            "application/vnd.google.colaboratory.intrinsic+json": {
              "type": "dataframe",
              "variable_name": "count",
              "summary": "{\n  \"name\": \"count\",\n  \"rows\": 2,\n  \"fields\": [\n    {\n      \"column\": \"Defective\",\n      \"properties\": {\n        \"dtype\": \"number\",\n        \"std\": 0,\n        \"min\": 0,\n        \"max\": 1,\n        \"num_unique_values\": 2,\n        \"samples\": [\n          1,\n          0\n        ],\n        \"semantic_type\": \"\",\n        \"description\": \"\"\n      }\n    },\n    {\n      \"column\": \"Bangladesh\",\n      \"properties\": {\n        \"dtype\": \"number\",\n        \"std\": 117,\n        \"min\": 17,\n        \"max\": 183,\n        \"num_unique_values\": 2,\n        \"samples\": [\n          17,\n          183\n        ],\n        \"semantic_type\": \"\",\n        \"description\": \"\"\n      }\n    },\n    {\n      \"column\": \"China\",\n      \"properties\": {\n        \"dtype\": \"number\",\n        \"std\": 111,\n        \"min\": 21,\n        \"max\": 179,\n        \"num_unique_values\": 2,\n        \"samples\": [\n          21,\n          179\n        ],\n        \"semantic_type\": \"\",\n        \"description\": \"\"\n      }\n    },\n    {\n      \"column\": \"India\",\n      \"properties\": {\n        \"dtype\": \"number\",\n        \"std\": 106,\n        \"min\": 25,\n        \"max\": 175,\n        \"num_unique_values\": 2,\n        \"samples\": [\n          25,\n          175\n        ],\n        \"semantic_type\": \"\",\n        \"description\": \"\"\n      }\n    },\n    {\n      \"column\": \"Srilanka\",\n      \"properties\": {\n        \"dtype\": \"number\",\n        \"std\": 110,\n        \"min\": 22,\n        \"max\": 178,\n        \"num_unique_values\": 2,\n        \"samples\": [\n          22,\n          178\n        ],\n        \"semantic_type\": \"\",\n        \"description\": \"\"\n      }\n    }\n  ]\n}"
            }
          },
          "metadata": {},
          "execution_count": 10
        }
      ]
    },
    {
      "cell_type": "code",
      "source": [
        "# Step 2 - Performing the Chi-square test - we use the chi2-statistics\n",
        "# First we calculate the p-value using chi2_contingency()\n",
        "# Then, we compare the p-value with the significance level - alpha value (alpha = 0.05)\n",
        "\n",
        "# On the above derived table we apply the chi2_contingency()\n",
        "X2_stat = Chisquares_results=stats.chi2_contingency(count)\n",
        "X2_stat"
      ],
      "metadata": {
        "colab": {
          "base_uri": "https://localhost:8080/"
        },
        "id": "Nav2MXM6I6b2",
        "outputId": "1cc2fe9a-be16-4653-b0a8-957b1ab57c88"
      },
      "execution_count": null,
      "outputs": [
        {
          "output_type": "execute_result",
          "data": {
            "text/plain": [
              "Chi2ContingencyResult(statistic=1.7243932538050184, pvalue=0.6315243037546223, dof=3, expected_freq=array([[178.75, 178.75, 178.75, 178.75],\n",
              "       [ 21.25,  21.25,  21.25,  21.25]]))"
            ]
          },
          "metadata": {},
          "execution_count": 11
        }
      ]
    },
    {
      "cell_type": "code",
      "source": [
        "p_val = X2_stat[1]\n",
        "a = 0.05"
      ],
      "metadata": {
        "id": "lmnheL9GKHV3"
      },
      "execution_count": null,
      "outputs": []
    },
    {
      "cell_type": "code",
      "source": [
        "# Step 3 -\n",
        "# If p-value > 0.05 - We accept the null hypothesis, Ho\n",
        "# If p-value <= 0.05 - We reject the null hypothesis, and accept alternate hypothesis, Ha\n",
        "\n",
        "if p_val < a: # If the p-value < alpha, we reject the null hypothesis; i.e., accept the alternate hypothesis\n",
        "  print(\"p-value < significance level = \",p_val,\" < \",a)\n",
        "  print(\"Reject Null Hypothesis (Ho). \\n!!Proportion of defective items in atleast 1 of the countries is different!!\")\n",
        "else: # If the p-value >= alpha, we accept the null hypothesis\n",
        "  print(\"p-value > significance level = \",p_val,\" > \",a)\n",
        "  print(\"Accept Null Hypothesis (Ho). \\n!!Proportion of defective items in all 4 countries is same!!\")"
      ],
      "metadata": {
        "colab": {
          "base_uri": "https://localhost:8080/"
        },
        "id": "Ov_LhtdfKdsS",
        "outputId": "abdb81d4-5335-44f3-fa8b-1856b42d172f"
      },
      "execution_count": null,
      "outputs": [
        {
          "output_type": "stream",
          "name": "stdout",
          "text": [
            "p-value > significance level =  0.6315243037546223  >  0.05\n",
            "Accept Null Hypothesis (Ho). \n",
            "!!Proportion of defective items in all 4 countries is same!!\n"
          ]
        }
      ]
    },
    {
      "cell_type": "code",
      "source": [
        "# Understanding the background of the chi-square function that is being used - stats.chi2_contingency(count)"
      ],
      "metadata": {
        "id": "T73J9kVdKp4i"
      },
      "execution_count": null,
      "outputs": []
    }
  ]
}