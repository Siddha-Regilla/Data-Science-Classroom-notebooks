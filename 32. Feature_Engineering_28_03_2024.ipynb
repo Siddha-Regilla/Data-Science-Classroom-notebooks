{
  "cells": [
    {
      "cell_type": "markdown",
      "metadata": {
        "id": "view-in-github",
        "colab_type": "text"
      },
      "source": [
        "<a href=\"https://colab.research.google.com/github/Siddha-Regilla/Data-Science-Classroom-notebooks/blob/main/32.%20Feature_Engineering_28_03_2024.ipynb\" target=\"_parent\"><img src=\"https://colab.research.google.com/assets/colab-badge.svg\" alt=\"Open In Colab\"/></a>"
      ]
    },
    {
      "cell_type": "markdown",
      "metadata": {
        "id": "xMku_1vR-xig"
      },
      "source": [
        "#### Univariate Feature Selection"
      ]
    },
    {
      "cell_type": "code",
      "execution_count": 1,
      "metadata": {
        "colab": {
          "base_uri": "https://localhost:8080/"
        },
        "id": "Um242gR_-xij",
        "outputId": "3000d09e-6ff8-4407-fc98-171ddd450a63"
      },
      "outputs": [
        {
          "output_type": "stream",
          "name": "stdout",
          "text": [
            "[ 111.52  1411.887   17.605   53.108 2175.565  127.669    5.393  181.304]\n"
          ]
        }
      ],
      "source": [
        "# Feature Extraction with Univariate Statistical Tests (Chi-squared for classification)\n",
        "from pandas import read_csv\n",
        "from numpy import set_printoptions\n",
        "from sklearn.feature_selection import SelectKBest\n",
        "from sklearn.feature_selection import chi2\n",
        "# load data\n",
        "filename = 'pima-indians-diabetes.data.csv'\n",
        "names = ['preg', 'plas', 'pres', 'skin', 'test', 'mass', 'pedi', 'age', 'class']\n",
        "dataframe = read_csv(filename, names=names)\n",
        "array = dataframe.values\n",
        "X = array[:,0:8]\n",
        "Y = array[:,8]\n",
        "# feature extraction\n",
        "test = SelectKBest(score_func=chi2, k=4) # using chi square method and selecting 4 important features in the dataset\n",
        "fit = test.fit(X, Y)\n",
        "# summarize scores\n",
        "set_printoptions(precision=3)\n",
        "print(fit.scores_)\n",
        "features = fit.transform(X)\n",
        "\n",
        "\n",
        "#For regression: f_regression, mutual_info_regression\n",
        "#For classification: chi2, f_classif, mutual_info_classif"
      ]
    },
    {
      "cell_type": "markdown",
      "metadata": {
        "id": "ezbE428u-xin"
      },
      "source": [
        "#### Recursive Feature Elimination"
      ]
    },
    {
      "cell_type": "code",
      "source": [
        "# RFE -\n",
        "# eg - if we build a model with 3 features and its accurarcy is 90% and next we build a model with 2 features and its accurarcy is 95%.\n",
        "# Then we can remove that feature and build the model. Therefore, based on accurarcy it'll try to remove all the unimportant features."
      ],
      "metadata": {
        "id": "fRDTESVujj1q"
      },
      "execution_count": 2,
      "outputs": []
    },
    {
      "cell_type": "code",
      "execution_count": 3,
      "metadata": {
        "id": "XMBB94tM-xio"
      },
      "outputs": [],
      "source": [
        "# Feature Extraction with RFE\n",
        "from pandas import read_csv\n",
        "from sklearn.feature_selection import RFE\n",
        "from sklearn.linear_model import LogisticRegression\n",
        "# load data\n",
        "filename = 'pima-indians-diabetes.data.csv'\n",
        "names = ['preg', 'plas', 'pres', 'skin', 'test', 'mass', 'pedi', 'age', 'class']\n",
        "dataframe = read_csv(filename, names=names)\n",
        "array = dataframe.values\n",
        "X = array[:,0:8]\n",
        "Y = array[:,8]\n",
        "# feature extraction\n",
        "model = LogisticRegression(max_iter=400)\n",
        "\n"
      ]
    },
    {
      "cell_type": "code",
      "source": [
        "# Applying RFE and selecting 3 important features. Step = 1 indicates to execute it step by step and inform the important features\n",
        "rfe = RFE(model, n_features_to_select=3, step=1)\n",
        "fit = rfe.fit(X, Y)"
      ],
      "metadata": {
        "id": "ZCDVWTafBCj3"
      },
      "execution_count": 4,
      "outputs": []
    },
    {
      "cell_type": "code",
      "execution_count": 5,
      "metadata": {
        "colab": {
          "base_uri": "https://localhost:8080/"
        },
        "id": "S0I4YZy2-xip",
        "outputId": "b706d876-4a72-4e2b-b154-47910599eac0"
      },
      "outputs": [
        {
          "output_type": "execute_result",
          "data": {
            "text/plain": [
              "3"
            ]
          },
          "metadata": {},
          "execution_count": 5
        }
      ],
      "source": [
        "#Num Features:\n",
        "fit.n_features_"
      ]
    },
    {
      "cell_type": "code",
      "execution_count": 6,
      "metadata": {
        "colab": {
          "base_uri": "https://localhost:8080/"
        },
        "id": "f-Sy5NsH-xiq",
        "outputId": "dfb6eb92-9646-44d6-a904-b8206378de60"
      },
      "outputs": [
        {
          "output_type": "execute_result",
          "data": {
            "text/plain": [
              "array([ True, False, False, False, False,  True,  True, False])"
            ]
          },
          "metadata": {},
          "execution_count": 6
        }
      ],
      "source": [
        "#Selected Features:\n",
        "fit.support_"
      ]
    },
    {
      "cell_type": "code",
      "execution_count": 7,
      "metadata": {
        "colab": {
          "base_uri": "https://localhost:8080/"
        },
        "id": "1VKLEWeU-xir",
        "outputId": "eba99d4a-e6fe-4106-e11e-a6380524d94f"
      },
      "outputs": [
        {
          "output_type": "execute_result",
          "data": {
            "text/plain": [
              "array([1, 2, 4, 6, 5, 1, 1, 3])"
            ]
          },
          "metadata": {},
          "execution_count": 7
        }
      ],
      "source": [
        "# Feature Ranking:\n",
        "fit.ranking_"
      ]
    },
    {
      "cell_type": "markdown",
      "metadata": {
        "id": "SE_N-7c1-xit"
      },
      "source": [
        "#### Feature Importance using Decision Tree"
      ]
    },
    {
      "cell_type": "code",
      "execution_count": 8,
      "metadata": {
        "colab": {
          "base_uri": "https://localhost:8080/"
        },
        "id": "RfKZbtBQ-xit",
        "outputId": "4d88a53c-d776-450e-fd82-712946d6d593"
      },
      "outputs": [
        {
          "output_type": "stream",
          "name": "stdout",
          "text": [
            "[0.061 0.309 0.097 0.026 0.046 0.229 0.118 0.115]\n"
          ]
        }
      ],
      "source": [
        "# Feature Importance with Extra Trees Classifier\n",
        "from pandas import read_csv\n",
        "from sklearn.tree import  DecisionTreeClassifier\n",
        "# load data\n",
        "filename = 'pima-indians-diabetes.data.csv'\n",
        "names = ['preg', 'plas', 'pres', 'skin', 'test', 'mass', 'pedi', 'age', 'class']\n",
        "dataframe = read_csv(filename, names=names)\n",
        "array = dataframe.values\n",
        "X = array[:,0:8]\n",
        "Y = array[:,8]\n",
        "# feature extraction\n",
        "model = DecisionTreeClassifier()\n",
        "model.fit(X, Y)\n",
        "print(model.feature_importances_)"
      ]
    },
    {
      "cell_type": "code",
      "execution_count": 9,
      "metadata": {
        "id": "EEtgMqnL-xiu"
      },
      "outputs": [],
      "source": [
        "# Important features based on Chi2 is - 'test', 'plas', 'age', 'mass' & 'preg'\n",
        "# Important features based on RFE is - 'preg', 'mass' & 'pedi'\n",
        "# Important features based on Decision Tree is - 'plas', 'mass', 'pedi' & 'age'\n",
        "# Total important features - 'preg', 'plas', 'test', 'mass', 'pedi' & 'age'\n",
        "\n",
        "# 1st use decision tree model & findout what are the 4 important features\n",
        "# nest try with RFE. It will also add a couple of important features.\n",
        "# And then chi2 method and add the important features.\n",
        "# Build model with these important features and check the R2 value.\n",
        "# If we think that by adding any more variables will help iprove R2 value then add those features.\n",
        "\n",
        "# while working on project we can try checking the following R2 value and choose the best model accordingly\n",
        "# 1. Perform feature selection and check r2 value\n",
        "# 2. Perform PCA on whole data and check r2 value\n",
        "# 3. Perform PCA on selected features and check r2 value\n",
        "\n",
        "# Which ever is the best can be used\n"
      ]
    },
    {
      "cell_type": "code",
      "source": [],
      "metadata": {
        "id": "hyq_FOaR0ktx"
      },
      "execution_count": null,
      "outputs": []
    }
  ],
  "metadata": {
    "kernelspec": {
      "display_name": "Python 3",
      "language": "python",
      "name": "python3"
    },
    "language_info": {
      "codemirror_mode": {
        "name": "ipython",
        "version": 3
      },
      "file_extension": ".py",
      "mimetype": "text/x-python",
      "name": "python",
      "nbconvert_exporter": "python",
      "pygments_lexer": "ipython3",
      "version": "3.7.4"
    },
    "colab": {
      "provenance": [],
      "include_colab_link": true
    }
  },
  "nbformat": 4,
  "nbformat_minor": 0
}